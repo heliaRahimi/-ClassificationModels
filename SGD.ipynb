{
 "cells": [
  {
   "cell_type": "code",
   "execution_count": 1,
   "id": "7600bb4b",
   "metadata": {},
   "outputs": [],
   "source": [
    "import pandas as pd\n",
    "import numpy as np\n",
    "import matplotlib.pyplot as plt\n",
    "from sklearn import preprocessing"
   ]
  },
  {
   "cell_type": "code",
   "execution_count": 2,
   "id": "c09afc4c",
   "metadata": {},
   "outputs": [],
   "source": [
    "# preprocessing function\n",
    "def preprocessing_data(df: pd.DataFrame):\n",
    "    data = df.copy()\n",
    "    # drop NaN values for some columns\n",
    "    data = data.dropna(subset=['education_level','major_discipline', 'experience', 'last_new_job'])\n",
    "    # Replace other NaN with Unknown value \n",
    "    data = data.replace(np.nan,'Unknown')\n",
    "    # relevent_experience replace with 0 and 1, 1 for having experience and 0 for no experience\n",
    "    data['relevent_experience'] = data['relevent_experience'].replace(['Has relevent experience','No relevent experience'],[1,0])\n",
    "\n",
    "    # manually assign ordinal numbers to education_level and company_size\n",
    "    # for graduate level I will give 1 and for master 2 and for phd 3. Graduate level can be equals to masters and phd but usually people with phd would not represent themselves as graduate. \n",
    "    # any graduate level certificate can be considered as graduate so I will assign a lower number to graduate than masters. \n",
    "    # for company_size unknown will get 0.\n",
    "    \n",
    "    data['education_level'] = data['education_level'].replace(['Graduate','Masters','Phd'],[1,2,3])\n",
    "    data['company_size'] = data['company_size'].replace(['Unknown','<10', '10/49','50-99', '100-500','500-999','1000-4999','5000-9999','10000+'] ,range(0,9))\n",
    "\n",
    "    # convert experience and last_new_job to numeric values\n",
    "    data['experience'] = data['experience'].str.replace('>','').str.replace('<','')\n",
    "    data['experience'] = pd.to_numeric(data['experience'])\n",
    "\n",
    "    data['last_new_job'] = data['last_new_job'].str.replace('>','')\n",
    "    data['last_new_job'] = data['last_new_job'].replace('never',0)\n",
    "    data['last_new_job'] = pd.to_numeric(data['last_new_job'])\n",
    "\n",
    "    data = pd.get_dummies(data, columns = ['company_type', 'enrolled_university', 'gender', 'major_discipline','city'])\n",
    "    \n",
    "    #Normalize data using MinMaxScaler function of sci-kit leaern\n",
    "    x = data.values #returns a numpy array\n",
    "    min_max_scaler = preprocessing.MinMaxScaler()\n",
    "    x_scaled = min_max_scaler.fit_transform(x)\n",
    "    data_scaled = pd.DataFrame(x_scaled, columns = data.columns)\n",
    "    return(data_scaled)"
   ]
  },
  {
   "cell_type": "code",
   "execution_count": 3,
   "id": "64318787",
   "metadata": {},
   "outputs": [
    {
     "data": {
      "text/plain": [
       "(16007, 152)"
      ]
     },
     "execution_count": 3,
     "metadata": {},
     "output_type": "execute_result"
    }
   ],
   "source": [
    "raw_data =  pd.read_csv(\"resources/aug_train.csv\")\n",
    "processed_data = preprocessing_data(raw_data)\n",
    "training_df = processed_data.copy()\n",
    "training_df.shape"
   ]
  },
  {
   "cell_type": "code",
   "execution_count": 4,
   "id": "03666a7a",
   "metadata": {},
   "outputs": [
    {
     "data": {
      "text/html": [
       "<div>\n",
       "<style scoped>\n",
       "    .dataframe tbody tr th:only-of-type {\n",
       "        vertical-align: middle;\n",
       "    }\n",
       "\n",
       "    .dataframe tbody tr th {\n",
       "        vertical-align: top;\n",
       "    }\n",
       "\n",
       "    .dataframe thead th {\n",
       "        text-align: right;\n",
       "    }\n",
       "</style>\n",
       "<table border=\"1\" class=\"dataframe\">\n",
       "  <thead>\n",
       "    <tr style=\"text-align: right;\">\n",
       "      <th></th>\n",
       "      <th>enrollee_id</th>\n",
       "      <th>city_development_index</th>\n",
       "      <th>relevent_experience</th>\n",
       "      <th>education_level</th>\n",
       "      <th>experience</th>\n",
       "      <th>company_size</th>\n",
       "      <th>last_new_job</th>\n",
       "      <th>training_hours</th>\n",
       "      <th>target</th>\n",
       "      <th>company_type_Early Stage Startup</th>\n",
       "      <th>...</th>\n",
       "      <th>city_city_84</th>\n",
       "      <th>city_city_89</th>\n",
       "      <th>city_city_9</th>\n",
       "      <th>city_city_90</th>\n",
       "      <th>city_city_91</th>\n",
       "      <th>city_city_93</th>\n",
       "      <th>city_city_94</th>\n",
       "      <th>city_city_97</th>\n",
       "      <th>city_city_98</th>\n",
       "      <th>city_city_99</th>\n",
       "    </tr>\n",
       "  </thead>\n",
       "  <tbody>\n",
       "    <tr>\n",
       "      <th>0</th>\n",
       "      <td>0.268051</td>\n",
       "      <td>0.942116</td>\n",
       "      <td>1.0</td>\n",
       "      <td>0.0</td>\n",
       "      <td>1.000000</td>\n",
       "      <td>0.000</td>\n",
       "      <td>0.25</td>\n",
       "      <td>0.104478</td>\n",
       "      <td>1.0</td>\n",
       "      <td>0.0</td>\n",
       "      <td>...</td>\n",
       "      <td>0.0</td>\n",
       "      <td>0.0</td>\n",
       "      <td>0.0</td>\n",
       "      <td>0.0</td>\n",
       "      <td>0.0</td>\n",
       "      <td>0.0</td>\n",
       "      <td>0.0</td>\n",
       "      <td>0.0</td>\n",
       "      <td>0.0</td>\n",
       "      <td>0.0</td>\n",
       "    </tr>\n",
       "    <tr>\n",
       "      <th>1</th>\n",
       "      <td>0.890497</td>\n",
       "      <td>0.654691</td>\n",
       "      <td>0.0</td>\n",
       "      <td>0.0</td>\n",
       "      <td>0.736842</td>\n",
       "      <td>0.375</td>\n",
       "      <td>1.00</td>\n",
       "      <td>0.137313</td>\n",
       "      <td>0.0</td>\n",
       "      <td>0.0</td>\n",
       "      <td>...</td>\n",
       "      <td>0.0</td>\n",
       "      <td>0.0</td>\n",
       "      <td>0.0</td>\n",
       "      <td>0.0</td>\n",
       "      <td>0.0</td>\n",
       "      <td>0.0</td>\n",
       "      <td>0.0</td>\n",
       "      <td>0.0</td>\n",
       "      <td>0.0</td>\n",
       "      <td>0.0</td>\n",
       "    </tr>\n",
       "    <tr>\n",
       "      <th>2</th>\n",
       "      <td>0.346306</td>\n",
       "      <td>0.351297</td>\n",
       "      <td>0.0</td>\n",
       "      <td>0.0</td>\n",
       "      <td>0.210526</td>\n",
       "      <td>0.000</td>\n",
       "      <td>0.00</td>\n",
       "      <td>0.244776</td>\n",
       "      <td>0.0</td>\n",
       "      <td>0.0</td>\n",
       "      <td>...</td>\n",
       "      <td>0.0</td>\n",
       "      <td>0.0</td>\n",
       "      <td>0.0</td>\n",
       "      <td>0.0</td>\n",
       "      <td>0.0</td>\n",
       "      <td>0.0</td>\n",
       "      <td>0.0</td>\n",
       "      <td>0.0</td>\n",
       "      <td>0.0</td>\n",
       "      <td>0.0</td>\n",
       "    </tr>\n",
       "    <tr>\n",
       "      <th>3</th>\n",
       "      <td>0.995836</td>\n",
       "      <td>0.680639</td>\n",
       "      <td>0.0</td>\n",
       "      <td>0.0</td>\n",
       "      <td>0.000000</td>\n",
       "      <td>0.000</td>\n",
       "      <td>0.00</td>\n",
       "      <td>0.152239</td>\n",
       "      <td>1.0</td>\n",
       "      <td>0.0</td>\n",
       "      <td>...</td>\n",
       "      <td>0.0</td>\n",
       "      <td>0.0</td>\n",
       "      <td>0.0</td>\n",
       "      <td>0.0</td>\n",
       "      <td>0.0</td>\n",
       "      <td>0.0</td>\n",
       "      <td>0.0</td>\n",
       "      <td>0.0</td>\n",
       "      <td>0.0</td>\n",
       "      <td>0.0</td>\n",
       "    </tr>\n",
       "    <tr>\n",
       "      <th>4</th>\n",
       "      <td>0.019893</td>\n",
       "      <td>0.636727</td>\n",
       "      <td>1.0</td>\n",
       "      <td>0.5</td>\n",
       "      <td>1.000000</td>\n",
       "      <td>0.375</td>\n",
       "      <td>1.00</td>\n",
       "      <td>0.020896</td>\n",
       "      <td>0.0</td>\n",
       "      <td>0.0</td>\n",
       "      <td>...</td>\n",
       "      <td>0.0</td>\n",
       "      <td>0.0</td>\n",
       "      <td>0.0</td>\n",
       "      <td>0.0</td>\n",
       "      <td>0.0</td>\n",
       "      <td>0.0</td>\n",
       "      <td>0.0</td>\n",
       "      <td>0.0</td>\n",
       "      <td>0.0</td>\n",
       "      <td>0.0</td>\n",
       "    </tr>\n",
       "  </tbody>\n",
       "</table>\n",
       "<p>5 rows × 152 columns</p>\n",
       "</div>"
      ],
      "text/plain": [
       "   enrollee_id  city_development_index  relevent_experience  education_level  \\\n",
       "0     0.268051                0.942116                  1.0              0.0   \n",
       "1     0.890497                0.654691                  0.0              0.0   \n",
       "2     0.346306                0.351297                  0.0              0.0   \n",
       "3     0.995836                0.680639                  0.0              0.0   \n",
       "4     0.019893                0.636727                  1.0              0.5   \n",
       "\n",
       "   experience  company_size  last_new_job  training_hours  target  \\\n",
       "0    1.000000         0.000          0.25        0.104478     1.0   \n",
       "1    0.736842         0.375          1.00        0.137313     0.0   \n",
       "2    0.210526         0.000          0.00        0.244776     0.0   \n",
       "3    0.000000         0.000          0.00        0.152239     1.0   \n",
       "4    1.000000         0.375          1.00        0.020896     0.0   \n",
       "\n",
       "   company_type_Early Stage Startup  ...  city_city_84  city_city_89  \\\n",
       "0                               0.0  ...           0.0           0.0   \n",
       "1                               0.0  ...           0.0           0.0   \n",
       "2                               0.0  ...           0.0           0.0   \n",
       "3                               0.0  ...           0.0           0.0   \n",
       "4                               0.0  ...           0.0           0.0   \n",
       "\n",
       "   city_city_9  city_city_90  city_city_91  city_city_93  city_city_94  \\\n",
       "0          0.0           0.0           0.0           0.0           0.0   \n",
       "1          0.0           0.0           0.0           0.0           0.0   \n",
       "2          0.0           0.0           0.0           0.0           0.0   \n",
       "3          0.0           0.0           0.0           0.0           0.0   \n",
       "4          0.0           0.0           0.0           0.0           0.0   \n",
       "\n",
       "   city_city_97  city_city_98  city_city_99  \n",
       "0           0.0           0.0           0.0  \n",
       "1           0.0           0.0           0.0  \n",
       "2           0.0           0.0           0.0  \n",
       "3           0.0           0.0           0.0  \n",
       "4           0.0           0.0           0.0  \n",
       "\n",
       "[5 rows x 152 columns]"
      ]
     },
     "execution_count": 4,
     "metadata": {},
     "output_type": "execute_result"
    }
   ],
   "source": [
    "training_df.head()"
   ]
  },
  {
   "cell_type": "code",
   "execution_count": 5,
   "id": "de013e2f",
   "metadata": {},
   "outputs": [
    {
     "data": {
      "text/html": [
       "<div>\n",
       "<style scoped>\n",
       "    .dataframe tbody tr th:only-of-type {\n",
       "        vertical-align: middle;\n",
       "    }\n",
       "\n",
       "    .dataframe tbody tr th {\n",
       "        vertical-align: top;\n",
       "    }\n",
       "\n",
       "    .dataframe thead th {\n",
       "        text-align: right;\n",
       "    }\n",
       "</style>\n",
       "<table border=\"1\" class=\"dataframe\">\n",
       "  <thead>\n",
       "    <tr style=\"text-align: right;\">\n",
       "      <th></th>\n",
       "      <th>enrollee_id</th>\n",
       "      <th>city_development_index</th>\n",
       "      <th>relevent_experience</th>\n",
       "      <th>education_level</th>\n",
       "      <th>experience</th>\n",
       "      <th>company_size</th>\n",
       "      <th>last_new_job</th>\n",
       "      <th>training_hours</th>\n",
       "      <th>target</th>\n",
       "      <th>company_type_Early Stage Startup</th>\n",
       "      <th>...</th>\n",
       "      <th>city_city_84</th>\n",
       "      <th>city_city_89</th>\n",
       "      <th>city_city_9</th>\n",
       "      <th>city_city_90</th>\n",
       "      <th>city_city_91</th>\n",
       "      <th>city_city_93</th>\n",
       "      <th>city_city_94</th>\n",
       "      <th>city_city_97</th>\n",
       "      <th>city_city_98</th>\n",
       "      <th>city_city_99</th>\n",
       "    </tr>\n",
       "  </thead>\n",
       "  <tbody>\n",
       "    <tr>\n",
       "      <th>count</th>\n",
       "      <td>16007.000000</td>\n",
       "      <td>16007.000000</td>\n",
       "      <td>16007.000000</td>\n",
       "      <td>16007.000000</td>\n",
       "      <td>16007.000000</td>\n",
       "      <td>16007.000000</td>\n",
       "      <td>16007.000000</td>\n",
       "      <td>16007.000000</td>\n",
       "      <td>16007.000000</td>\n",
       "      <td>16007.000000</td>\n",
       "      <td>...</td>\n",
       "      <td>16007.000000</td>\n",
       "      <td>16007.000000</td>\n",
       "      <td>16007.000000</td>\n",
       "      <td>16007.000000</td>\n",
       "      <td>16007.000000</td>\n",
       "      <td>16007.000000</td>\n",
       "      <td>16007.000000</td>\n",
       "      <td>16007.000000</td>\n",
       "      <td>16007.000000</td>\n",
       "      <td>16007.000000</td>\n",
       "    </tr>\n",
       "    <tr>\n",
       "      <th>mean</th>\n",
       "      <td>0.506736</td>\n",
       "      <td>0.762244</td>\n",
       "      <td>0.781158</td>\n",
       "      <td>0.158806</td>\n",
       "      <td>0.505772</td>\n",
       "      <td>0.400606</td>\n",
       "      <td>0.486693</td>\n",
       "      <td>0.191755</td>\n",
       "      <td>0.255451</td>\n",
       "      <td>0.032236</td>\n",
       "      <td>...</td>\n",
       "      <td>0.001312</td>\n",
       "      <td>0.003561</td>\n",
       "      <td>0.000750</td>\n",
       "      <td>0.010308</td>\n",
       "      <td>0.002062</td>\n",
       "      <td>0.001125</td>\n",
       "      <td>0.001374</td>\n",
       "      <td>0.005373</td>\n",
       "      <td>0.004248</td>\n",
       "      <td>0.004748</td>\n",
       "    </tr>\n",
       "    <tr>\n",
       "      <th>std</th>\n",
       "      <td>0.289573</td>\n",
       "      <td>0.245885</td>\n",
       "      <td>0.413474</td>\n",
       "      <td>0.258531</td>\n",
       "      <td>0.338182</td>\n",
       "      <td>0.332819</td>\n",
       "      <td>0.339206</td>\n",
       "      <td>0.179169</td>\n",
       "      <td>0.436128</td>\n",
       "      <td>0.176632</td>\n",
       "      <td>...</td>\n",
       "      <td>0.036198</td>\n",
       "      <td>0.059569</td>\n",
       "      <td>0.027371</td>\n",
       "      <td>0.101007</td>\n",
       "      <td>0.045359</td>\n",
       "      <td>0.033516</td>\n",
       "      <td>0.037049</td>\n",
       "      <td>0.073103</td>\n",
       "      <td>0.065041</td>\n",
       "      <td>0.068744</td>\n",
       "    </tr>\n",
       "    <tr>\n",
       "      <th>min</th>\n",
       "      <td>0.000000</td>\n",
       "      <td>0.000000</td>\n",
       "      <td>0.000000</td>\n",
       "      <td>0.000000</td>\n",
       "      <td>0.000000</td>\n",
       "      <td>0.000000</td>\n",
       "      <td>0.000000</td>\n",
       "      <td>0.000000</td>\n",
       "      <td>0.000000</td>\n",
       "      <td>0.000000</td>\n",
       "      <td>...</td>\n",
       "      <td>0.000000</td>\n",
       "      <td>0.000000</td>\n",
       "      <td>0.000000</td>\n",
       "      <td>0.000000</td>\n",
       "      <td>0.000000</td>\n",
       "      <td>0.000000</td>\n",
       "      <td>0.000000</td>\n",
       "      <td>0.000000</td>\n",
       "      <td>0.000000</td>\n",
       "      <td>0.000000</td>\n",
       "    </tr>\n",
       "    <tr>\n",
       "      <th>25%</th>\n",
       "      <td>0.256861</td>\n",
       "      <td>0.587824</td>\n",
       "      <td>1.000000</td>\n",
       "      <td>0.000000</td>\n",
       "      <td>0.210526</td>\n",
       "      <td>0.000000</td>\n",
       "      <td>0.250000</td>\n",
       "      <td>0.065672</td>\n",
       "      <td>0.000000</td>\n",
       "      <td>0.000000</td>\n",
       "      <td>...</td>\n",
       "      <td>0.000000</td>\n",
       "      <td>0.000000</td>\n",
       "      <td>0.000000</td>\n",
       "      <td>0.000000</td>\n",
       "      <td>0.000000</td>\n",
       "      <td>0.000000</td>\n",
       "      <td>0.000000</td>\n",
       "      <td>0.000000</td>\n",
       "      <td>0.000000</td>\n",
       "      <td>0.000000</td>\n",
       "    </tr>\n",
       "    <tr>\n",
       "      <th>50%</th>\n",
       "      <td>0.509947</td>\n",
       "      <td>0.922156</td>\n",
       "      <td>1.000000</td>\n",
       "      <td>0.000000</td>\n",
       "      <td>0.421053</td>\n",
       "      <td>0.375000</td>\n",
       "      <td>0.250000</td>\n",
       "      <td>0.137313</td>\n",
       "      <td>0.000000</td>\n",
       "      <td>0.000000</td>\n",
       "      <td>...</td>\n",
       "      <td>0.000000</td>\n",
       "      <td>0.000000</td>\n",
       "      <td>0.000000</td>\n",
       "      <td>0.000000</td>\n",
       "      <td>0.000000</td>\n",
       "      <td>0.000000</td>\n",
       "      <td>0.000000</td>\n",
       "      <td>0.000000</td>\n",
       "      <td>0.000000</td>\n",
       "      <td>0.000000</td>\n",
       "    </tr>\n",
       "    <tr>\n",
       "      <th>75%</th>\n",
       "      <td>0.758464</td>\n",
       "      <td>0.942116</td>\n",
       "      <td>1.000000</td>\n",
       "      <td>0.500000</td>\n",
       "      <td>0.842105</td>\n",
       "      <td>0.625000</td>\n",
       "      <td>1.000000</td>\n",
       "      <td>0.259701</td>\n",
       "      <td>1.000000</td>\n",
       "      <td>0.000000</td>\n",
       "      <td>...</td>\n",
       "      <td>0.000000</td>\n",
       "      <td>0.000000</td>\n",
       "      <td>0.000000</td>\n",
       "      <td>0.000000</td>\n",
       "      <td>0.000000</td>\n",
       "      <td>0.000000</td>\n",
       "      <td>0.000000</td>\n",
       "      <td>0.000000</td>\n",
       "      <td>0.000000</td>\n",
       "      <td>0.000000</td>\n",
       "    </tr>\n",
       "    <tr>\n",
       "      <th>max</th>\n",
       "      <td>1.000000</td>\n",
       "      <td>1.000000</td>\n",
       "      <td>1.000000</td>\n",
       "      <td>1.000000</td>\n",
       "      <td>1.000000</td>\n",
       "      <td>1.000000</td>\n",
       "      <td>1.000000</td>\n",
       "      <td>1.000000</td>\n",
       "      <td>1.000000</td>\n",
       "      <td>1.000000</td>\n",
       "      <td>...</td>\n",
       "      <td>1.000000</td>\n",
       "      <td>1.000000</td>\n",
       "      <td>1.000000</td>\n",
       "      <td>1.000000</td>\n",
       "      <td>1.000000</td>\n",
       "      <td>1.000000</td>\n",
       "      <td>1.000000</td>\n",
       "      <td>1.000000</td>\n",
       "      <td>1.000000</td>\n",
       "      <td>1.000000</td>\n",
       "    </tr>\n",
       "  </tbody>\n",
       "</table>\n",
       "<p>8 rows × 152 columns</p>\n",
       "</div>"
      ],
      "text/plain": [
       "        enrollee_id  city_development_index  relevent_experience  \\\n",
       "count  16007.000000            16007.000000         16007.000000   \n",
       "mean       0.506736                0.762244             0.781158   \n",
       "std        0.289573                0.245885             0.413474   \n",
       "min        0.000000                0.000000             0.000000   \n",
       "25%        0.256861                0.587824             1.000000   \n",
       "50%        0.509947                0.922156             1.000000   \n",
       "75%        0.758464                0.942116             1.000000   \n",
       "max        1.000000                1.000000             1.000000   \n",
       "\n",
       "       education_level    experience  company_size  last_new_job  \\\n",
       "count     16007.000000  16007.000000  16007.000000  16007.000000   \n",
       "mean          0.158806      0.505772      0.400606      0.486693   \n",
       "std           0.258531      0.338182      0.332819      0.339206   \n",
       "min           0.000000      0.000000      0.000000      0.000000   \n",
       "25%           0.000000      0.210526      0.000000      0.250000   \n",
       "50%           0.000000      0.421053      0.375000      0.250000   \n",
       "75%           0.500000      0.842105      0.625000      1.000000   \n",
       "max           1.000000      1.000000      1.000000      1.000000   \n",
       "\n",
       "       training_hours        target  company_type_Early Stage Startup  ...  \\\n",
       "count    16007.000000  16007.000000                      16007.000000  ...   \n",
       "mean         0.191755      0.255451                          0.032236  ...   \n",
       "std          0.179169      0.436128                          0.176632  ...   \n",
       "min          0.000000      0.000000                          0.000000  ...   \n",
       "25%          0.065672      0.000000                          0.000000  ...   \n",
       "50%          0.137313      0.000000                          0.000000  ...   \n",
       "75%          0.259701      1.000000                          0.000000  ...   \n",
       "max          1.000000      1.000000                          1.000000  ...   \n",
       "\n",
       "       city_city_84  city_city_89   city_city_9  city_city_90  city_city_91  \\\n",
       "count  16007.000000  16007.000000  16007.000000  16007.000000  16007.000000   \n",
       "mean       0.001312      0.003561      0.000750      0.010308      0.002062   \n",
       "std        0.036198      0.059569      0.027371      0.101007      0.045359   \n",
       "min        0.000000      0.000000      0.000000      0.000000      0.000000   \n",
       "25%        0.000000      0.000000      0.000000      0.000000      0.000000   \n",
       "50%        0.000000      0.000000      0.000000      0.000000      0.000000   \n",
       "75%        0.000000      0.000000      0.000000      0.000000      0.000000   \n",
       "max        1.000000      1.000000      1.000000      1.000000      1.000000   \n",
       "\n",
       "       city_city_93  city_city_94  city_city_97  city_city_98  city_city_99  \n",
       "count  16007.000000  16007.000000  16007.000000  16007.000000  16007.000000  \n",
       "mean       0.001125      0.001374      0.005373      0.004248      0.004748  \n",
       "std        0.033516      0.037049      0.073103      0.065041      0.068744  \n",
       "min        0.000000      0.000000      0.000000      0.000000      0.000000  \n",
       "25%        0.000000      0.000000      0.000000      0.000000      0.000000  \n",
       "50%        0.000000      0.000000      0.000000      0.000000      0.000000  \n",
       "75%        0.000000      0.000000      0.000000      0.000000      0.000000  \n",
       "max        1.000000      1.000000      1.000000      1.000000      1.000000  \n",
       "\n",
       "[8 rows x 152 columns]"
      ]
     },
     "execution_count": 5,
     "metadata": {},
     "output_type": "execute_result"
    }
   ],
   "source": [
    "training_df.describe()"
   ]
  },
  {
   "cell_type": "code",
   "execution_count": 6,
   "id": "6c422de4",
   "metadata": {},
   "outputs": [],
   "source": [
    "from sklearn.model_selection import train_test_split"
   ]
  },
  {
   "cell_type": "code",
   "execution_count": 7,
   "id": "ebd2b8d4",
   "metadata": {},
   "outputs": [],
   "source": [
    "X_train, X_test, y_train, y_test = train_test_split(training_df.drop('target',axis=1), \n",
    "                                                    training_df['target'], test_size=0.20, \n",
    "                                                    random_state=42)"
   ]
  },
  {
   "cell_type": "code",
   "execution_count": 8,
   "id": "bbe49338",
   "metadata": {},
   "outputs": [],
   "source": [
    "from sklearn.linear_model import SGDClassifier\n",
    "from sklearn.metrics import accuracy_score\n",
    "from sklearn.metrics import confusion_matrix , recall_score, precision_score"
   ]
  },
  {
   "cell_type": "code",
   "execution_count": 9,
   "id": "5da13b6d",
   "metadata": {},
   "outputs": [],
   "source": [
    "#Usign SGD to model dataset\n",
    "SGD_model = SGDClassifier(max_iter=1000, tol=1e-3) "
   ]
  },
  {
   "cell_type": "code",
   "execution_count": 10,
   "id": "ec5c7990",
   "metadata": {},
   "outputs": [
    {
     "data": {
      "text/plain": [
       "SGDClassifier()"
      ]
     },
     "execution_count": 10,
     "metadata": {},
     "output_type": "execute_result"
    }
   ],
   "source": [
    "SGD_model.fit(X_train, y_train)"
   ]
  },
  {
   "cell_type": "code",
   "execution_count": 11,
   "id": "163ee0d8",
   "metadata": {},
   "outputs": [],
   "source": [
    "SGD_predictions = SGD_model.predict(X_test)"
   ]
  },
  {
   "cell_type": "code",
   "execution_count": 12,
   "id": "997a99d2",
   "metadata": {},
   "outputs": [
    {
     "name": "stdout",
     "output_type": "stream",
     "text": [
      "confusion matrix is: \n",
      " [[2129  224]\n",
      " [ 518  331]]\n"
     ]
    }
   ],
   "source": [
    "print(\"confusion matrix is: \\n\", confusion_matrix(y_test,SGD_predictions))"
   ]
  },
  {
   "cell_type": "code",
   "execution_count": 13,
   "id": "a3b59f1f",
   "metadata": {},
   "outputs": [
    {
     "name": "stdout",
     "output_type": "stream",
     "text": [
      "Accuracy score is:  0.7682698313554028 \n",
      "Precision is :  0.5963963963963964 \n",
      "Recall score is:  0.38987043580683156\n"
     ]
    }
   ],
   "source": [
    "print(\"Accuracy score is: \" ,accuracy_score(SGD_predictions, y_test), '\\nPrecision is : ',precision_score(y_test,SGD_predictions),'\\nRecall score is: ' ,recall_score(y_test,SGD_predictions))"
   ]
  },
  {
   "cell_type": "code",
   "execution_count": 14,
   "id": "7f2a7b65",
   "metadata": {},
   "outputs": [
    {
     "data": {
      "image/png": "[encoded data removed]",
      "text/plain": [
       "<Figure size 432x288 with 2 Axes>"
      ]
     },
     "metadata": {
      "needs_background": "light"
     },
     "output_type": "display_data"
    }
   ],
   "source": [
    "from sklearn.metrics import ConfusionMatrixDisplay\n",
    "ConfusionMatrixDisplay(confusion_matrix=confusion_matrix(y_test, SGD_predictions)).plot();"
   ]
  },
  {
   "cell_type": "code",
   "execution_count": 15,
   "id": "64e53f61",
   "metadata": {},
   "outputs": [],
   "source": [
    "#Usign GridSearchCV to tune parameters\n",
    "from sklearn.model_selection import GridSearchCV"
   ]
  },
  {
   "cell_type": "code",
   "execution_count": 16,
   "id": "43bfd987",
   "metadata": {},
   "outputs": [],
   "source": [
    "param_grid = {'loss': ['hinge', 'log', 'perceptron','squared_error','huber','epsilon_insensitive'], 'penalty': ['l1', 'l2','elasticnet'], 'alpha': [0.0001,0.1,100.0],'random_state': [1, None], 'max_iter': [100,1000,5000]}"
   ]
  },
  {
   "cell_type": "code",
   "execution_count": 17,
   "id": "f0d1f923",
   "metadata": {},
   "outputs": [],
   "source": [
    "grid = GridSearchCV(SGDClassifier(),param_grid,refit=True,verbose=3)"
   ]
  },
  {
   "cell_type": "code",
   "execution_count": 18,
   "id": "762a9f1f",
   "metadata": {},
   "outputs": [
    {
     "name": "stdout",
     "output_type": "stream",
     "text": [
      "Fitting 5 folds for each of 324 candidates, totalling 1620 fits\n",
      "[CV 1/5] END alpha=0.0001, loss=hinge, max_iter=100, penalty=l1, random_state=1;, score=0.783 total time=   0.5s\n",
      "[CV 2/5] END alpha=0.0001, loss=hinge, max_iter=100, penalty=l1, random_state=1;, score=0.768 total time=   0.4s\n",
      "[CV 3/5] END alpha=0.0001, loss=hinge, max_iter=100, penalty=l1, random_state=1;, score=0.781 total time=   0.5s\n",
      "[CV 4/5] END alpha=0.0001, loss=hinge, max_iter=100, penalty=l1, random_state=1;, score=0.772 total time=   0.4s\n",
      "[CV 5/5] END alpha=0.0001, loss=hinge, max_iter=100, penalty=l1, random_state=1;, score=0.781 total time=   0.4s\n",
      "[CV 1/5] END alpha=0.0001, loss=hinge, max_iter=100, penalty=l1, random_state=None;, score=0.785 total time=   0.5s\n",
      "[CV 2/5] END alpha=0.0001, loss=hinge, max_iter=100, penalty=l1, random_state=None;, score=0.767 total time=   0.4s\n",
      "[CV 3/5] END alpha=0.0001, loss=hinge, max_iter=100, penalty=l1, random_state=None;, score=0.781 total time=   0.3s\n",
      "[CV 4/5] END alpha=0.0001, loss=hinge, max_iter=100, penalty=l1, random_state=None;, score=0.772 total time=   0.3s\n",
      "[CV 5/5] END alpha=0.0001, loss=hinge, max_iter=100, penalty=l1, random_state=None;, score=0.782 total time=   0.5s\n",
      "[CV 1/5] END alpha=0.0001, loss=hinge, max_iter=100, penalty=l2, random_state=1;, score=0.786 total time=   0.2s\n",
      "[CV 2/5] END alpha=0.0001, loss=hinge, max_iter=100, penalty=l2, random_state=1;, score=0.769 total time=   0.2s\n",
      "[CV 3/5] END alpha=0.0001, loss=hinge, max_iter=100, penalty=l2, random_state=1;, score=0.783 total time=   0.3s\n",
      "[CV 4/5] END alpha=0.0001, loss=hinge, max_iter=100, penalty=l2, random_state=1;, score=0.774 total time=   0.3s\n",
      "[CV 5/5] END alpha=0.0001, loss=hinge, max_iter=100, penalty=l2, random_state=1;, score=0.780 total time=   0.3s\n",
      "[CV 1/5] END alpha=0.0001, loss=hinge, max_iter=100, penalty=l2, random_state=None;, score=0.785 total time=   0.2s\n",
      "[CV 2/5] END alpha=0.0001, loss=hinge, max_iter=100, penalty=l2, random_state=None;, score=0.770 total time=   0.2s\n",
      "[CV 3/5] END alpha=0.0001, loss=hinge, max_iter=100, penalty=l2, random_state=None;, score=0.783 total time=   0.2s\n",
      "[CV 4/5] END alpha=0.0001, loss=hinge, max_iter=100, penalty=l2, random_state=None;, score=0.774 total time=   0.3s\n",
      "[CV 5/5] END alpha=0.0001, loss=hinge, max_iter=100, penalty=l2, random_state=None;, score=0.780 total time=   0.3s\n",
      "[CV 1/5] END alpha=0.0001, loss=hinge, max_iter=100, penalty=elasticnet, random_state=1;, score=0.786 total time=   0.3s\n",
      "[CV 2/5] END alpha=0.0001, loss=hinge, max_iter=100, penalty=elasticnet, random_state=1;, score=0.769 total time=   0.4s\n",
      "[CV 3/5] END alpha=0.0001, loss=hinge, max_iter=100, penalty=elasticnet, random_state=1;, score=0.782 total time=   0.4s\n",
      "[CV 4/5] END alpha=0.0001, loss=hinge, max_iter=100, penalty=elasticnet, random_state=1;, score=0.775 total time=   0.4s\n",
      "[CV 5/5] END alpha=0.0001, loss=hinge, max_iter=100, penalty=elasticnet, random_state=1;, score=0.780 total time=   0.4s\n",
      "[CV 1/5] END alpha=0.0001, loss=hinge, max_iter=100, penalty=elasticnet, random_state=None;, score=0.786 total time=   0.5s\n",
      "[CV 2/5] END alpha=0.0001, loss=hinge, max_iter=100, penalty=elasticnet, random_state=None;, score=0.769 total time=   0.6s\n",
      "[CV 3/5] END alpha=0.0001, loss=hinge, max_iter=100, penalty=elasticnet, random_state=None;, score=0.782 total time=   0.5s\n",
      "[CV 4/5] END alpha=0.0001, loss=hinge, max_iter=100, penalty=elasticnet, random_state=None;, score=0.774 total time=   0.5s\n",
      "[CV 5/5] END alpha=0.0001, loss=hinge, max_iter=100, penalty=elasticnet, random_state=None;, score=0.780 total time=   0.4s\n",
      "[CV 1/5] END alpha=0.0001, loss=hinge, max_iter=1000, penalty=l1, random_state=1;, score=0.783 total time=   0.4s\n",
      "[CV 2/5] END alpha=0.0001, loss=hinge, max_iter=1000, penalty=l1, random_state=1;, score=0.768 total time=   0.4s\n",
      "[CV 3/5] END alpha=0.0001, loss=hinge, max_iter=1000, penalty=l1, random_state=1;, score=0.781 total time=   0.4s\n",
      "[CV 4/5] END alpha=0.0001, loss=hinge, max_iter=1000, penalty=l1, random_state=1;, score=0.772 total time=   0.4s\n",
      "[CV 5/5] END alpha=0.0001, loss=hinge, max_iter=1000, penalty=l1, random_state=1;, score=0.781 total time=   0.4s\n",
      "[CV 1/5] END alpha=0.0001, loss=hinge, max_iter=1000, penalty=l1, random_state=None;, score=0.784 total time=   0.4s\n",
      "[CV 2/5] END alpha=0.0001, loss=hinge, max_iter=1000, penalty=l1, random_state=None;, score=0.767 total time=   0.4s\n",
      "[CV 3/5] END alpha=0.0001, loss=hinge, max_iter=1000, penalty=l1, random_state=None;, score=0.781 total time=   0.3s\n",
      "[CV 4/5] END alpha=0.0001, loss=hinge, max_iter=1000, penalty=l1, random_state=None;, score=0.772 total time=   0.4s\n",
      "[CV 5/5] END alpha=0.0001, loss=hinge, max_iter=1000, penalty=l1, random_state=None;, score=0.781 total time=   0.4s\n",
      "[CV 1/5] END alpha=0.0001, loss=hinge, max_iter=1000, penalty=l2, random_state=1;, score=0.786 total time=   0.2s\n",
      "[CV 2/5] END alpha=0.0001, loss=hinge, max_iter=1000, penalty=l2, random_state=1;, score=0.769 total time=   0.2s\n",
      "[CV 3/5] END alpha=0.0001, loss=hinge, max_iter=1000, penalty=l2, random_state=1;, score=0.783 total time=   0.3s\n",
      "[CV 4/5] END alpha=0.0001, loss=hinge, max_iter=1000, penalty=l2, random_state=1;, score=0.774 total time=   0.2s\n",
      "[CV 5/5] END alpha=0.0001, loss=hinge, max_iter=1000, penalty=l2, random_state=1;, score=0.780 total time=   0.2s\n",
      "[CV 1/5] END alpha=0.0001, loss=hinge, max_iter=1000, penalty=l2, random_state=None;, score=0.786 total time=   0.3s\n",
      "[CV 2/5] END alpha=0.0001, loss=hinge, max_iter=1000, penalty=l2, random_state=None;, score=0.770 total time=   0.2s\n",
      "[CV 3/5] END alpha=0.0001, loss=hinge, max_iter=1000, penalty=l2, random_state=None;, score=0.782 total time=   0.2s\n",
      "[CV 4/5] END alpha=0.0001, loss=hinge, max_iter=1000, penalty=l2, random_state=None;, score=0.774 total time=   0.3s\n",
      "[CV 5/5] END alpha=0.0001, loss=hinge, max_iter=1000, penalty=l2, random_state=None;, score=0.780 total time=   0.3s\n",
      "[CV 1/5] END alpha=0.0001, loss=hinge, max_iter=1000, penalty=elasticnet, random_state=1;, score=0.786 total time=   0.3s\n",
      "[CV 2/5] END alpha=0.0001, loss=hinge, max_iter=1000, penalty=elasticnet, random_state=1;, score=0.769 total time=   0.3s\n",
      "[CV 3/5] END alpha=0.0001, loss=hinge, max_iter=1000, penalty=elasticnet, random_state=1;, score=0.782 total time=   0.3s\n",
      "[CV 4/5] END alpha=0.0001, loss=hinge, max_iter=1000, penalty=elasticnet, random_state=1;, score=0.775 total time=   0.3s\n",
      "[CV 5/5] END alpha=0.0001, loss=hinge, max_iter=1000, penalty=elasticnet, random_state=1;, score=0.780 total time=   0.4s\n",
      "[CV 1/5] END alpha=0.0001, loss=hinge, max_iter=1000, penalty=elasticnet, random_state=None;, score=0.786 total time=   0.5s\n",
      "[CV 2/5] END alpha=0.0001, loss=hinge, max_iter=1000, penalty=elasticnet, random_state=None;, score=0.769 total time=   0.5s\n",
      "[CV 3/5] END alpha=0.0001, loss=hinge, max_iter=1000, penalty=elasticnet, random_state=None;, score=0.781 total time=   0.4s\n",
      "[CV 4/5] END alpha=0.0001, loss=hinge, max_iter=1000, penalty=elasticnet, random_state=None;, score=0.775 total time=   0.3s\n",
      "[CV 5/5] END alpha=0.0001, loss=hinge, max_iter=1000, penalty=elasticnet, random_state=None;, score=0.780 total time=   0.5s\n",
      "[CV 1/5] END alpha=0.0001, loss=hinge, max_iter=5000, penalty=l1, random_state=1;, score=0.783 total time=   0.5s\n",
      "[CV 2/5] END alpha=0.0001, loss=hinge, max_iter=5000, penalty=l1, random_state=1;, score=0.768 total time=   0.4s\n",
      "[CV 3/5] END alpha=0.0001, loss=hinge, max_iter=5000, penalty=l1, random_state=1;, score=0.781 total time=   0.4s\n",
      "[CV 4/5] END alpha=0.0001, loss=hinge, max_iter=5000, penalty=l1, random_state=1;, score=0.772 total time=   0.4s\n",
      "[CV 5/5] END alpha=0.0001, loss=hinge, max_iter=5000, penalty=l1, random_state=1;, score=0.781 total time=   0.5s\n",
      "[CV 1/5] END alpha=0.0001, loss=hinge, max_iter=5000, penalty=l1, random_state=None;, score=0.783 total time=   0.4s\n",
      "[CV 2/5] END alpha=0.0001, loss=hinge, max_iter=5000, penalty=l1, random_state=None;, score=0.768 total time=   0.4s\n",
      "[CV 3/5] END alpha=0.0001, loss=hinge, max_iter=5000, penalty=l1, random_state=None;, score=0.781 total time=   0.4s\n",
      "[CV 4/5] END alpha=0.0001, loss=hinge, max_iter=5000, penalty=l1, random_state=None;, score=0.772 total time=   0.3s\n",
      "[CV 5/5] END alpha=0.0001, loss=hinge, max_iter=5000, penalty=l1, random_state=None;, score=0.781 total time=   0.4s\n"
     ]
    },
    {
     "name": "stdout",
     "output_type": "stream",
     "text": [
      "[CV 1/5] END alpha=0.0001, loss=hinge, max_iter=5000, penalty=l2, random_state=1;, score=0.786 total time=   0.3s\n",
      "[CV 2/5] END alpha=0.0001, loss=hinge, max_iter=5000, penalty=l2, random_state=1;, score=0.769 total time=   0.2s\n",
      "[CV 3/5] END alpha=0.0001, loss=hinge, max_iter=5000, penalty=l2, random_state=1;, score=0.783 total time=   0.3s\n",
      "[CV 4/5] END alpha=0.0001, loss=hinge, max_iter=5000, penalty=l2, random_state=1;, score=0.774 total time=   0.2s\n",
      "[CV 5/5] END alpha=0.0001, loss=hinge, max_iter=5000, penalty=l2, random_state=1;, score=0.780 total time=   0.2s\n",
      "[CV 1/5] END alpha=0.0001, loss=hinge, max_iter=5000, penalty=l2, random_state=None;, score=0.786 total time=   0.3s\n",
      "[CV 2/5] END alpha=0.0001, loss=hinge, max_iter=5000, penalty=l2, random_state=None;, score=0.770 total time=   0.2s\n",
      "[CV 3/5] END alpha=0.0001, loss=hinge, max_iter=5000, penalty=l2, random_state=None;, score=0.782 total time=   0.3s\n",
      "[CV 4/5] END alpha=0.0001, loss=hinge, max_iter=5000, penalty=l2, random_state=None;, score=0.774 total time=   0.2s\n",
      "[CV 5/5] END alpha=0.0001, loss=hinge, max_iter=5000, penalty=l2, random_state=None;, score=0.780 total time=   0.3s\n",
      "[CV 1/5] END alpha=0.0001, loss=hinge, max_iter=5000, penalty=elasticnet, random_state=1;, score=0.786 total time=   0.3s\n",
      "[CV 2/5] END alpha=0.0001, loss=hinge, max_iter=5000, penalty=elasticnet, random_state=1;, score=0.769 total time=   0.3s\n",
      "[CV 3/5] END alpha=0.0001, loss=hinge, max_iter=5000, penalty=elasticnet, random_state=1;, score=0.782 total time=   0.3s\n",
      "[CV 4/5] END alpha=0.0001, loss=hinge, max_iter=5000, penalty=elasticnet, random_state=1;, score=0.775 total time=   0.4s\n",
      "[CV 5/5] END alpha=0.0001, loss=hinge, max_iter=5000, penalty=elasticnet, random_state=1;, score=0.780 total time=   0.4s\n",
      "[CV 1/5] END alpha=0.0001, loss=hinge, max_iter=5000, penalty=elasticnet, random_state=None;, score=0.786 total time=   0.4s\n",
      "[CV 2/5] END alpha=0.0001, loss=hinge, max_iter=5000, penalty=elasticnet, random_state=None;, score=0.769 total time=   0.5s\n",
      "[CV 3/5] END alpha=0.0001, loss=hinge, max_iter=5000, penalty=elasticnet, random_state=None;, score=0.781 total time=   0.5s\n",
      "[CV 4/5] END alpha=0.0001, loss=hinge, max_iter=5000, penalty=elasticnet, random_state=None;, score=0.774 total time=   0.4s\n",
      "[CV 5/5] END alpha=0.0001, loss=hinge, max_iter=5000, penalty=elasticnet, random_state=None;, score=0.780 total time=   0.5s\n",
      "[CV 1/5] END alpha=0.0001, loss=log, max_iter=100, penalty=l1, random_state=1;, score=0.768 total time=   0.3s\n",
      "[CV 2/5] END alpha=0.0001, loss=log, max_iter=100, penalty=l1, random_state=1;, score=0.764 total time=   0.3s\n",
      "[CV 3/5] END alpha=0.0001, loss=log, max_iter=100, penalty=l1, random_state=1;, score=0.773 total time=   0.3s\n",
      "[CV 4/5] END alpha=0.0001, loss=log, max_iter=100, penalty=l1, random_state=1;, score=0.772 total time=   0.2s\n",
      "[CV 5/5] END alpha=0.0001, loss=log, max_iter=100, penalty=l1, random_state=1;, score=0.757 total time=   0.2s\n",
      "[CV 1/5] END alpha=0.0001, loss=log, max_iter=100, penalty=l1, random_state=None;, score=0.790 total time=   0.3s\n",
      "[CV 2/5] END alpha=0.0001, loss=log, max_iter=100, penalty=l1, random_state=None;, score=0.773 total time=   0.3s\n",
      "[CV 3/5] END alpha=0.0001, loss=log, max_iter=100, penalty=l1, random_state=None;, score=0.777 total time=   0.3s\n",
      "[CV 4/5] END alpha=0.0001, loss=log, max_iter=100, penalty=l1, random_state=None;, score=0.792 total time=   0.3s\n",
      "[CV 5/5] END alpha=0.0001, loss=log, max_iter=100, penalty=l1, random_state=None;, score=0.762 total time=   0.2s\n",
      "[CV 1/5] END alpha=0.0001, loss=log, max_iter=100, penalty=l2, random_state=1;, score=0.764 total time=   0.2s\n",
      "[CV 2/5] END alpha=0.0001, loss=log, max_iter=100, penalty=l2, random_state=1;, score=0.763 total time=   0.2s\n",
      "[CV 3/5] END alpha=0.0001, loss=log, max_iter=100, penalty=l2, random_state=1;, score=0.770 total time=   0.1s\n",
      "[CV 4/5] END alpha=0.0001, loss=log, max_iter=100, penalty=l2, random_state=1;, score=0.763 total time=   0.2s\n",
      "[CV 5/5] END alpha=0.0001, loss=log, max_iter=100, penalty=l2, random_state=1;, score=0.760 total time=   0.2s\n",
      "[CV 1/5] END alpha=0.0001, loss=log, max_iter=100, penalty=l2, random_state=None;, score=0.772 total time=   0.1s\n",
      "[CV 2/5] END alpha=0.0001, loss=log, max_iter=100, penalty=l2, random_state=None;, score=0.769 total time=   0.1s\n",
      "[CV 3/5] END alpha=0.0001, loss=log, max_iter=100, penalty=l2, random_state=None;, score=0.767 total time=   0.2s\n",
      "[CV 4/5] END alpha=0.0001, loss=log, max_iter=100, penalty=l2, random_state=None;, score=0.765 total time=   0.2s\n",
      "[CV 5/5] END alpha=0.0001, loss=log, max_iter=100, penalty=l2, random_state=None;, score=0.769 total time=   0.2s\n",
      "[CV 1/5] END alpha=0.0001, loss=log, max_iter=100, penalty=elasticnet, random_state=1;, score=0.772 total time=   0.4s\n",
      "[CV 2/5] END alpha=0.0001, loss=log, max_iter=100, penalty=elasticnet, random_state=1;, score=0.765 total time=   0.4s\n",
      "[CV 3/5] END alpha=0.0001, loss=log, max_iter=100, penalty=elasticnet, random_state=1;, score=0.770 total time=   0.3s\n",
      "[CV 4/5] END alpha=0.0001, loss=log, max_iter=100, penalty=elasticnet, random_state=1;, score=0.762 total time=   0.3s\n",
      "[CV 5/5] END alpha=0.0001, loss=log, max_iter=100, penalty=elasticnet, random_state=1;, score=0.758 total time=   0.3s\n",
      "[CV 1/5] END alpha=0.0001, loss=log, max_iter=100, penalty=elasticnet, random_state=None;, score=0.795 total time=   0.3s\n",
      "[CV 2/5] END alpha=0.0001, loss=log, max_iter=100, penalty=elasticnet, random_state=None;, score=0.780 total time=   0.2s\n",
      "[CV 3/5] END alpha=0.0001, loss=log, max_iter=100, penalty=elasticnet, random_state=None;, score=0.774 total time=   0.3s\n",
      "[CV 4/5] END alpha=0.0001, loss=log, max_iter=100, penalty=elasticnet, random_state=None;, score=0.761 total time=   0.2s\n",
      "[CV 5/5] END alpha=0.0001, loss=log, max_iter=100, penalty=elasticnet, random_state=None;, score=0.765 total time=   0.2s\n",
      "[CV 1/5] END alpha=0.0001, loss=log, max_iter=1000, penalty=l1, random_state=1;, score=0.768 total time=   0.3s\n",
      "[CV 2/5] END alpha=0.0001, loss=log, max_iter=1000, penalty=l1, random_state=1;, score=0.764 total time=   0.3s\n",
      "[CV 3/5] END alpha=0.0001, loss=log, max_iter=1000, penalty=l1, random_state=1;, score=0.773 total time=   0.3s\n",
      "[CV 4/5] END alpha=0.0001, loss=log, max_iter=1000, penalty=l1, random_state=1;, score=0.772 total time=   0.2s\n",
      "[CV 5/5] END alpha=0.0001, loss=log, max_iter=1000, penalty=l1, random_state=1;, score=0.757 total time=   0.3s\n",
      "[CV 1/5] END alpha=0.0001, loss=log, max_iter=1000, penalty=l1, random_state=None;, score=0.766 total time=   0.3s\n",
      "[CV 2/5] END alpha=0.0001, loss=log, max_iter=1000, penalty=l1, random_state=None;, score=0.770 total time=   0.3s\n",
      "[CV 3/5] END alpha=0.0001, loss=log, max_iter=1000, penalty=l1, random_state=None;, score=0.774 total time=   0.2s\n",
      "[CV 4/5] END alpha=0.0001, loss=log, max_iter=1000, penalty=l1, random_state=None;, score=0.775 total time=   0.2s\n",
      "[CV 5/5] END alpha=0.0001, loss=log, max_iter=1000, penalty=l1, random_state=None;, score=0.775 total time=   0.3s\n",
      "[CV 1/5] END alpha=0.0001, loss=log, max_iter=1000, penalty=l2, random_state=1;, score=0.764 total time=   0.2s\n",
      "[CV 2/5] END alpha=0.0001, loss=log, max_iter=1000, penalty=l2, random_state=1;, score=0.763 total time=   0.2s\n",
      "[CV 3/5] END alpha=0.0001, loss=log, max_iter=1000, penalty=l2, random_state=1;, score=0.770 total time=   0.1s\n",
      "[CV 4/5] END alpha=0.0001, loss=log, max_iter=1000, penalty=l2, random_state=1;, score=0.763 total time=   0.2s\n",
      "[CV 5/5] END alpha=0.0001, loss=log, max_iter=1000, penalty=l2, random_state=1;, score=0.760 total time=   0.2s\n",
      "[CV 1/5] END alpha=0.0001, loss=log, max_iter=1000, penalty=l2, random_state=None;, score=0.781 total time=   0.2s\n",
      "[CV 2/5] END alpha=0.0001, loss=log, max_iter=1000, penalty=l2, random_state=None;, score=0.776 total time=   0.2s\n",
      "[CV 3/5] END alpha=0.0001, loss=log, max_iter=1000, penalty=l2, random_state=None;, score=0.770 total time=   0.1s\n",
      "[CV 4/5] END alpha=0.0001, loss=log, max_iter=1000, penalty=l2, random_state=None;, score=0.776 total time=   0.2s\n",
      "[CV 5/5] END alpha=0.0001, loss=log, max_iter=1000, penalty=l2, random_state=None;, score=0.765 total time=   0.2s\n",
      "[CV 1/5] END alpha=0.0001, loss=log, max_iter=1000, penalty=elasticnet, random_state=1;, score=0.772 total time=   0.3s\n"
     ]
    },
    {
     "name": "stdout",
     "output_type": "stream",
     "text": [
      "[CV 2/5] END alpha=0.0001, loss=log, max_iter=1000, penalty=elasticnet, random_state=1;, score=0.765 total time=   0.3s\n",
      "[CV 3/5] END alpha=0.0001, loss=log, max_iter=1000, penalty=elasticnet, random_state=1;, score=0.770 total time=   0.4s\n",
      "[CV 4/5] END alpha=0.0001, loss=log, max_iter=1000, penalty=elasticnet, random_state=1;, score=0.762 total time=   0.3s\n",
      "[CV 5/5] END alpha=0.0001, loss=log, max_iter=1000, penalty=elasticnet, random_state=1;, score=0.758 total time=   0.3s\n",
      "[CV 1/5] END alpha=0.0001, loss=log, max_iter=1000, penalty=elasticnet, random_state=None;, score=0.791 total time=   0.2s\n",
      "[CV 2/5] END alpha=0.0001, loss=log, max_iter=1000, penalty=elasticnet, random_state=None;, score=0.770 total time=   0.4s\n",
      "[CV 3/5] END alpha=0.0001, loss=log, max_iter=1000, penalty=elasticnet, random_state=None;, score=0.775 total time=   0.2s\n",
      "[CV 4/5] END alpha=0.0001, loss=log, max_iter=1000, penalty=elasticnet, random_state=None;, score=0.765 total time=   0.3s\n",
      "[CV 5/5] END alpha=0.0001, loss=log, max_iter=1000, penalty=elasticnet, random_state=None;, score=0.776 total time=   0.3s\n",
      "[CV 1/5] END alpha=0.0001, loss=log, max_iter=5000, penalty=l1, random_state=1;, score=0.768 total time=   0.3s\n",
      "[CV 2/5] END alpha=0.0001, loss=log, max_iter=5000, penalty=l1, random_state=1;, score=0.764 total time=   0.3s\n",
      "[CV 3/5] END alpha=0.0001, loss=log, max_iter=5000, penalty=l1, random_state=1;, score=0.773 total time=   0.3s\n",
      "[CV 4/5] END alpha=0.0001, loss=log, max_iter=5000, penalty=l1, random_state=1;, score=0.772 total time=   0.2s\n",
      "[CV 5/5] END alpha=0.0001, loss=log, max_iter=5000, penalty=l1, random_state=1;, score=0.757 total time=   0.3s\n",
      "[CV 1/5] END alpha=0.0001, loss=log, max_iter=5000, penalty=l1, random_state=None;, score=0.784 total time=   0.2s\n",
      "[CV 2/5] END alpha=0.0001, loss=log, max_iter=5000, penalty=l1, random_state=None;, score=0.779 total time=   0.2s\n",
      "[CV 3/5] END alpha=0.0001, loss=log, max_iter=5000, penalty=l1, random_state=None;, score=0.775 total time=   0.3s\n",
      "[CV 4/5] END alpha=0.0001, loss=log, max_iter=5000, penalty=l1, random_state=None;, score=0.794 total time=   0.2s\n",
      "[CV 5/5] END alpha=0.0001, loss=log, max_iter=5000, penalty=l1, random_state=None;, score=0.787 total time=   0.3s\n",
      "[CV 1/5] END alpha=0.0001, loss=log, max_iter=5000, penalty=l2, random_state=1;, score=0.764 total time=   0.2s\n",
      "[CV 2/5] END alpha=0.0001, loss=log, max_iter=5000, penalty=l2, random_state=1;, score=0.763 total time=   0.2s\n",
      "[CV 3/5] END alpha=0.0001, loss=log, max_iter=5000, penalty=l2, random_state=1;, score=0.770 total time=   0.1s\n",
      "[CV 4/5] END alpha=0.0001, loss=log, max_iter=5000, penalty=l2, random_state=1;, score=0.763 total time=   0.1s\n",
      "[CV 5/5] END alpha=0.0001, loss=log, max_iter=5000, penalty=l2, random_state=1;, score=0.760 total time=   0.1s\n",
      "[CV 1/5] END alpha=0.0001, loss=log, max_iter=5000, penalty=l2, random_state=None;, score=0.786 total time=   0.2s\n",
      "[CV 2/5] END alpha=0.0001, loss=log, max_iter=5000, penalty=l2, random_state=None;, score=0.768 total time=   0.2s\n",
      "[CV 3/5] END alpha=0.0001, loss=log, max_iter=5000, penalty=l2, random_state=None;, score=0.774 total time=   0.1s\n",
      "[CV 4/5] END alpha=0.0001, loss=log, max_iter=5000, penalty=l2, random_state=None;, score=0.770 total time=   0.2s\n",
      "[CV 5/5] END alpha=0.0001, loss=log, max_iter=5000, penalty=l2, random_state=None;, score=0.774 total time=   0.2s\n",
      "[CV 1/5] END alpha=0.0001, loss=log, max_iter=5000, penalty=elasticnet, random_state=1;, score=0.772 total time=   0.3s\n",
      "[CV 2/5] END alpha=0.0001, loss=log, max_iter=5000, penalty=elasticnet, random_state=1;, score=0.765 total time=   0.4s\n",
      "[CV 3/5] END alpha=0.0001, loss=log, max_iter=5000, penalty=elasticnet, random_state=1;, score=0.770 total time=   0.3s\n",
      "[CV 4/5] END alpha=0.0001, loss=log, max_iter=5000, penalty=elasticnet, random_state=1;, score=0.762 total time=   0.4s\n",
      "[CV 5/5] END alpha=0.0001, loss=log, max_iter=5000, penalty=elasticnet, random_state=1;, score=0.758 total time=   0.4s\n",
      "[CV 1/5] END alpha=0.0001, loss=log, max_iter=5000, penalty=elasticnet, random_state=None;, score=0.785 total time=   0.4s\n",
      "[CV 2/5] END alpha=0.0001, loss=log, max_iter=5000, penalty=elasticnet, random_state=None;, score=0.770 total time=   0.2s\n",
      "[CV 3/5] END alpha=0.0001, loss=log, max_iter=5000, penalty=elasticnet, random_state=None;, score=0.775 total time=   0.3s\n",
      "[CV 4/5] END alpha=0.0001, loss=log, max_iter=5000, penalty=elasticnet, random_state=None;, score=0.772 total time=   0.3s\n",
      "[CV 5/5] END alpha=0.0001, loss=log, max_iter=5000, penalty=elasticnet, random_state=None;, score=0.771 total time=   0.2s\n",
      "[CV 1/5] END alpha=0.0001, loss=perceptron, max_iter=100, penalty=l1, random_state=1;, score=0.756 total time=   0.3s\n",
      "[CV 2/5] END alpha=0.0001, loss=perceptron, max_iter=100, penalty=l1, random_state=1;, score=0.479 total time=   0.2s\n",
      "[CV 3/5] END alpha=0.0001, loss=perceptron, max_iter=100, penalty=l1, random_state=1;, score=0.775 total time=   0.3s\n",
      "[CV 4/5] END alpha=0.0001, loss=perceptron, max_iter=100, penalty=l1, random_state=1;, score=0.738 total time=   0.2s\n",
      "[CV 5/5] END alpha=0.0001, loss=perceptron, max_iter=100, penalty=l1, random_state=1;, score=0.752 total time=   0.2s\n",
      "[CV 1/5] END alpha=0.0001, loss=perceptron, max_iter=100, penalty=l1, random_state=None;, score=0.778 total time=   0.3s\n",
      "[CV 2/5] END alpha=0.0001, loss=perceptron, max_iter=100, penalty=l1, random_state=None;, score=0.761 total time=   0.3s\n",
      "[CV 3/5] END alpha=0.0001, loss=perceptron, max_iter=100, penalty=l1, random_state=None;, score=0.755 total time=   0.3s\n",
      "[CV 4/5] END alpha=0.0001, loss=perceptron, max_iter=100, penalty=l1, random_state=None;, score=0.259 total time=   0.2s\n",
      "[CV 5/5] END alpha=0.0001, loss=perceptron, max_iter=100, penalty=l1, random_state=None;, score=0.736 total time=   0.2s\n",
      "[CV 1/5] END alpha=0.0001, loss=perceptron, max_iter=100, penalty=l2, random_state=1;, score=0.777 total time=   0.2s\n",
      "[CV 2/5] END alpha=0.0001, loss=perceptron, max_iter=100, penalty=l2, random_state=1;, score=0.752 total time=   0.2s\n",
      "[CV 3/5] END alpha=0.0001, loss=perceptron, max_iter=100, penalty=l2, random_state=1;, score=0.328 total time=   0.2s\n",
      "[CV 4/5] END alpha=0.0001, loss=perceptron, max_iter=100, penalty=l2, random_state=1;, score=0.459 total time=   0.2s\n",
      "[CV 5/5] END alpha=0.0001, loss=perceptron, max_iter=100, penalty=l2, random_state=1;, score=0.746 total time=   0.2s\n",
      "[CV 1/5] END alpha=0.0001, loss=perceptron, max_iter=100, penalty=l2, random_state=None;, score=0.761 total time=   0.2s\n",
      "[CV 2/5] END alpha=0.0001, loss=perceptron, max_iter=100, penalty=l2, random_state=None;, score=0.403 total time=   0.2s\n",
      "[CV 3/5] END alpha=0.0001, loss=perceptron, max_iter=100, penalty=l2, random_state=None;, score=0.766 total time=   0.3s\n",
      "[CV 4/5] END alpha=0.0001, loss=perceptron, max_iter=100, penalty=l2, random_state=None;, score=0.619 total time=   0.2s\n",
      "[CV 5/5] END alpha=0.0001, loss=perceptron, max_iter=100, penalty=l2, random_state=None;, score=0.761 total time=   0.2s\n",
      "[CV 1/5] END alpha=0.0001, loss=perceptron, max_iter=100, penalty=elasticnet, random_state=1;, score=0.759 total time=   0.3s\n",
      "[CV 2/5] END alpha=0.0001, loss=perceptron, max_iter=100, penalty=elasticnet, random_state=1;, score=0.751 total time=   0.3s\n",
      "[CV 3/5] END alpha=0.0001, loss=perceptron, max_iter=100, penalty=elasticnet, random_state=1;, score=0.755 total time=   0.3s\n",
      "[CV 4/5] END alpha=0.0001, loss=perceptron, max_iter=100, penalty=elasticnet, random_state=1;, score=0.764 total time=   0.3s\n",
      "[CV 5/5] END alpha=0.0001, loss=perceptron, max_iter=100, penalty=elasticnet, random_state=1;, score=0.763 total time=   0.3s\n",
      "[CV 1/5] END alpha=0.0001, loss=perceptron, max_iter=100, penalty=elasticnet, random_state=None;, score=0.728 total time=   0.3s\n",
      "[CV 2/5] END alpha=0.0001, loss=perceptron, max_iter=100, penalty=elasticnet, random_state=None;, score=0.655 total time=   0.4s\n",
      "[CV 3/5] END alpha=0.0001, loss=perceptron, max_iter=100, penalty=elasticnet, random_state=None;, score=0.759 total time=   0.2s\n",
      "[CV 4/5] END alpha=0.0001, loss=perceptron, max_iter=100, penalty=elasticnet, random_state=None;, score=0.714 total time=   0.4s\n",
      "[CV 5/5] END alpha=0.0001, loss=perceptron, max_iter=100, penalty=elasticnet, random_state=None;, score=0.745 total time=   0.4s\n"
     ]
    },
    {
     "name": "stdout",
     "output_type": "stream",
     "text": [
      "[CV 1/5] END alpha=0.0001, loss=perceptron, max_iter=1000, penalty=l1, random_state=1;, score=0.756 total time=   0.3s\n",
      "[CV 2/5] END alpha=0.0001, loss=perceptron, max_iter=1000, penalty=l1, random_state=1;, score=0.479 total time=   0.3s\n",
      "[CV 3/5] END alpha=0.0001, loss=perceptron, max_iter=1000, penalty=l1, random_state=1;, score=0.775 total time=   0.4s\n",
      "[CV 4/5] END alpha=0.0001, loss=perceptron, max_iter=1000, penalty=l1, random_state=1;, score=0.738 total time=   0.3s\n",
      "[CV 5/5] END alpha=0.0001, loss=perceptron, max_iter=1000, penalty=l1, random_state=1;, score=0.752 total time=   0.3s\n",
      "[CV 1/5] END alpha=0.0001, loss=perceptron, max_iter=1000, penalty=l1, random_state=None;, score=0.765 total time=   0.3s\n",
      "[CV 2/5] END alpha=0.0001, loss=perceptron, max_iter=1000, penalty=l1, random_state=None;, score=0.768 total time=   0.2s\n",
      "[CV 3/5] END alpha=0.0001, loss=perceptron, max_iter=1000, penalty=l1, random_state=None;, score=0.760 total time=   0.4s\n",
      "[CV 4/5] END alpha=0.0001, loss=perceptron, max_iter=1000, penalty=l1, random_state=None;, score=0.749 total time=   0.3s\n",
      "[CV 5/5] END alpha=0.0001, loss=perceptron, max_iter=1000, penalty=l1, random_state=None;, score=0.489 total time=   0.3s\n",
      "[CV 1/5] END alpha=0.0001, loss=perceptron, max_iter=1000, penalty=l2, random_state=1;, score=0.777 total time=   0.2s\n",
      "[CV 2/5] END alpha=0.0001, loss=perceptron, max_iter=1000, penalty=l2, random_state=1;, score=0.752 total time=   0.2s\n",
      "[CV 3/5] END alpha=0.0001, loss=perceptron, max_iter=1000, penalty=l2, random_state=1;, score=0.328 total time=   0.2s\n",
      "[CV 4/5] END alpha=0.0001, loss=perceptron, max_iter=1000, penalty=l2, random_state=1;, score=0.459 total time=   0.2s\n",
      "[CV 5/5] END alpha=0.0001, loss=perceptron, max_iter=1000, penalty=l2, random_state=1;, score=0.746 total time=   0.2s\n",
      "[CV 1/5] END alpha=0.0001, loss=perceptron, max_iter=1000, penalty=l2, random_state=None;, score=0.747 total time=   0.1s\n",
      "[CV 2/5] END alpha=0.0001, loss=perceptron, max_iter=1000, penalty=l2, random_state=None;, score=0.760 total time=   0.2s\n",
      "[CV 3/5] END alpha=0.0001, loss=perceptron, max_iter=1000, penalty=l2, random_state=None;, score=0.738 total time=   0.2s\n",
      "[CV 4/5] END alpha=0.0001, loss=perceptron, max_iter=1000, penalty=l2, random_state=None;, score=0.746 total time=   0.2s\n",
      "[CV 5/5] END alpha=0.0001, loss=perceptron, max_iter=1000, penalty=l2, random_state=None;, score=0.748 total time=   0.2s\n",
      "[CV 1/5] END alpha=0.0001, loss=perceptron, max_iter=1000, penalty=elasticnet, random_state=1;, score=0.759 total time=   0.3s\n",
      "[CV 2/5] END alpha=0.0001, loss=perceptron, max_iter=1000, penalty=elasticnet, random_state=1;, score=0.751 total time=   0.3s\n",
      "[CV 3/5] END alpha=0.0001, loss=perceptron, max_iter=1000, penalty=elasticnet, random_state=1;, score=0.755 total time=   0.3s\n",
      "[CV 4/5] END alpha=0.0001, loss=perceptron, max_iter=1000, penalty=elasticnet, random_state=1;, score=0.764 total time=   0.3s\n",
      "[CV 5/5] END alpha=0.0001, loss=perceptron, max_iter=1000, penalty=elasticnet, random_state=1;, score=0.763 total time=   0.4s\n",
      "[CV 1/5] END alpha=0.0001, loss=perceptron, max_iter=1000, penalty=elasticnet, random_state=None;, score=0.770 total time=   0.3s\n",
      "[CV 2/5] END alpha=0.0001, loss=perceptron, max_iter=1000, penalty=elasticnet, random_state=None;, score=0.758 total time=   0.2s\n",
      "[CV 3/5] END alpha=0.0001, loss=perceptron, max_iter=1000, penalty=elasticnet, random_state=None;, score=0.430 total time=   0.2s\n",
      "[CV 4/5] END alpha=0.0001, loss=perceptron, max_iter=1000, penalty=elasticnet, random_state=None;, score=0.761 total time=   0.3s\n",
      "[CV 5/5] END alpha=0.0001, loss=perceptron, max_iter=1000, penalty=elasticnet, random_state=None;, score=0.264 total time=   0.3s\n",
      "[CV 1/5] END alpha=0.0001, loss=perceptron, max_iter=5000, penalty=l1, random_state=1;, score=0.756 total time=   0.2s\n",
      "[CV 2/5] END alpha=0.0001, loss=perceptron, max_iter=5000, penalty=l1, random_state=1;, score=0.479 total time=   0.2s\n",
      "[CV 3/5] END alpha=0.0001, loss=perceptron, max_iter=5000, penalty=l1, random_state=1;, score=0.775 total time=   0.3s\n",
      "[CV 4/5] END alpha=0.0001, loss=perceptron, max_iter=5000, penalty=l1, random_state=1;, score=0.738 total time=   0.2s\n",
      "[CV 5/5] END alpha=0.0001, loss=perceptron, max_iter=5000, penalty=l1, random_state=1;, score=0.752 total time=   0.2s\n",
      "[CV 1/5] END alpha=0.0001, loss=perceptron, max_iter=5000, penalty=l1, random_state=None;, score=0.775 total time=   0.2s\n",
      "[CV 2/5] END alpha=0.0001, loss=perceptron, max_iter=5000, penalty=l1, random_state=None;, score=0.626 total time=   0.3s\n",
      "[CV 3/5] END alpha=0.0001, loss=perceptron, max_iter=5000, penalty=l1, random_state=None;, score=0.315 total time=   0.2s\n",
      "[CV 4/5] END alpha=0.0001, loss=perceptron, max_iter=5000, penalty=l1, random_state=None;, score=0.768 total time=   0.2s\n",
      "[CV 5/5] END alpha=0.0001, loss=perceptron, max_iter=5000, penalty=l1, random_state=None;, score=0.765 total time=   0.2s\n",
      "[CV 1/5] END alpha=0.0001, loss=perceptron, max_iter=5000, penalty=l2, random_state=1;, score=0.777 total time=   0.2s\n",
      "[CV 2/5] END alpha=0.0001, loss=perceptron, max_iter=5000, penalty=l2, random_state=1;, score=0.752 total time=   0.2s\n",
      "[CV 3/5] END alpha=0.0001, loss=perceptron, max_iter=5000, penalty=l2, random_state=1;, score=0.328 total time=   0.2s\n",
      "[CV 4/5] END alpha=0.0001, loss=perceptron, max_iter=5000, penalty=l2, random_state=1;, score=0.459 total time=   0.2s\n",
      "[CV 5/5] END alpha=0.0001, loss=perceptron, max_iter=5000, penalty=l2, random_state=1;, score=0.746 total time=   0.2s\n",
      "[CV 1/5] END alpha=0.0001, loss=perceptron, max_iter=5000, penalty=l2, random_state=None;, score=0.764 total time=   0.2s\n",
      "[CV 2/5] END alpha=0.0001, loss=perceptron, max_iter=5000, penalty=l2, random_state=None;, score=0.618 total time=   0.2s\n",
      "[CV 3/5] END alpha=0.0001, loss=perceptron, max_iter=5000, penalty=l2, random_state=None;, score=0.702 total time=   0.2s\n",
      "[CV 4/5] END alpha=0.0001, loss=perceptron, max_iter=5000, penalty=l2, random_state=None;, score=0.768 total time=   0.2s\n",
      "[CV 5/5] END alpha=0.0001, loss=perceptron, max_iter=5000, penalty=l2, random_state=None;, score=0.742 total time=   0.1s\n",
      "[CV 1/5] END alpha=0.0001, loss=perceptron, max_iter=5000, penalty=elasticnet, random_state=1;, score=0.759 total time=   0.4s\n",
      "[CV 2/5] END alpha=0.0001, loss=perceptron, max_iter=5000, penalty=elasticnet, random_state=1;, score=0.751 total time=   0.3s\n",
      "[CV 3/5] END alpha=0.0001, loss=perceptron, max_iter=5000, penalty=elasticnet, random_state=1;, score=0.755 total time=   0.4s\n",
      "[CV 4/5] END alpha=0.0001, loss=perceptron, max_iter=5000, penalty=elasticnet, random_state=1;, score=0.764 total time=   0.3s\n",
      "[CV 5/5] END alpha=0.0001, loss=perceptron, max_iter=5000, penalty=elasticnet, random_state=1;, score=0.763 total time=   0.3s\n",
      "[CV 1/5] END alpha=0.0001, loss=perceptron, max_iter=5000, penalty=elasticnet, random_state=None;, score=0.783 total time=   0.3s\n",
      "[CV 2/5] END alpha=0.0001, loss=perceptron, max_iter=5000, penalty=elasticnet, random_state=None;, score=0.623 total time=   0.2s\n",
      "[CV 3/5] END alpha=0.0001, loss=perceptron, max_iter=5000, penalty=elasticnet, random_state=None;, score=0.730 total time=   0.3s\n",
      "[CV 4/5] END alpha=0.0001, loss=perceptron, max_iter=5000, penalty=elasticnet, random_state=None;, score=0.718 total time=   0.3s\n",
      "[CV 5/5] END alpha=0.0001, loss=perceptron, max_iter=5000, penalty=elasticnet, random_state=None;, score=0.745 total time=   0.2s\n"
     ]
    },
    {
     "name": "stderr",
     "output_type": "stream",
     "text": [
      "C:\\Users\\sabat\\anaconda3\\lib\\site-packages\\sklearn\\linear_model\\_stochastic_gradient.py:696: ConvergenceWarning: Maximum number of iteration reached before convergence. Consider increasing max_iter to improve the fit.\n",
      "  warnings.warn(\n"
     ]
    },
    {
     "name": "stdout",
     "output_type": "stream",
     "text": [
      "[CV 1/5] END alpha=0.0001, loss=squared_error, max_iter=100, penalty=l1, random_state=1;, score=0.543 total time=   1.0s\n"
     ]
    },
    {
     "name": "stderr",
     "output_type": "stream",
     "text": [
      "C:\\Users\\sabat\\anaconda3\\lib\\site-packages\\sklearn\\linear_model\\_stochastic_gradient.py:696: ConvergenceWarning: Maximum number of iteration reached before convergence. Consider increasing max_iter to improve the fit.\n",
      "  warnings.warn(\n"
     ]
    },
    {
     "name": "stdout",
     "output_type": "stream",
     "text": [
      "[CV 2/5] END alpha=0.0001, loss=squared_error, max_iter=100, penalty=l1, random_state=1;, score=0.464 total time=   0.9s\n"
     ]
    },
    {
     "name": "stderr",
     "output_type": "stream",
     "text": [
      "C:\\Users\\sabat\\anaconda3\\lib\\site-packages\\sklearn\\linear_model\\_stochastic_gradient.py:696: ConvergenceWarning: Maximum number of iteration reached before convergence. Consider increasing max_iter to improve the fit.\n",
      "  warnings.warn(\n"
     ]
    },
    {
     "name": "stdout",
     "output_type": "stream",
     "text": [
      "[CV 3/5] END alpha=0.0001, loss=squared_error, max_iter=100, penalty=l1, random_state=1;, score=0.453 total time=   0.9s\n"
     ]
    },
    {
     "name": "stderr",
     "output_type": "stream",
     "text": [
      "C:\\Users\\sabat\\anaconda3\\lib\\site-packages\\sklearn\\linear_model\\_stochastic_gradient.py:696: ConvergenceWarning: Maximum number of iteration reached before convergence. Consider increasing max_iter to improve the fit.\n",
      "  warnings.warn(\n"
     ]
    },
    {
     "name": "stdout",
     "output_type": "stream",
     "text": [
      "[CV 4/5] END alpha=0.0001, loss=squared_error, max_iter=100, penalty=l1, random_state=1;, score=0.507 total time=   1.1s\n"
     ]
    },
    {
     "name": "stderr",
     "output_type": "stream",
     "text": [
      "C:\\Users\\sabat\\anaconda3\\lib\\site-packages\\sklearn\\linear_model\\_stochastic_gradient.py:696: ConvergenceWarning: Maximum number of iteration reached before convergence. Consider increasing max_iter to improve the fit.\n",
      "  warnings.warn(\n"
     ]
    },
    {
     "name": "stdout",
     "output_type": "stream",
     "text": [
      "[CV 5/5] END alpha=0.0001, loss=squared_error, max_iter=100, penalty=l1, random_state=1;, score=0.507 total time=   0.9s\n"
     ]
    },
    {
     "name": "stderr",
     "output_type": "stream",
     "text": [
      "C:\\Users\\sabat\\anaconda3\\lib\\site-packages\\sklearn\\linear_model\\_stochastic_gradient.py:696: ConvergenceWarning: Maximum number of iteration reached before convergence. Consider increasing max_iter to improve the fit.\n",
      "  warnings.warn(\n"
     ]
    },
    {
     "name": "stdout",
     "output_type": "stream",
     "text": [
      "[CV 1/5] END alpha=0.0001, loss=squared_error, max_iter=100, penalty=l1, random_state=None;, score=0.504 total time=   0.9s\n"
     ]
    },
    {
     "name": "stderr",
     "output_type": "stream",
     "text": [
      "C:\\Users\\sabat\\anaconda3\\lib\\site-packages\\sklearn\\linear_model\\_stochastic_gradient.py:696: ConvergenceWarning: Maximum number of iteration reached before convergence. Consider increasing max_iter to improve the fit.\n",
      "  warnings.warn(\n"
     ]
    },
    {
     "name": "stdout",
     "output_type": "stream",
     "text": [
      "[CV 2/5] END alpha=0.0001, loss=squared_error, max_iter=100, penalty=l1, random_state=None;, score=0.526 total time=   0.9s\n"
     ]
    },
    {
     "name": "stderr",
     "output_type": "stream",
     "text": [
      "C:\\Users\\sabat\\anaconda3\\lib\\site-packages\\sklearn\\linear_model\\_stochastic_gradient.py:696: ConvergenceWarning: Maximum number of iteration reached before convergence. Consider increasing max_iter to improve the fit.\n",
      "  warnings.warn(\n"
     ]
    },
    {
     "name": "stdout",
     "output_type": "stream",
     "text": [
      "[CV 3/5] END alpha=0.0001, loss=squared_error, max_iter=100, penalty=l1, random_state=None;, score=0.600 total time=   0.9s\n"
     ]
    },
    {
     "name": "stderr",
     "output_type": "stream",
     "text": [
      "C:\\Users\\sabat\\anaconda3\\lib\\site-packages\\sklearn\\linear_model\\_stochastic_gradient.py:696: ConvergenceWarning: Maximum number of iteration reached before convergence. Consider increasing max_iter to improve the fit.\n",
      "  warnings.warn(\n"
     ]
    },
    {
     "name": "stdout",
     "output_type": "stream",
     "text": [
      "[CV 4/5] END alpha=0.0001, loss=squared_error, max_iter=100, penalty=l1, random_state=None;, score=0.501 total time=   0.9s\n"
     ]
    },
    {
     "name": "stderr",
     "output_type": "stream",
     "text": [
      "C:\\Users\\sabat\\anaconda3\\lib\\site-packages\\sklearn\\linear_model\\_stochastic_gradient.py:696: ConvergenceWarning: Maximum number of iteration reached before convergence. Consider increasing max_iter to improve the fit.\n",
      "  warnings.warn(\n"
     ]
    },
    {
     "name": "stdout",
     "output_type": "stream",
     "text": [
      "[CV 5/5] END alpha=0.0001, loss=squared_error, max_iter=100, penalty=l1, random_state=None;, score=0.510 total time=   0.9s\n"
     ]
    },
    {
     "name": "stderr",
     "output_type": "stream",
     "text": [
      "C:\\Users\\sabat\\anaconda3\\lib\\site-packages\\sklearn\\linear_model\\_stochastic_gradient.py:696: ConvergenceWarning: Maximum number of iteration reached before convergence. Consider increasing max_iter to improve the fit.\n",
      "  warnings.warn(\n"
     ]
    },
    {
     "name": "stdout",
     "output_type": "stream",
     "text": [
      "[CV 1/5] END alpha=0.0001, loss=squared_error, max_iter=100, penalty=l2, random_state=1;, score=0.497 total time=   0.5s\n"
     ]
    },
    {
     "name": "stderr",
     "output_type": "stream",
     "text": [
      "C:\\Users\\sabat\\anaconda3\\lib\\site-packages\\sklearn\\linear_model\\_stochastic_gradient.py:696: ConvergenceWarning: Maximum number of iteration reached before convergence. Consider increasing max_iter to improve the fit.\n",
      "  warnings.warn(\n"
     ]
    },
    {
     "name": "stdout",
     "output_type": "stream",
     "text": [
      "[CV 2/5] END alpha=0.0001, loss=squared_error, max_iter=100, penalty=l2, random_state=1;, score=0.488 total time=   0.5s\n"
     ]
    },
    {
     "name": "stderr",
     "output_type": "stream",
     "text": [
      "C:\\Users\\sabat\\anaconda3\\lib\\site-packages\\sklearn\\linear_model\\_stochastic_gradient.py:696: ConvergenceWarning: Maximum number of iteration reached before convergence. Consider increasing max_iter to improve the fit.\n",
      "  warnings.warn(\n"
     ]
    },
    {
     "name": "stdout",
     "output_type": "stream",
     "text": [
      "[CV 3/5] END alpha=0.0001, loss=squared_error, max_iter=100, penalty=l2, random_state=1;, score=0.508 total time=   0.5s\n"
     ]
    },
    {
     "name": "stderr",
     "output_type": "stream",
     "text": [
      "C:\\Users\\sabat\\anaconda3\\lib\\site-packages\\sklearn\\linear_model\\_stochastic_gradient.py:696: ConvergenceWarning: Maximum number of iteration reached before convergence. Consider increasing max_iter to improve the fit.\n",
      "  warnings.warn(\n"
     ]
    },
    {
     "name": "stdout",
     "output_type": "stream",
     "text": [
      "[CV 4/5] END alpha=0.0001, loss=squared_error, max_iter=100, penalty=l2, random_state=1;, score=0.438 total time=   0.5s\n"
     ]
    },
    {
     "name": "stderr",
     "output_type": "stream",
     "text": [
      "C:\\Users\\sabat\\anaconda3\\lib\\site-packages\\sklearn\\linear_model\\_stochastic_gradient.py:696: ConvergenceWarning: Maximum number of iteration reached before convergence. Consider increasing max_iter to improve the fit.\n",
      "  warnings.warn(\n"
     ]
    },
    {
     "name": "stdout",
     "output_type": "stream",
     "text": [
      "[CV 5/5] END alpha=0.0001, loss=squared_error, max_iter=100, penalty=l2, random_state=1;, score=0.444 total time=   0.5s\n"
     ]
    },
    {
     "name": "stderr",
     "output_type": "stream",
     "text": [
      "C:\\Users\\sabat\\anaconda3\\lib\\site-packages\\sklearn\\linear_model\\_stochastic_gradient.py:696: ConvergenceWarning: Maximum number of iteration reached before convergence. Consider increasing max_iter to improve the fit.\n",
      "  warnings.warn(\n"
     ]
    },
    {
     "name": "stdout",
     "output_type": "stream",
     "text": [
      "[CV 1/5] END alpha=0.0001, loss=squared_error, max_iter=100, penalty=l2, random_state=None;, score=0.574 total time=   0.5s\n"
     ]
    },
    {
     "name": "stderr",
     "output_type": "stream",
     "text": [
      "C:\\Users\\sabat\\anaconda3\\lib\\site-packages\\sklearn\\linear_model\\_stochastic_gradient.py:696: ConvergenceWarning: Maximum number of iteration reached before convergence. Consider increasing max_iter to improve the fit.\n",
      "  warnings.warn(\n"
     ]
    },
    {
     "name": "stdout",
     "output_type": "stream",
     "text": [
      "[CV 2/5] END alpha=0.0001, loss=squared_error, max_iter=100, penalty=l2, random_state=None;, score=0.699 total time=   0.5s\n"
     ]
    },
    {
     "name": "stderr",
     "output_type": "stream",
     "text": [
      "C:\\Users\\sabat\\anaconda3\\lib\\site-packages\\sklearn\\linear_model\\_stochastic_gradient.py:696: ConvergenceWarning: Maximum number of iteration reached before convergence. Consider increasing max_iter to improve the fit.\n",
      "  warnings.warn(\n"
     ]
    },
    {
     "name": "stdout",
     "output_type": "stream",
     "text": [
      "[CV 3/5] END alpha=0.0001, loss=squared_error, max_iter=100, penalty=l2, random_state=None;, score=0.576 total time=   0.5s\n"
     ]
    },
    {
     "name": "stderr",
     "output_type": "stream",
     "text": [
      "C:\\Users\\sabat\\anaconda3\\lib\\site-packages\\sklearn\\linear_model\\_stochastic_gradient.py:696: ConvergenceWarning: Maximum number of iteration reached before convergence. Consider increasing max_iter to improve the fit.\n",
      "  warnings.warn(\n"
     ]
    },
    {
     "name": "stdout",
     "output_type": "stream",
     "text": [
      "[CV 4/5] END alpha=0.0001, loss=squared_error, max_iter=100, penalty=l2, random_state=None;, score=0.484 total time=   0.5s\n"
     ]
    },
    {
     "name": "stderr",
     "output_type": "stream",
     "text": [
      "C:\\Users\\sabat\\anaconda3\\lib\\site-packages\\sklearn\\linear_model\\_stochastic_gradient.py:696: ConvergenceWarning: Maximum number of iteration reached before convergence. Consider increasing max_iter to improve the fit.\n",
      "  warnings.warn(\n"
     ]
    },
    {
     "name": "stdout",
     "output_type": "stream",
     "text": [
      "[CV 5/5] END alpha=0.0001, loss=squared_error, max_iter=100, penalty=l2, random_state=None;, score=0.529 total time=   0.5s\n"
     ]
    },
    {
     "name": "stderr",
     "output_type": "stream",
     "text": [
      "C:\\Users\\sabat\\anaconda3\\lib\\site-packages\\sklearn\\linear_model\\_stochastic_gradient.py:696: ConvergenceWarning: Maximum number of iteration reached before convergence. Consider increasing max_iter to improve the fit.\n",
      "  warnings.warn(\n"
     ]
    },
    {
     "name": "stdout",
     "output_type": "stream",
     "text": [
      "[CV 1/5] END alpha=0.0001, loss=squared_error, max_iter=100, penalty=elasticnet, random_state=1;, score=0.506 total time=   0.9s\n"
     ]
    },
    {
     "name": "stderr",
     "output_type": "stream",
     "text": [
      "C:\\Users\\sabat\\anaconda3\\lib\\site-packages\\sklearn\\linear_model\\_stochastic_gradient.py:696: ConvergenceWarning: Maximum number of iteration reached before convergence. Consider increasing max_iter to improve the fit.\n",
      "  warnings.warn(\n"
     ]
    },
    {
     "name": "stdout",
     "output_type": "stream",
     "text": [
      "[CV 2/5] END alpha=0.0001, loss=squared_error, max_iter=100, penalty=elasticnet, random_state=1;, score=0.519 total time=   0.9s\n"
     ]
    },
    {
     "name": "stderr",
     "output_type": "stream",
     "text": [
      "C:\\Users\\sabat\\anaconda3\\lib\\site-packages\\sklearn\\linear_model\\_stochastic_gradient.py:696: ConvergenceWarning: Maximum number of iteration reached before convergence. Consider increasing max_iter to improve the fit.\n",
      "  warnings.warn(\n"
     ]
    },
    {
     "name": "stdout",
     "output_type": "stream",
     "text": [
      "[CV 3/5] END alpha=0.0001, loss=squared_error, max_iter=100, penalty=elasticnet, random_state=1;, score=0.508 total time=   0.9s\n"
     ]
    },
    {
     "name": "stderr",
     "output_type": "stream",
     "text": [
      "C:\\Users\\sabat\\anaconda3\\lib\\site-packages\\sklearn\\linear_model\\_stochastic_gradient.py:696: ConvergenceWarning: Maximum number of iteration reached before convergence. Consider increasing max_iter to improve the fit.\n",
      "  warnings.warn(\n"
     ]
    },
    {
     "name": "stdout",
     "output_type": "stream",
     "text": [
      "[CV 4/5] END alpha=0.0001, loss=squared_error, max_iter=100, penalty=elasticnet, random_state=1;, score=0.439 total time=   1.0s\n"
     ]
    },
    {
     "name": "stderr",
     "output_type": "stream",
     "text": [
      "C:\\Users\\sabat\\anaconda3\\lib\\site-packages\\sklearn\\linear_model\\_stochastic_gradient.py:696: ConvergenceWarning: Maximum number of iteration reached before convergence. Consider increasing max_iter to improve the fit.\n",
      "  warnings.warn(\n"
     ]
    },
    {
     "name": "stdout",
     "output_type": "stream",
     "text": [
      "[CV 5/5] END alpha=0.0001, loss=squared_error, max_iter=100, penalty=elasticnet, random_state=1;, score=0.545 total time=   0.9s\n"
     ]
    },
    {
     "name": "stderr",
     "output_type": "stream",
     "text": [
      "C:\\Users\\sabat\\anaconda3\\lib\\site-packages\\sklearn\\linear_model\\_stochastic_gradient.py:696: ConvergenceWarning: Maximum number of iteration reached before convergence. Consider increasing max_iter to improve the fit.\n",
      "  warnings.warn(\n"
     ]
    },
    {
     "name": "stdout",
     "output_type": "stream",
     "text": [
      "[CV 1/5] END alpha=0.0001, loss=squared_error, max_iter=100, penalty=elasticnet, random_state=None;, score=0.565 total time=   1.0s\n"
     ]
    },
    {
     "name": "stderr",
     "output_type": "stream",
     "text": [
      "C:\\Users\\sabat\\anaconda3\\lib\\site-packages\\sklearn\\linear_model\\_stochastic_gradient.py:696: ConvergenceWarning: Maximum number of iteration reached before convergence. Consider increasing max_iter to improve the fit.\n",
      "  warnings.warn(\n"
     ]
    },
    {
     "name": "stdout",
     "output_type": "stream",
     "text": [
      "[CV 2/5] END alpha=0.0001, loss=squared_error, max_iter=100, penalty=elasticnet, random_state=None;, score=0.577 total time=   1.0s\n"
     ]
    },
    {
     "name": "stderr",
     "output_type": "stream",
     "text": [
      "C:\\Users\\sabat\\anaconda3\\lib\\site-packages\\sklearn\\linear_model\\_stochastic_gradient.py:696: ConvergenceWarning: Maximum number of iteration reached before convergence. Consider increasing max_iter to improve the fit.\n",
      "  warnings.warn(\n"
     ]
    },
    {
     "name": "stdout",
     "output_type": "stream",
     "text": [
      "[CV 3/5] END alpha=0.0001, loss=squared_error, max_iter=100, penalty=elasticnet, random_state=None;, score=0.386 total time=   0.9s\n"
     ]
    },
    {
     "name": "stderr",
     "output_type": "stream",
     "text": [
      "C:\\Users\\sabat\\anaconda3\\lib\\site-packages\\sklearn\\linear_model\\_stochastic_gradient.py:696: ConvergenceWarning: Maximum number of iteration reached before convergence. Consider increasing max_iter to improve the fit.\n",
      "  warnings.warn(\n"
     ]
    },
    {
     "name": "stdout",
     "output_type": "stream",
     "text": [
      "[CV 4/5] END alpha=0.0001, loss=squared_error, max_iter=100, penalty=elasticnet, random_state=None;, score=0.459 total time=   0.9s\n"
     ]
    },
    {
     "name": "stderr",
     "output_type": "stream",
     "text": [
      "C:\\Users\\sabat\\anaconda3\\lib\\site-packages\\sklearn\\linear_model\\_stochastic_gradient.py:696: ConvergenceWarning: Maximum number of iteration reached before convergence. Consider increasing max_iter to improve the fit.\n",
      "  warnings.warn(\n"
     ]
    },
    {
     "name": "stdout",
     "output_type": "stream",
     "text": [
      "[CV 5/5] END alpha=0.0001, loss=squared_error, max_iter=100, penalty=elasticnet, random_state=None;, score=0.479 total time=   0.9s\n"
     ]
    },
    {
     "name": "stderr",
     "output_type": "stream",
     "text": [
      "C:\\Users\\sabat\\anaconda3\\lib\\site-packages\\sklearn\\linear_model\\_stochastic_gradient.py:696: ConvergenceWarning: Maximum number of iteration reached before convergence. Consider increasing max_iter to improve the fit.\n",
      "  warnings.warn(\n"
     ]
    },
    {
     "name": "stdout",
     "output_type": "stream",
     "text": [
      "[CV 1/5] END alpha=0.0001, loss=squared_error, max_iter=1000, penalty=l1, random_state=1;, score=0.535 total time=   9.4s\n"
     ]
    },
    {
     "name": "stderr",
     "output_type": "stream",
     "text": [
      "C:\\Users\\sabat\\anaconda3\\lib\\site-packages\\sklearn\\linear_model\\_stochastic_gradient.py:696: ConvergenceWarning: Maximum number of iteration reached before convergence. Consider increasing max_iter to improve the fit.\n",
      "  warnings.warn(\n"
     ]
    },
    {
     "name": "stdout",
     "output_type": "stream",
     "text": [
      "[CV 2/5] END alpha=0.0001, loss=squared_error, max_iter=1000, penalty=l1, random_state=1;, score=0.479 total time=   9.2s\n"
     ]
    },
    {
     "name": "stderr",
     "output_type": "stream",
     "text": [
      "C:\\Users\\sabat\\anaconda3\\lib\\site-packages\\sklearn\\linear_model\\_stochastic_gradient.py:696: ConvergenceWarning: Maximum number of iteration reached before convergence. Consider increasing max_iter to improve the fit.\n",
      "  warnings.warn(\n"
     ]
    },
    {
     "name": "stdout",
     "output_type": "stream",
     "text": [
      "[CV 3/5] END alpha=0.0001, loss=squared_error, max_iter=1000, penalty=l1, random_state=1;, score=0.498 total time=   9.7s\n"
     ]
    },
    {
     "name": "stderr",
     "output_type": "stream",
     "text": [
      "C:\\Users\\sabat\\anaconda3\\lib\\site-packages\\sklearn\\linear_model\\_stochastic_gradient.py:696: ConvergenceWarning: Maximum number of iteration reached before convergence. Consider increasing max_iter to improve the fit.\n",
      "  warnings.warn(\n"
     ]
    },
    {
     "name": "stdout",
     "output_type": "stream",
     "text": [
      "[CV 4/5] END alpha=0.0001, loss=squared_error, max_iter=1000, penalty=l1, random_state=1;, score=0.487 total time=   9.3s\n"
     ]
    },
    {
     "name": "stderr",
     "output_type": "stream",
     "text": [
      "C:\\Users\\sabat\\anaconda3\\lib\\site-packages\\sklearn\\linear_model\\_stochastic_gradient.py:696: ConvergenceWarning: Maximum number of iteration reached before convergence. Consider increasing max_iter to improve the fit.\n",
      "  warnings.warn(\n"
     ]
    },
    {
     "name": "stdout",
     "output_type": "stream",
     "text": [
      "[CV 5/5] END alpha=0.0001, loss=squared_error, max_iter=1000, penalty=l1, random_state=1;, score=0.541 total time=   9.1s\n"
     ]
    },
    {
     "name": "stderr",
     "output_type": "stream",
     "text": [
      "C:\\Users\\sabat\\anaconda3\\lib\\site-packages\\sklearn\\linear_model\\_stochastic_gradient.py:696: ConvergenceWarning: Maximum number of iteration reached before convergence. Consider increasing max_iter to improve the fit.\n",
      "  warnings.warn(\n"
     ]
    },
    {
     "name": "stdout",
     "output_type": "stream",
     "text": [
      "[CV 1/5] END alpha=0.0001, loss=squared_error, max_iter=1000, penalty=l1, random_state=None;, score=0.557 total time=   9.0s\n"
     ]
    },
    {
     "name": "stderr",
     "output_type": "stream",
     "text": [
      "C:\\Users\\sabat\\anaconda3\\lib\\site-packages\\sklearn\\linear_model\\_stochastic_gradient.py:696: ConvergenceWarning: Maximum number of iteration reached before convergence. Consider increasing max_iter to improve the fit.\n",
      "  warnings.warn(\n"
     ]
    },
    {
     "name": "stdout",
     "output_type": "stream",
     "text": [
      "[CV 2/5] END alpha=0.0001, loss=squared_error, max_iter=1000, penalty=l1, random_state=None;, score=0.422 total time=   9.9s\n"
     ]
    },
    {
     "name": "stderr",
     "output_type": "stream",
     "text": [
      "C:\\Users\\sabat\\anaconda3\\lib\\site-packages\\sklearn\\linear_model\\_stochastic_gradient.py:696: ConvergenceWarning: Maximum number of iteration reached before convergence. Consider increasing max_iter to improve the fit.\n",
      "  warnings.warn(\n"
     ]
    },
    {
     "name": "stdout",
     "output_type": "stream",
     "text": [
      "[CV 3/5] END alpha=0.0001, loss=squared_error, max_iter=1000, penalty=l1, random_state=None;, score=0.591 total time=   9.4s\n"
     ]
    },
    {
     "name": "stderr",
     "output_type": "stream",
     "text": [
      "C:\\Users\\sabat\\anaconda3\\lib\\site-packages\\sklearn\\linear_model\\_stochastic_gradient.py:696: ConvergenceWarning: Maximum number of iteration reached before convergence. Consider increasing max_iter to improve the fit.\n",
      "  warnings.warn(\n"
     ]
    },
    {
     "name": "stdout",
     "output_type": "stream",
     "text": [
      "[CV 4/5] END alpha=0.0001, loss=squared_error, max_iter=1000, penalty=l1, random_state=None;, score=0.433 total time=  11.0s\n"
     ]
    },
    {
     "name": "stderr",
     "output_type": "stream",
     "text": [
      "C:\\Users\\sabat\\anaconda3\\lib\\site-packages\\sklearn\\linear_model\\_stochastic_gradient.py:696: ConvergenceWarning: Maximum number of iteration reached before convergence. Consider increasing max_iter to improve the fit.\n",
      "  warnings.warn(\n"
     ]
    },
    {
     "name": "stdout",
     "output_type": "stream",
     "text": [
      "[CV 5/5] END alpha=0.0001, loss=squared_error, max_iter=1000, penalty=l1, random_state=None;, score=0.514 total time=  10.9s\n",
      "[CV 1/5] END alpha=0.0001, loss=squared_error, max_iter=1000, penalty=l2, random_state=1;, score=0.470 total time=   3.4s\n",
      "[CV 2/5] END alpha=0.0001, loss=squared_error, max_iter=1000, penalty=l2, random_state=1;, score=0.439 total time=   4.5s\n",
      "[CV 3/5] END alpha=0.0001, loss=squared_error, max_iter=1000, penalty=l2, random_state=1;, score=0.526 total time=   3.3s\n"
     ]
    },
    {
     "name": "stderr",
     "output_type": "stream",
     "text": [
      "C:\\Users\\sabat\\anaconda3\\lib\\site-packages\\sklearn\\linear_model\\_stochastic_gradient.py:696: ConvergenceWarning: Maximum number of iteration reached before convergence. Consider increasing max_iter to improve the fit.\n",
      "  warnings.warn(\n"
     ]
    },
    {
     "name": "stdout",
     "output_type": "stream",
     "text": [
      "[CV 4/5] END alpha=0.0001, loss=squared_error, max_iter=1000, penalty=l2, random_state=1;, score=0.463 total time=   4.8s\n",
      "[CV 5/5] END alpha=0.0001, loss=squared_error, max_iter=1000, penalty=l2, random_state=1;, score=0.475 total time=   1.8s\n",
      "[CV 1/5] END alpha=0.0001, loss=squared_error, max_iter=1000, penalty=l2, random_state=None;, score=0.441 total time=   3.3s\n",
      "[CV 2/5] END alpha=0.0001, loss=squared_error, max_iter=1000, penalty=l2, random_state=None;, score=0.507 total time=   4.7s\n"
     ]
    },
    {
     "name": "stderr",
     "output_type": "stream",
     "text": [
      "C:\\Users\\sabat\\anaconda3\\lib\\site-packages\\sklearn\\linear_model\\_stochastic_gradient.py:696: ConvergenceWarning: Maximum number of iteration reached before convergence. Consider increasing max_iter to improve the fit.\n",
      "  warnings.warn(\n"
     ]
    },
    {
     "name": "stdout",
     "output_type": "stream",
     "text": [
      "[CV 3/5] END alpha=0.0001, loss=squared_error, max_iter=1000, penalty=l2, random_state=None;, score=0.509 total time=   5.0s\n",
      "[CV 4/5] END alpha=0.0001, loss=squared_error, max_iter=1000, penalty=l2, random_state=None;, score=0.407 total time=   4.7s\n",
      "[CV 5/5] END alpha=0.0001, loss=squared_error, max_iter=1000, penalty=l2, random_state=None;, score=0.427 total time=   4.8s\n",
      "[CV 1/5] END alpha=0.0001, loss=squared_error, max_iter=1000, penalty=elasticnet, random_state=1;, score=0.549 total time=   5.9s\n",
      "[CV 2/5] END alpha=0.0001, loss=squared_error, max_iter=1000, penalty=elasticnet, random_state=1;, score=0.540 total time=   5.2s\n",
      "[CV 3/5] END alpha=0.0001, loss=squared_error, max_iter=1000, penalty=elasticnet, random_state=1;, score=0.524 total time=   4.4s\n",
      "[CV 4/5] END alpha=0.0001, loss=squared_error, max_iter=1000, penalty=elasticnet, random_state=1;, score=0.445 total time=   9.3s\n",
      "[CV 5/5] END alpha=0.0001, loss=squared_error, max_iter=1000, penalty=elasticnet, random_state=1;, score=0.525 total time=   3.9s\n",
      "[CV 1/5] END alpha=0.0001, loss=squared_error, max_iter=1000, penalty=elasticnet, random_state=None;, score=0.614 total time=   4.6s\n",
      "[CV 2/5] END alpha=0.0001, loss=squared_error, max_iter=1000, penalty=elasticnet, random_state=None;, score=0.533 total time=   9.3s\n",
      "[CV 3/5] END alpha=0.0001, loss=squared_error, max_iter=1000, penalty=elasticnet, random_state=None;, score=0.451 total time=   6.3s\n",
      "[CV 4/5] END alpha=0.0001, loss=squared_error, max_iter=1000, penalty=elasticnet, random_state=None;, score=0.463 total time=   8.3s\n",
      "[CV 5/5] END alpha=0.0001, loss=squared_error, max_iter=1000, penalty=elasticnet, random_state=None;, score=0.471 total time=   7.6s\n"
     ]
    },
    {
     "name": "stderr",
     "output_type": "stream",
     "text": [
      "C:\\Users\\sabat\\anaconda3\\lib\\site-packages\\sklearn\\linear_model\\_stochastic_gradient.py:696: ConvergenceWarning: Maximum number of iteration reached before convergence. Consider increasing max_iter to improve the fit.\n",
      "  warnings.warn(\n"
     ]
    },
    {
     "name": "stdout",
     "output_type": "stream",
     "text": [
      "[CV 1/5] END alpha=0.0001, loss=squared_error, max_iter=5000, penalty=l1, random_state=1;, score=0.545 total time=  51.2s\n"
     ]
    },
    {
     "name": "stderr",
     "output_type": "stream",
     "text": [
      "C:\\Users\\sabat\\anaconda3\\lib\\site-packages\\sklearn\\linear_model\\_stochastic_gradient.py:696: ConvergenceWarning: Maximum number of iteration reached before convergence. Consider increasing max_iter to improve the fit.\n",
      "  warnings.warn(\n"
     ]
    },
    {
     "name": "stdout",
     "output_type": "stream",
     "text": [
      "[CV 2/5] END alpha=0.0001, loss=squared_error, max_iter=5000, penalty=l1, random_state=1;, score=0.496 total time=  47.7s\n"
     ]
    },
    {
     "name": "stderr",
     "output_type": "stream",
     "text": [
      "C:\\Users\\sabat\\anaconda3\\lib\\site-packages\\sklearn\\linear_model\\_stochastic_gradient.py:696: ConvergenceWarning: Maximum number of iteration reached before convergence. Consider increasing max_iter to improve the fit.\n",
      "  warnings.warn(\n"
     ]
    },
    {
     "name": "stdout",
     "output_type": "stream",
     "text": [
      "[CV 3/5] END alpha=0.0001, loss=squared_error, max_iter=5000, penalty=l1, random_state=1;, score=0.464 total time=  47.0s\n"
     ]
    },
    {
     "name": "stderr",
     "output_type": "stream",
     "text": [
      "C:\\Users\\sabat\\anaconda3\\lib\\site-packages\\sklearn\\linear_model\\_stochastic_gradient.py:696: ConvergenceWarning: Maximum number of iteration reached before convergence. Consider increasing max_iter to improve the fit.\n",
      "  warnings.warn(\n"
     ]
    },
    {
     "name": "stdout",
     "output_type": "stream",
     "text": [
      "[CV 4/5] END alpha=0.0001, loss=squared_error, max_iter=5000, penalty=l1, random_state=1;, score=0.716 total time=  47.1s\n"
     ]
    },
    {
     "name": "stderr",
     "output_type": "stream",
     "text": [
      "C:\\Users\\sabat\\anaconda3\\lib\\site-packages\\sklearn\\linear_model\\_stochastic_gradient.py:696: ConvergenceWarning: Maximum number of iteration reached before convergence. Consider increasing max_iter to improve the fit.\n",
      "  warnings.warn(\n"
     ]
    },
    {
     "name": "stdout",
     "output_type": "stream",
     "text": [
      "[CV 5/5] END alpha=0.0001, loss=squared_error, max_iter=5000, penalty=l1, random_state=1;, score=0.560 total time=  54.6s\n"
     ]
    },
    {
     "name": "stderr",
     "output_type": "stream",
     "text": [
      "C:\\Users\\sabat\\anaconda3\\lib\\site-packages\\sklearn\\linear_model\\_stochastic_gradient.py:696: ConvergenceWarning: Maximum number of iteration reached before convergence. Consider increasing max_iter to improve the fit.\n",
      "  warnings.warn(\n"
     ]
    },
    {
     "name": "stdout",
     "output_type": "stream",
     "text": [
      "[CV 1/5] END alpha=0.0001, loss=squared_error, max_iter=5000, penalty=l1, random_state=None;, score=0.506 total time=  57.2s\n"
     ]
    },
    {
     "name": "stderr",
     "output_type": "stream",
     "text": [
      "C:\\Users\\sabat\\anaconda3\\lib\\site-packages\\sklearn\\linear_model\\_stochastic_gradient.py:696: ConvergenceWarning: Maximum number of iteration reached before convergence. Consider increasing max_iter to improve the fit.\n",
      "  warnings.warn(\n"
     ]
    },
    {
     "name": "stdout",
     "output_type": "stream",
     "text": [
      "[CV 2/5] END alpha=0.0001, loss=squared_error, max_iter=5000, penalty=l1, random_state=None;, score=0.503 total time=  58.3s\n"
     ]
    },
    {
     "name": "stderr",
     "output_type": "stream",
     "text": [
      "C:\\Users\\sabat\\anaconda3\\lib\\site-packages\\sklearn\\linear_model\\_stochastic_gradient.py:696: ConvergenceWarning: Maximum number of iteration reached before convergence. Consider increasing max_iter to improve the fit.\n",
      "  warnings.warn(\n"
     ]
    },
    {
     "name": "stdout",
     "output_type": "stream",
     "text": [
      "[CV 3/5] END alpha=0.0001, loss=squared_error, max_iter=5000, penalty=l1, random_state=None;, score=0.584 total time=  55.2s\n"
     ]
    },
    {
     "name": "stderr",
     "output_type": "stream",
     "text": [
      "C:\\Users\\sabat\\anaconda3\\lib\\site-packages\\sklearn\\linear_model\\_stochastic_gradient.py:696: ConvergenceWarning: Maximum number of iteration reached before convergence. Consider increasing max_iter to improve the fit.\n",
      "  warnings.warn(\n"
     ]
    },
    {
     "name": "stdout",
     "output_type": "stream",
     "text": [
      "[CV 4/5] END alpha=0.0001, loss=squared_error, max_iter=5000, penalty=l1, random_state=None;, score=0.459 total time=  55.9s\n"
     ]
    },
    {
     "name": "stderr",
     "output_type": "stream",
     "text": [
      "C:\\Users\\sabat\\anaconda3\\lib\\site-packages\\sklearn\\linear_model\\_stochastic_gradient.py:696: ConvergenceWarning: Maximum number of iteration reached before convergence. Consider increasing max_iter to improve the fit.\n",
      "  warnings.warn(\n"
     ]
    },
    {
     "name": "stdout",
     "output_type": "stream",
     "text": [
      "[CV 5/5] END alpha=0.0001, loss=squared_error, max_iter=5000, penalty=l1, random_state=None;, score=0.389 total time=  55.8s\n",
      "[CV 1/5] END alpha=0.0001, loss=squared_error, max_iter=5000, penalty=l2, random_state=1;, score=0.470 total time=   3.6s\n",
      "[CV 2/5] END alpha=0.0001, loss=squared_error, max_iter=5000, penalty=l2, random_state=1;, score=0.439 total time=   5.1s\n",
      "[CV 3/5] END alpha=0.0001, loss=squared_error, max_iter=5000, penalty=l2, random_state=1;, score=0.526 total time=   3.9s\n",
      "[CV 4/5] END alpha=0.0001, loss=squared_error, max_iter=5000, penalty=l2, random_state=1;, score=0.453 total time=   8.9s\n",
      "[CV 5/5] END alpha=0.0001, loss=squared_error, max_iter=5000, penalty=l2, random_state=1;, score=0.475 total time=   2.2s\n",
      "[CV 1/5] END alpha=0.0001, loss=squared_error, max_iter=5000, penalty=l2, random_state=None;, score=0.474 total time=   3.2s\n",
      "[CV 2/5] END alpha=0.0001, loss=squared_error, max_iter=5000, penalty=l2, random_state=None;, score=0.421 total time=   3.7s\n",
      "[CV 3/5] END alpha=0.0001, loss=squared_error, max_iter=5000, penalty=l2, random_state=None;, score=0.449 total time=   7.2s\n",
      "[CV 4/5] END alpha=0.0001, loss=squared_error, max_iter=5000, penalty=l2, random_state=None;, score=0.459 total time=   8.7s\n",
      "[CV 5/5] END alpha=0.0001, loss=squared_error, max_iter=5000, penalty=l2, random_state=None;, score=0.570 total time=   4.1s\n",
      "[CV 1/5] END alpha=0.0001, loss=squared_error, max_iter=5000, penalty=elasticnet, random_state=1;, score=0.549 total time=   7.1s\n",
      "[CV 2/5] END alpha=0.0001, loss=squared_error, max_iter=5000, penalty=elasticnet, random_state=1;, score=0.540 total time=   5.8s\n",
      "[CV 3/5] END alpha=0.0001, loss=squared_error, max_iter=5000, penalty=elasticnet, random_state=1;, score=0.524 total time=   4.4s\n",
      "[CV 4/5] END alpha=0.0001, loss=squared_error, max_iter=5000, penalty=elasticnet, random_state=1;, score=0.445 total time=  10.2s\n",
      "[CV 5/5] END alpha=0.0001, loss=squared_error, max_iter=5000, penalty=elasticnet, random_state=1;, score=0.525 total time=   3.7s\n",
      "[CV 1/5] END alpha=0.0001, loss=squared_error, max_iter=5000, penalty=elasticnet, random_state=None;, score=0.471 total time=   8.2s\n",
      "[CV 2/5] END alpha=0.0001, loss=squared_error, max_iter=5000, penalty=elasticnet, random_state=None;, score=0.453 total time=   4.9s\n",
      "[CV 3/5] END alpha=0.0001, loss=squared_error, max_iter=5000, penalty=elasticnet, random_state=None;, score=0.418 total time=   5.6s\n",
      "[CV 4/5] END alpha=0.0001, loss=squared_error, max_iter=5000, penalty=elasticnet, random_state=None;, score=0.387 total time=   4.1s\n",
      "[CV 5/5] END alpha=0.0001, loss=squared_error, max_iter=5000, penalty=elasticnet, random_state=None;, score=0.447 total time=  11.0s\n",
      "[CV 1/5] END alpha=0.0001, loss=huber, max_iter=100, penalty=l1, random_state=1;, score=0.783 total time=   0.0s\n",
      "[CV 2/5] END alpha=0.0001, loss=huber, max_iter=100, penalty=l1, random_state=1;, score=0.770 total time=   0.0s\n",
      "[CV 3/5] END alpha=0.0001, loss=huber, max_iter=100, penalty=l1, random_state=1;, score=0.777 total time=   0.0s\n",
      "[CV 4/5] END alpha=0.0001, loss=huber, max_iter=100, penalty=l1, random_state=1;, score=0.772 total time=   0.0s\n",
      "[CV 5/5] END alpha=0.0001, loss=huber, max_iter=100, penalty=l1, random_state=1;, score=0.781 total time=   0.0s\n",
      "[CV 1/5] END alpha=0.0001, loss=huber, max_iter=100, penalty=l1, random_state=None;, score=0.783 total time=   0.0s\n",
      "[CV 2/5] END alpha=0.0001, loss=huber, max_iter=100, penalty=l1, random_state=None;, score=0.770 total time=   0.0s\n",
      "[CV 3/5] END alpha=0.0001, loss=huber, max_iter=100, penalty=l1, random_state=None;, score=0.777 total time=   0.0s\n",
      "[CV 4/5] END alpha=0.0001, loss=huber, max_iter=100, penalty=l1, random_state=None;, score=0.772 total time=   0.0s\n",
      "[CV 5/5] END alpha=0.0001, loss=huber, max_iter=100, penalty=l1, random_state=None;, score=0.781 total time=   0.0s\n",
      "[CV 1/5] END alpha=0.0001, loss=huber, max_iter=100, penalty=l2, random_state=1;, score=0.783 total time=   0.0s\n",
      "[CV 2/5] END alpha=0.0001, loss=huber, max_iter=100, penalty=l2, random_state=1;, score=0.768 total time=   0.0s\n",
      "[CV 3/5] END alpha=0.0001, loss=huber, max_iter=100, penalty=l2, random_state=1;, score=0.778 total time=   0.0s\n",
      "[CV 4/5] END alpha=0.0001, loss=huber, max_iter=100, penalty=l2, random_state=1;, score=0.772 total time=   0.0s\n",
      "[CV 5/5] END alpha=0.0001, loss=huber, max_iter=100, penalty=l2, random_state=1;, score=0.782 total time=   0.0s\n",
      "[CV 1/5] END alpha=0.0001, loss=huber, max_iter=100, penalty=l2, random_state=None;, score=0.783 total time=   0.0s\n",
      "[CV 2/5] END alpha=0.0001, loss=huber, max_iter=100, penalty=l2, random_state=None;, score=0.768 total time=   0.0s\n",
      "[CV 3/5] END alpha=0.0001, loss=huber, max_iter=100, penalty=l2, random_state=None;, score=0.777 total time=   0.0s\n",
      "[CV 4/5] END alpha=0.0001, loss=huber, max_iter=100, penalty=l2, random_state=None;, score=0.772 total time=   0.0s\n",
      "[CV 5/5] END alpha=0.0001, loss=huber, max_iter=100, penalty=l2, random_state=None;, score=0.783 total time=   0.0s\n",
      "[CV 1/5] END alpha=0.0001, loss=huber, max_iter=100, penalty=elasticnet, random_state=1;, score=0.783 total time=   0.1s\n",
      "[CV 2/5] END alpha=0.0001, loss=huber, max_iter=100, penalty=elasticnet, random_state=1;, score=0.772 total time=   0.1s\n",
      "[CV 3/5] END alpha=0.0001, loss=huber, max_iter=100, penalty=elasticnet, random_state=1;, score=0.777 total time=   0.1s\n",
      "[CV 4/5] END alpha=0.0001, loss=huber, max_iter=100, penalty=elasticnet, random_state=1;, score=0.772 total time=   0.1s\n",
      "[CV 5/5] END alpha=0.0001, loss=huber, max_iter=100, penalty=elasticnet, random_state=1;, score=0.781 total time=   0.1s\n",
      "[CV 1/5] END alpha=0.0001, loss=huber, max_iter=100, penalty=elasticnet, random_state=None;, score=0.783 total time=   0.1s\n",
      "[CV 2/5] END alpha=0.0001, loss=huber, max_iter=100, penalty=elasticnet, random_state=None;, score=0.772 total time=   0.1s\n",
      "[CV 3/5] END alpha=0.0001, loss=huber, max_iter=100, penalty=elasticnet, random_state=None;, score=0.777 total time=   0.1s\n",
      "[CV 4/5] END alpha=0.0001, loss=huber, max_iter=100, penalty=elasticnet, random_state=None;, score=0.772 total time=   0.1s\n",
      "[CV 5/5] END alpha=0.0001, loss=huber, max_iter=100, penalty=elasticnet, random_state=None;, score=0.781 total time=   0.1s\n",
      "[CV 1/5] END alpha=0.0001, loss=huber, max_iter=1000, penalty=l1, random_state=1;, score=0.783 total time=   0.1s\n",
      "[CV 2/5] END alpha=0.0001, loss=huber, max_iter=1000, penalty=l1, random_state=1;, score=0.770 total time=   0.1s\n",
      "[CV 3/5] END alpha=0.0001, loss=huber, max_iter=1000, penalty=l1, random_state=1;, score=0.777 total time=   0.1s\n",
      "[CV 4/5] END alpha=0.0001, loss=huber, max_iter=1000, penalty=l1, random_state=1;, score=0.772 total time=   0.1s\n",
      "[CV 5/5] END alpha=0.0001, loss=huber, max_iter=1000, penalty=l1, random_state=1;, score=0.781 total time=   0.0s\n",
      "[CV 1/5] END alpha=0.0001, loss=huber, max_iter=1000, penalty=l1, random_state=None;, score=0.783 total time=   0.1s\n",
      "[CV 2/5] END alpha=0.0001, loss=huber, max_iter=1000, penalty=l1, random_state=None;, score=0.770 total time=   0.1s\n",
      "[CV 3/5] END alpha=0.0001, loss=huber, max_iter=1000, penalty=l1, random_state=None;, score=0.777 total time=   0.1s\n",
      "[CV 4/5] END alpha=0.0001, loss=huber, max_iter=1000, penalty=l1, random_state=None;, score=0.772 total time=   0.0s\n",
      "[CV 5/5] END alpha=0.0001, loss=huber, max_iter=1000, penalty=l1, random_state=None;, score=0.781 total time=   0.1s\n",
      "[CV 1/5] END alpha=0.0001, loss=huber, max_iter=1000, penalty=l2, random_state=1;, score=0.783 total time=   0.0s\n",
      "[CV 2/5] END alpha=0.0001, loss=huber, max_iter=1000, penalty=l2, random_state=1;, score=0.768 total time=   0.1s\n",
      "[CV 3/5] END alpha=0.0001, loss=huber, max_iter=1000, penalty=l2, random_state=1;, score=0.778 total time=   0.1s\n",
      "[CV 4/5] END alpha=0.0001, loss=huber, max_iter=1000, penalty=l2, random_state=1;, score=0.772 total time=   0.0s\n",
      "[CV 5/5] END alpha=0.0001, loss=huber, max_iter=1000, penalty=l2, random_state=1;, score=0.782 total time=   0.0s\n",
      "[CV 1/5] END alpha=0.0001, loss=huber, max_iter=1000, penalty=l2, random_state=None;, score=0.783 total time=   0.0s\n",
      "[CV 2/5] END alpha=0.0001, loss=huber, max_iter=1000, penalty=l2, random_state=None;, score=0.767 total time=   0.0s\n",
      "[CV 3/5] END alpha=0.0001, loss=huber, max_iter=1000, penalty=l2, random_state=None;, score=0.777 total time=   0.0s\n",
      "[CV 4/5] END alpha=0.0001, loss=huber, max_iter=1000, penalty=l2, random_state=None;, score=0.772 total time=   0.0s\n"
     ]
    },
    {
     "name": "stdout",
     "output_type": "stream",
     "text": [
      "[CV 5/5] END alpha=0.0001, loss=huber, max_iter=1000, penalty=l2, random_state=None;, score=0.782 total time=   0.0s\n",
      "[CV 1/5] END alpha=0.0001, loss=huber, max_iter=1000, penalty=elasticnet, random_state=1;, score=0.783 total time=   0.1s\n",
      "[CV 2/5] END alpha=0.0001, loss=huber, max_iter=1000, penalty=elasticnet, random_state=1;, score=0.772 total time=   0.1s\n",
      "[CV 3/5] END alpha=0.0001, loss=huber, max_iter=1000, penalty=elasticnet, random_state=1;, score=0.777 total time=   0.1s\n",
      "[CV 4/5] END alpha=0.0001, loss=huber, max_iter=1000, penalty=elasticnet, random_state=1;, score=0.772 total time=   0.1s\n",
      "[CV 5/5] END alpha=0.0001, loss=huber, max_iter=1000, penalty=elasticnet, random_state=1;, score=0.781 total time=   0.1s\n",
      "[CV 1/5] END alpha=0.0001, loss=huber, max_iter=1000, penalty=elasticnet, random_state=None;, score=0.783 total time=   0.1s\n",
      "[CV 2/5] END alpha=0.0001, loss=huber, max_iter=1000, penalty=elasticnet, random_state=None;, score=0.772 total time=   0.1s\n",
      "[CV 3/5] END alpha=0.0001, loss=huber, max_iter=1000, penalty=elasticnet, random_state=None;, score=0.777 total time=   0.1s\n",
      "[CV 4/5] END alpha=0.0001, loss=huber, max_iter=1000, penalty=elasticnet, random_state=None;, score=0.772 total time=   0.1s\n",
      "[CV 5/5] END alpha=0.0001, loss=huber, max_iter=1000, penalty=elasticnet, random_state=None;, score=0.781 total time=   0.1s\n",
      "[CV 1/5] END alpha=0.0001, loss=huber, max_iter=5000, penalty=l1, random_state=1;, score=0.783 total time=   0.1s\n",
      "[CV 2/5] END alpha=0.0001, loss=huber, max_iter=5000, penalty=l1, random_state=1;, score=0.770 total time=   0.0s\n",
      "[CV 3/5] END alpha=0.0001, loss=huber, max_iter=5000, penalty=l1, random_state=1;, score=0.777 total time=   0.0s\n",
      "[CV 4/5] END alpha=0.0001, loss=huber, max_iter=5000, penalty=l1, random_state=1;, score=0.772 total time=   0.1s\n",
      "[CV 5/5] END alpha=0.0001, loss=huber, max_iter=5000, penalty=l1, random_state=1;, score=0.781 total time=   0.1s\n",
      "[CV 1/5] END alpha=0.0001, loss=huber, max_iter=5000, penalty=l1, random_state=None;, score=0.783 total time=   0.0s\n",
      "[CV 2/5] END alpha=0.0001, loss=huber, max_iter=5000, penalty=l1, random_state=None;, score=0.770 total time=   0.1s\n",
      "[CV 3/5] END alpha=0.0001, loss=huber, max_iter=5000, penalty=l1, random_state=None;, score=0.777 total time=   0.0s\n",
      "[CV 4/5] END alpha=0.0001, loss=huber, max_iter=5000, penalty=l1, random_state=None;, score=0.772 total time=   0.0s\n",
      "[CV 5/5] END alpha=0.0001, loss=huber, max_iter=5000, penalty=l1, random_state=None;, score=0.781 total time=   0.1s\n",
      "[CV 1/5] END alpha=0.0001, loss=huber, max_iter=5000, penalty=l2, random_state=1;, score=0.783 total time=   0.0s\n",
      "[CV 2/5] END alpha=0.0001, loss=huber, max_iter=5000, penalty=l2, random_state=1;, score=0.768 total time=   0.0s\n",
      "[CV 3/5] END alpha=0.0001, loss=huber, max_iter=5000, penalty=l2, random_state=1;, score=0.778 total time=   0.0s\n",
      "[CV 4/5] END alpha=0.0001, loss=huber, max_iter=5000, penalty=l2, random_state=1;, score=0.772 total time=   0.0s\n",
      "[CV 5/5] END alpha=0.0001, loss=huber, max_iter=5000, penalty=l2, random_state=1;, score=0.782 total time=   0.0s\n",
      "[CV 1/5] END alpha=0.0001, loss=huber, max_iter=5000, penalty=l2, random_state=None;, score=0.784 total time=   0.0s\n",
      "[CV 2/5] END alpha=0.0001, loss=huber, max_iter=5000, penalty=l2, random_state=None;, score=0.767 total time=   0.0s\n",
      "[CV 3/5] END alpha=0.0001, loss=huber, max_iter=5000, penalty=l2, random_state=None;, score=0.777 total time=   0.0s\n",
      "[CV 4/5] END alpha=0.0001, loss=huber, max_iter=5000, penalty=l2, random_state=None;, score=0.772 total time=   0.0s\n",
      "[CV 5/5] END alpha=0.0001, loss=huber, max_iter=5000, penalty=l2, random_state=None;, score=0.781 total time=   0.0s\n",
      "[CV 1/5] END alpha=0.0001, loss=huber, max_iter=5000, penalty=elasticnet, random_state=1;, score=0.783 total time=   0.1s\n",
      "[CV 2/5] END alpha=0.0001, loss=huber, max_iter=5000, penalty=elasticnet, random_state=1;, score=0.772 total time=   0.1s\n",
      "[CV 3/5] END alpha=0.0001, loss=huber, max_iter=5000, penalty=elasticnet, random_state=1;, score=0.777 total time=   0.1s\n",
      "[CV 4/5] END alpha=0.0001, loss=huber, max_iter=5000, penalty=elasticnet, random_state=1;, score=0.772 total time=   0.1s\n",
      "[CV 5/5] END alpha=0.0001, loss=huber, max_iter=5000, penalty=elasticnet, random_state=1;, score=0.781 total time=   0.0s\n",
      "[CV 1/5] END alpha=0.0001, loss=huber, max_iter=5000, penalty=elasticnet, random_state=None;, score=0.783 total time=   0.1s\n",
      "[CV 2/5] END alpha=0.0001, loss=huber, max_iter=5000, penalty=elasticnet, random_state=None;, score=0.772 total time=   0.1s\n",
      "[CV 3/5] END alpha=0.0001, loss=huber, max_iter=5000, penalty=elasticnet, random_state=None;, score=0.777 total time=   0.1s\n",
      "[CV 4/5] END alpha=0.0001, loss=huber, max_iter=5000, penalty=elasticnet, random_state=None;, score=0.772 total time=   0.1s\n",
      "[CV 5/5] END alpha=0.0001, loss=huber, max_iter=5000, penalty=elasticnet, random_state=None;, score=0.781 total time=   0.1s\n",
      "[CV 1/5] END alpha=0.0001, loss=epsilon_insensitive, max_iter=100, penalty=l1, random_state=1;, score=0.783 total time=   0.4s\n",
      "[CV 2/5] END alpha=0.0001, loss=epsilon_insensitive, max_iter=100, penalty=l1, random_state=1;, score=0.768 total time=   0.4s\n",
      "[CV 3/5] END alpha=0.0001, loss=epsilon_insensitive, max_iter=100, penalty=l1, random_state=1;, score=0.781 total time=   0.4s\n",
      "[CV 4/5] END alpha=0.0001, loss=epsilon_insensitive, max_iter=100, penalty=l1, random_state=1;, score=0.772 total time=   0.3s\n",
      "[CV 5/5] END alpha=0.0001, loss=epsilon_insensitive, max_iter=100, penalty=l1, random_state=1;, score=0.782 total time=   0.4s\n",
      "[CV 1/5] END alpha=0.0001, loss=epsilon_insensitive, max_iter=100, penalty=l1, random_state=None;, score=0.783 total time=   0.3s\n",
      "[CV 2/5] END alpha=0.0001, loss=epsilon_insensitive, max_iter=100, penalty=l1, random_state=None;, score=0.768 total time=   0.4s\n",
      "[CV 3/5] END alpha=0.0001, loss=epsilon_insensitive, max_iter=100, penalty=l1, random_state=None;, score=0.781 total time=   0.3s\n",
      "[CV 4/5] END alpha=0.0001, loss=epsilon_insensitive, max_iter=100, penalty=l1, random_state=None;, score=0.772 total time=   0.4s\n",
      "[CV 5/5] END alpha=0.0001, loss=epsilon_insensitive, max_iter=100, penalty=l1, random_state=None;, score=0.781 total time=   0.4s\n",
      "[CV 1/5] END alpha=0.0001, loss=epsilon_insensitive, max_iter=100, penalty=l2, random_state=1;, score=0.786 total time=   0.3s\n",
      "[CV 2/5] END alpha=0.0001, loss=epsilon_insensitive, max_iter=100, penalty=l2, random_state=1;, score=0.769 total time=   0.3s\n",
      "[CV 3/5] END alpha=0.0001, loss=epsilon_insensitive, max_iter=100, penalty=l2, random_state=1;, score=0.782 total time=   0.3s\n",
      "[CV 4/5] END alpha=0.0001, loss=epsilon_insensitive, max_iter=100, penalty=l2, random_state=1;, score=0.774 total time=   0.3s\n",
      "[CV 5/5] END alpha=0.0001, loss=epsilon_insensitive, max_iter=100, penalty=l2, random_state=1;, score=0.779 total time=   0.3s\n",
      "[CV 1/5] END alpha=0.0001, loss=epsilon_insensitive, max_iter=100, penalty=l2, random_state=None;, score=0.786 total time=   0.3s\n",
      "[CV 2/5] END alpha=0.0001, loss=epsilon_insensitive, max_iter=100, penalty=l2, random_state=None;, score=0.770 total time=   0.3s\n",
      "[CV 3/5] END alpha=0.0001, loss=epsilon_insensitive, max_iter=100, penalty=l2, random_state=None;, score=0.781 total time=   0.3s\n",
      "[CV 4/5] END alpha=0.0001, loss=epsilon_insensitive, max_iter=100, penalty=l2, random_state=None;, score=0.774 total time=   0.3s\n",
      "[CV 5/5] END alpha=0.0001, loss=epsilon_insensitive, max_iter=100, penalty=l2, random_state=None;, score=0.779 total time=   0.3s\n",
      "[CV 1/5] END alpha=0.0001, loss=epsilon_insensitive, max_iter=100, penalty=elasticnet, random_state=1;, score=0.786 total time=   0.5s\n",
      "[CV 2/5] END alpha=0.0001, loss=epsilon_insensitive, max_iter=100, penalty=elasticnet, random_state=1;, score=0.769 total time=   0.4s\n",
      "[CV 3/5] END alpha=0.0001, loss=epsilon_insensitive, max_iter=100, penalty=elasticnet, random_state=1;, score=0.781 total time=   0.4s\n",
      "[CV 4/5] END alpha=0.0001, loss=epsilon_insensitive, max_iter=100, penalty=elasticnet, random_state=1;, score=0.774 total time=   0.4s\n",
      "[CV 5/5] END alpha=0.0001, loss=epsilon_insensitive, max_iter=100, penalty=elasticnet, random_state=1;, score=0.779 total time=   0.5s\n",
      "[CV 1/5] END alpha=0.0001, loss=epsilon_insensitive, max_iter=100, penalty=elasticnet, random_state=None;, score=0.786 total time=   0.5s\n"
     ]
    },
    {
     "name": "stdout",
     "output_type": "stream",
     "text": [
      "[CV 2/5] END alpha=0.0001, loss=epsilon_insensitive, max_iter=100, penalty=elasticnet, random_state=None;, score=0.769 total time=   0.6s\n",
      "[CV 3/5] END alpha=0.0001, loss=epsilon_insensitive, max_iter=100, penalty=elasticnet, random_state=None;, score=0.781 total time=   0.4s\n",
      "[CV 4/5] END alpha=0.0001, loss=epsilon_insensitive, max_iter=100, penalty=elasticnet, random_state=None;, score=0.774 total time=   0.6s\n",
      "[CV 5/5] END alpha=0.0001, loss=epsilon_insensitive, max_iter=100, penalty=elasticnet, random_state=None;, score=0.779 total time=   0.5s\n",
      "[CV 1/5] END alpha=0.0001, loss=epsilon_insensitive, max_iter=1000, penalty=l1, random_state=1;, score=0.783 total time=   0.4s\n",
      "[CV 2/5] END alpha=0.0001, loss=epsilon_insensitive, max_iter=1000, penalty=l1, random_state=1;, score=0.768 total time=   0.4s\n",
      "[CV 3/5] END alpha=0.0001, loss=epsilon_insensitive, max_iter=1000, penalty=l1, random_state=1;, score=0.781 total time=   0.4s\n",
      "[CV 4/5] END alpha=0.0001, loss=epsilon_insensitive, max_iter=1000, penalty=l1, random_state=1;, score=0.772 total time=   0.4s\n",
      "[CV 5/5] END alpha=0.0001, loss=epsilon_insensitive, max_iter=1000, penalty=l1, random_state=1;, score=0.782 total time=   0.4s\n",
      "[CV 1/5] END alpha=0.0001, loss=epsilon_insensitive, max_iter=1000, penalty=l1, random_state=None;, score=0.783 total time=   0.5s\n",
      "[CV 2/5] END alpha=0.0001, loss=epsilon_insensitive, max_iter=1000, penalty=l1, random_state=None;, score=0.767 total time=   0.5s\n",
      "[CV 3/5] END alpha=0.0001, loss=epsilon_insensitive, max_iter=1000, penalty=l1, random_state=None;, score=0.781 total time=   0.4s\n",
      "[CV 4/5] END alpha=0.0001, loss=epsilon_insensitive, max_iter=1000, penalty=l1, random_state=None;, score=0.772 total time=   0.4s\n",
      "[CV 5/5] END alpha=0.0001, loss=epsilon_insensitive, max_iter=1000, penalty=l1, random_state=None;, score=0.781 total time=   0.4s\n",
      "[CV 1/5] END alpha=0.0001, loss=epsilon_insensitive, max_iter=1000, penalty=l2, random_state=1;, score=0.786 total time=   0.3s\n",
      "[CV 2/5] END alpha=0.0001, loss=epsilon_insensitive, max_iter=1000, penalty=l2, random_state=1;, score=0.769 total time=   0.3s\n",
      "[CV 3/5] END alpha=0.0001, loss=epsilon_insensitive, max_iter=1000, penalty=l2, random_state=1;, score=0.782 total time=   0.3s\n",
      "[CV 4/5] END alpha=0.0001, loss=epsilon_insensitive, max_iter=1000, penalty=l2, random_state=1;, score=0.774 total time=   0.3s\n",
      "[CV 5/5] END alpha=0.0001, loss=epsilon_insensitive, max_iter=1000, penalty=l2, random_state=1;, score=0.779 total time=   0.3s\n",
      "[CV 1/5] END alpha=0.0001, loss=epsilon_insensitive, max_iter=1000, penalty=l2, random_state=None;, score=0.786 total time=   0.3s\n",
      "[CV 2/5] END alpha=0.0001, loss=epsilon_insensitive, max_iter=1000, penalty=l2, random_state=None;, score=0.769 total time=   0.3s\n",
      "[CV 3/5] END alpha=0.0001, loss=epsilon_insensitive, max_iter=1000, penalty=l2, random_state=None;, score=0.781 total time=   0.3s\n",
      "[CV 4/5] END alpha=0.0001, loss=epsilon_insensitive, max_iter=1000, penalty=l2, random_state=None;, score=0.774 total time=   0.4s\n",
      "[CV 5/5] END alpha=0.0001, loss=epsilon_insensitive, max_iter=1000, penalty=l2, random_state=None;, score=0.780 total time=   0.3s\n",
      "[CV 1/5] END alpha=0.0001, loss=epsilon_insensitive, max_iter=1000, penalty=elasticnet, random_state=1;, score=0.786 total time=   0.5s\n",
      "[CV 2/5] END alpha=0.0001, loss=epsilon_insensitive, max_iter=1000, penalty=elasticnet, random_state=1;, score=0.769 total time=   0.5s\n",
      "[CV 3/5] END alpha=0.0001, loss=epsilon_insensitive, max_iter=1000, penalty=elasticnet, random_state=1;, score=0.781 total time=   0.5s\n",
      "[CV 4/5] END alpha=0.0001, loss=epsilon_insensitive, max_iter=1000, penalty=elasticnet, random_state=1;, score=0.774 total time=   0.5s\n",
      "[CV 5/5] END alpha=0.0001, loss=epsilon_insensitive, max_iter=1000, penalty=elasticnet, random_state=1;, score=0.779 total time=   0.4s\n",
      "[CV 1/5] END alpha=0.0001, loss=epsilon_insensitive, max_iter=1000, penalty=elasticnet, random_state=None;, score=0.786 total time=   0.5s\n",
      "[CV 2/5] END alpha=0.0001, loss=epsilon_insensitive, max_iter=1000, penalty=elasticnet, random_state=None;, score=0.769 total time=   0.5s\n",
      "[CV 3/5] END alpha=0.0001, loss=epsilon_insensitive, max_iter=1000, penalty=elasticnet, random_state=None;, score=0.781 total time=   0.5s\n",
      "[CV 4/5] END alpha=0.0001, loss=epsilon_insensitive, max_iter=1000, penalty=elasticnet, random_state=None;, score=0.774 total time=   0.4s\n",
      "[CV 5/5] END alpha=0.0001, loss=epsilon_insensitive, max_iter=1000, penalty=elasticnet, random_state=None;, score=0.779 total time=   0.4s\n",
      "[CV 1/5] END alpha=0.0001, loss=epsilon_insensitive, max_iter=5000, penalty=l1, random_state=1;, score=0.783 total time=   0.3s\n",
      "[CV 2/5] END alpha=0.0001, loss=epsilon_insensitive, max_iter=5000, penalty=l1, random_state=1;, score=0.768 total time=   0.4s\n",
      "[CV 3/5] END alpha=0.0001, loss=epsilon_insensitive, max_iter=5000, penalty=l1, random_state=1;, score=0.781 total time=   0.4s\n",
      "[CV 4/5] END alpha=0.0001, loss=epsilon_insensitive, max_iter=5000, penalty=l1, random_state=1;, score=0.772 total time=   0.3s\n",
      "[CV 5/5] END alpha=0.0001, loss=epsilon_insensitive, max_iter=5000, penalty=l1, random_state=1;, score=0.782 total time=   0.5s\n",
      "[CV 1/5] END alpha=0.0001, loss=epsilon_insensitive, max_iter=5000, penalty=l1, random_state=None;, score=0.783 total time=   0.5s\n",
      "[CV 2/5] END alpha=0.0001, loss=epsilon_insensitive, max_iter=5000, penalty=l1, random_state=None;, score=0.768 total time=   0.4s\n",
      "[CV 3/5] END alpha=0.0001, loss=epsilon_insensitive, max_iter=5000, penalty=l1, random_state=None;, score=0.781 total time=   0.4s\n",
      "[CV 4/5] END alpha=0.0001, loss=epsilon_insensitive, max_iter=5000, penalty=l1, random_state=None;, score=0.772 total time=   0.4s\n",
      "[CV 5/5] END alpha=0.0001, loss=epsilon_insensitive, max_iter=5000, penalty=l1, random_state=None;, score=0.782 total time=   0.3s\n",
      "[CV 1/5] END alpha=0.0001, loss=epsilon_insensitive, max_iter=5000, penalty=l2, random_state=1;, score=0.786 total time=   0.3s\n",
      "[CV 2/5] END alpha=0.0001, loss=epsilon_insensitive, max_iter=5000, penalty=l2, random_state=1;, score=0.769 total time=   0.3s\n",
      "[CV 3/5] END alpha=0.0001, loss=epsilon_insensitive, max_iter=5000, penalty=l2, random_state=1;, score=0.782 total time=   0.3s\n",
      "[CV 4/5] END alpha=0.0001, loss=epsilon_insensitive, max_iter=5000, penalty=l2, random_state=1;, score=0.774 total time=   0.3s\n",
      "[CV 5/5] END alpha=0.0001, loss=epsilon_insensitive, max_iter=5000, penalty=l2, random_state=1;, score=0.779 total time=   0.3s\n",
      "[CV 1/5] END alpha=0.0001, loss=epsilon_insensitive, max_iter=5000, penalty=l2, random_state=None;, score=0.786 total time=   0.3s\n",
      "[CV 2/5] END alpha=0.0001, loss=epsilon_insensitive, max_iter=5000, penalty=l2, random_state=None;, score=0.769 total time=   0.3s\n",
      "[CV 3/5] END alpha=0.0001, loss=epsilon_insensitive, max_iter=5000, penalty=l2, random_state=None;, score=0.781 total time=   0.4s\n",
      "[CV 4/5] END alpha=0.0001, loss=epsilon_insensitive, max_iter=5000, penalty=l2, random_state=None;, score=0.774 total time=   0.3s\n",
      "[CV 5/5] END alpha=0.0001, loss=epsilon_insensitive, max_iter=5000, penalty=l2, random_state=None;, score=0.780 total time=   0.4s\n",
      "[CV 1/5] END alpha=0.0001, loss=epsilon_insensitive, max_iter=5000, penalty=elasticnet, random_state=1;, score=0.786 total time=   0.5s\n",
      "[CV 2/5] END alpha=0.0001, loss=epsilon_insensitive, max_iter=5000, penalty=elasticnet, random_state=1;, score=0.769 total time=   0.5s\n",
      "[CV 3/5] END alpha=0.0001, loss=epsilon_insensitive, max_iter=5000, penalty=elasticnet, random_state=1;, score=0.781 total time=   0.5s\n",
      "[CV 4/5] END alpha=0.0001, loss=epsilon_insensitive, max_iter=5000, penalty=elasticnet, random_state=1;, score=0.774 total time=   0.4s\n",
      "[CV 5/5] END alpha=0.0001, loss=epsilon_insensitive, max_iter=5000, penalty=elasticnet, random_state=1;, score=0.779 total time=   0.5s\n",
      "[CV 1/5] END alpha=0.0001, loss=epsilon_insensitive, max_iter=5000, penalty=elasticnet, random_state=None;, score=0.786 total time=   0.5s\n",
      "[CV 2/5] END alpha=0.0001, loss=epsilon_insensitive, max_iter=5000, penalty=elasticnet, random_state=None;, score=0.769 total time=   0.5s\n",
      "[CV 3/5] END alpha=0.0001, loss=epsilon_insensitive, max_iter=5000, penalty=elasticnet, random_state=None;, score=0.781 total time=   0.4s\n"
     ]
    },
    {
     "name": "stdout",
     "output_type": "stream",
     "text": [
      "[CV 4/5] END alpha=0.0001, loss=epsilon_insensitive, max_iter=5000, penalty=elasticnet, random_state=None;, score=0.774 total time=   0.4s\n",
      "[CV 5/5] END alpha=0.0001, loss=epsilon_insensitive, max_iter=5000, penalty=elasticnet, random_state=None;, score=0.779 total time=   0.5s\n",
      "[CV 1/5] END alpha=0.1, loss=hinge, max_iter=100, penalty=l1, random_state=1;, score=0.747 total time=   0.0s\n",
      "[CV 2/5] END alpha=0.1, loss=hinge, max_iter=100, penalty=l1, random_state=1;, score=0.747 total time=   0.0s\n",
      "[CV 3/5] END alpha=0.1, loss=hinge, max_iter=100, penalty=l1, random_state=1;, score=0.747 total time=   0.0s\n",
      "[CV 4/5] END alpha=0.1, loss=hinge, max_iter=100, penalty=l1, random_state=1;, score=0.747 total time=   0.0s\n",
      "[CV 5/5] END alpha=0.1, loss=hinge, max_iter=100, penalty=l1, random_state=1;, score=0.747 total time=   0.0s\n",
      "[CV 1/5] END alpha=0.1, loss=hinge, max_iter=100, penalty=l1, random_state=None;, score=0.747 total time=   0.0s\n",
      "[CV 2/5] END alpha=0.1, loss=hinge, max_iter=100, penalty=l1, random_state=None;, score=0.747 total time=   0.0s\n",
      "[CV 3/5] END alpha=0.1, loss=hinge, max_iter=100, penalty=l1, random_state=None;, score=0.747 total time=   0.0s\n",
      "[CV 4/5] END alpha=0.1, loss=hinge, max_iter=100, penalty=l1, random_state=None;, score=0.747 total time=   0.0s\n",
      "[CV 5/5] END alpha=0.1, loss=hinge, max_iter=100, penalty=l1, random_state=None;, score=0.747 total time=   0.0s\n",
      "[CV 1/5] END alpha=0.1, loss=hinge, max_iter=100, penalty=l2, random_state=1;, score=0.747 total time=   0.0s\n",
      "[CV 2/5] END alpha=0.1, loss=hinge, max_iter=100, penalty=l2, random_state=1;, score=0.747 total time=   0.0s\n",
      "[CV 3/5] END alpha=0.1, loss=hinge, max_iter=100, penalty=l2, random_state=1;, score=0.747 total time=   0.0s\n",
      "[CV 4/5] END alpha=0.1, loss=hinge, max_iter=100, penalty=l2, random_state=1;, score=0.747 total time=   0.0s\n",
      "[CV 5/5] END alpha=0.1, loss=hinge, max_iter=100, penalty=l2, random_state=1;, score=0.747 total time=   0.0s\n",
      "[CV 1/5] END alpha=0.1, loss=hinge, max_iter=100, penalty=l2, random_state=None;, score=0.747 total time=   0.0s\n",
      "[CV 2/5] END alpha=0.1, loss=hinge, max_iter=100, penalty=l2, random_state=None;, score=0.747 total time=   0.0s\n",
      "[CV 3/5] END alpha=0.1, loss=hinge, max_iter=100, penalty=l2, random_state=None;, score=0.747 total time=   0.0s\n",
      "[CV 4/5] END alpha=0.1, loss=hinge, max_iter=100, penalty=l2, random_state=None;, score=0.747 total time=   0.0s\n",
      "[CV 5/5] END alpha=0.1, loss=hinge, max_iter=100, penalty=l2, random_state=None;, score=0.747 total time=   0.0s\n",
      "[CV 1/5] END alpha=0.1, loss=hinge, max_iter=100, penalty=elasticnet, random_state=1;, score=0.747 total time=   0.0s\n",
      "[CV 2/5] END alpha=0.1, loss=hinge, max_iter=100, penalty=elasticnet, random_state=1;, score=0.747 total time=   0.0s\n",
      "[CV 3/5] END alpha=0.1, loss=hinge, max_iter=100, penalty=elasticnet, random_state=1;, score=0.747 total time=   0.0s\n",
      "[CV 4/5] END alpha=0.1, loss=hinge, max_iter=100, penalty=elasticnet, random_state=1;, score=0.747 total time=   0.0s\n",
      "[CV 5/5] END alpha=0.1, loss=hinge, max_iter=100, penalty=elasticnet, random_state=1;, score=0.747 total time=   0.0s\n",
      "[CV 1/5] END alpha=0.1, loss=hinge, max_iter=100, penalty=elasticnet, random_state=None;, score=0.747 total time=   0.0s\n",
      "[CV 2/5] END alpha=0.1, loss=hinge, max_iter=100, penalty=elasticnet, random_state=None;, score=0.747 total time=   0.0s\n",
      "[CV 3/5] END alpha=0.1, loss=hinge, max_iter=100, penalty=elasticnet, random_state=None;, score=0.747 total time=   0.0s\n",
      "[CV 4/5] END alpha=0.1, loss=hinge, max_iter=100, penalty=elasticnet, random_state=None;, score=0.747 total time=   0.0s\n",
      "[CV 5/5] END alpha=0.1, loss=hinge, max_iter=100, penalty=elasticnet, random_state=None;, score=0.747 total time=   0.0s\n",
      "[CV 1/5] END alpha=0.1, loss=hinge, max_iter=1000, penalty=l1, random_state=1;, score=0.747 total time=   0.0s\n",
      "[CV 2/5] END alpha=0.1, loss=hinge, max_iter=1000, penalty=l1, random_state=1;, score=0.747 total time=   0.0s\n",
      "[CV 3/5] END alpha=0.1, loss=hinge, max_iter=1000, penalty=l1, random_state=1;, score=0.747 total time=   0.0s\n",
      "[CV 4/5] END alpha=0.1, loss=hinge, max_iter=1000, penalty=l1, random_state=1;, score=0.747 total time=   0.0s\n",
      "[CV 5/5] END alpha=0.1, loss=hinge, max_iter=1000, penalty=l1, random_state=1;, score=0.747 total time=   0.0s\n",
      "[CV 1/5] END alpha=0.1, loss=hinge, max_iter=1000, penalty=l1, random_state=None;, score=0.747 total time=   0.0s\n",
      "[CV 2/5] END alpha=0.1, loss=hinge, max_iter=1000, penalty=l1, random_state=None;, score=0.747 total time=   0.0s\n",
      "[CV 3/5] END alpha=0.1, loss=hinge, max_iter=1000, penalty=l1, random_state=None;, score=0.747 total time=   0.0s\n",
      "[CV 4/5] END alpha=0.1, loss=hinge, max_iter=1000, penalty=l1, random_state=None;, score=0.747 total time=   0.0s\n",
      "[CV 5/5] END alpha=0.1, loss=hinge, max_iter=1000, penalty=l1, random_state=None;, score=0.747 total time=   0.0s\n",
      "[CV 1/5] END alpha=0.1, loss=hinge, max_iter=1000, penalty=l2, random_state=1;, score=0.747 total time=   0.0s\n",
      "[CV 2/5] END alpha=0.1, loss=hinge, max_iter=1000, penalty=l2, random_state=1;, score=0.747 total time=   0.0s\n",
      "[CV 3/5] END alpha=0.1, loss=hinge, max_iter=1000, penalty=l2, random_state=1;, score=0.747 total time=   0.0s\n",
      "[CV 4/5] END alpha=0.1, loss=hinge, max_iter=1000, penalty=l2, random_state=1;, score=0.747 total time=   0.0s\n",
      "[CV 5/5] END alpha=0.1, loss=hinge, max_iter=1000, penalty=l2, random_state=1;, score=0.747 total time=   0.0s\n",
      "[CV 1/5] END alpha=0.1, loss=hinge, max_iter=1000, penalty=l2, random_state=None;, score=0.747 total time=   0.0s\n",
      "[CV 2/5] END alpha=0.1, loss=hinge, max_iter=1000, penalty=l2, random_state=None;, score=0.747 total time=   0.0s\n",
      "[CV 3/5] END alpha=0.1, loss=hinge, max_iter=1000, penalty=l2, random_state=None;, score=0.747 total time=   0.0s\n",
      "[CV 4/5] END alpha=0.1, loss=hinge, max_iter=1000, penalty=l2, random_state=None;, score=0.747 total time=   0.0s\n",
      "[CV 5/5] END alpha=0.1, loss=hinge, max_iter=1000, penalty=l2, random_state=None;, score=0.747 total time=   0.0s\n",
      "[CV 1/5] END alpha=0.1, loss=hinge, max_iter=1000, penalty=elasticnet, random_state=1;, score=0.747 total time=   0.0s\n",
      "[CV 2/5] END alpha=0.1, loss=hinge, max_iter=1000, penalty=elasticnet, random_state=1;, score=0.747 total time=   0.0s\n",
      "[CV 3/5] END alpha=0.1, loss=hinge, max_iter=1000, penalty=elasticnet, random_state=1;, score=0.747 total time=   0.0s\n",
      "[CV 4/5] END alpha=0.1, loss=hinge, max_iter=1000, penalty=elasticnet, random_state=1;, score=0.747 total time=   0.0s\n",
      "[CV 5/5] END alpha=0.1, loss=hinge, max_iter=1000, penalty=elasticnet, random_state=1;, score=0.747 total time=   0.0s\n",
      "[CV 1/5] END alpha=0.1, loss=hinge, max_iter=1000, penalty=elasticnet, random_state=None;, score=0.747 total time=   0.0s\n",
      "[CV 2/5] END alpha=0.1, loss=hinge, max_iter=1000, penalty=elasticnet, random_state=None;, score=0.747 total time=   0.0s\n",
      "[CV 3/5] END alpha=0.1, loss=hinge, max_iter=1000, penalty=elasticnet, random_state=None;, score=0.747 total time=   0.0s\n",
      "[CV 4/5] END alpha=0.1, loss=hinge, max_iter=1000, penalty=elasticnet, random_state=None;, score=0.747 total time=   0.0s\n",
      "[CV 5/5] END alpha=0.1, loss=hinge, max_iter=1000, penalty=elasticnet, random_state=None;, score=0.747 total time=   0.0s\n",
      "[CV 1/5] END alpha=0.1, loss=hinge, max_iter=5000, penalty=l1, random_state=1;, score=0.747 total time=   0.0s\n",
      "[CV 2/5] END alpha=0.1, loss=hinge, max_iter=5000, penalty=l1, random_state=1;, score=0.747 total time=   0.0s\n",
      "[CV 3/5] END alpha=0.1, loss=hinge, max_iter=5000, penalty=l1, random_state=1;, score=0.747 total time=   0.0s\n",
      "[CV 4/5] END alpha=0.1, loss=hinge, max_iter=5000, penalty=l1, random_state=1;, score=0.747 total time=   0.0s\n",
      "[CV 5/5] END alpha=0.1, loss=hinge, max_iter=5000, penalty=l1, random_state=1;, score=0.747 total time=   0.0s\n",
      "[CV 1/5] END alpha=0.1, loss=hinge, max_iter=5000, penalty=l1, random_state=None;, score=0.747 total time=   0.0s\n",
      "[CV 2/5] END alpha=0.1, loss=hinge, max_iter=5000, penalty=l1, random_state=None;, score=0.747 total time=   0.0s\n",
      "[CV 3/5] END alpha=0.1, loss=hinge, max_iter=5000, penalty=l1, random_state=None;, score=0.747 total time=   0.0s\n",
      "[CV 4/5] END alpha=0.1, loss=hinge, max_iter=5000, penalty=l1, random_state=None;, score=0.747 total time=   0.0s\n",
      "[CV 5/5] END alpha=0.1, loss=hinge, max_iter=5000, penalty=l1, random_state=None;, score=0.747 total time=   0.0s\n",
      "[CV 1/5] END alpha=0.1, loss=hinge, max_iter=5000, penalty=l2, random_state=1;, score=0.747 total time=   0.0s\n"
     ]
    },
    {
     "name": "stdout",
     "output_type": "stream",
     "text": [
      "[CV 2/5] END alpha=0.1, loss=hinge, max_iter=5000, penalty=l2, random_state=1;, score=0.747 total time=   0.0s\n",
      "[CV 3/5] END alpha=0.1, loss=hinge, max_iter=5000, penalty=l2, random_state=1;, score=0.747 total time=   0.0s\n",
      "[CV 4/5] END alpha=0.1, loss=hinge, max_iter=5000, penalty=l2, random_state=1;, score=0.747 total time=   0.0s\n",
      "[CV 5/5] END alpha=0.1, loss=hinge, max_iter=5000, penalty=l2, random_state=1;, score=0.747 total time=   0.0s\n",
      "[CV 1/5] END alpha=0.1, loss=hinge, max_iter=5000, penalty=l2, random_state=None;, score=0.747 total time=   0.0s\n",
      "[CV 2/5] END alpha=0.1, loss=hinge, max_iter=5000, penalty=l2, random_state=None;, score=0.747 total time=   0.0s\n",
      "[CV 3/5] END alpha=0.1, loss=hinge, max_iter=5000, penalty=l2, random_state=None;, score=0.747 total time=   0.0s\n",
      "[CV 4/5] END alpha=0.1, loss=hinge, max_iter=5000, penalty=l2, random_state=None;, score=0.747 total time=   0.0s\n",
      "[CV 5/5] END alpha=0.1, loss=hinge, max_iter=5000, penalty=l2, random_state=None;, score=0.747 total time=   0.0s\n",
      "[CV 1/5] END alpha=0.1, loss=hinge, max_iter=5000, penalty=elasticnet, random_state=1;, score=0.747 total time=   0.0s\n",
      "[CV 2/5] END alpha=0.1, loss=hinge, max_iter=5000, penalty=elasticnet, random_state=1;, score=0.747 total time=   0.0s\n",
      "[CV 3/5] END alpha=0.1, loss=hinge, max_iter=5000, penalty=elasticnet, random_state=1;, score=0.747 total time=   0.0s\n",
      "[CV 4/5] END alpha=0.1, loss=hinge, max_iter=5000, penalty=elasticnet, random_state=1;, score=0.747 total time=   0.0s\n",
      "[CV 5/5] END alpha=0.1, loss=hinge, max_iter=5000, penalty=elasticnet, random_state=1;, score=0.747 total time=   0.0s\n",
      "[CV 1/5] END alpha=0.1, loss=hinge, max_iter=5000, penalty=elasticnet, random_state=None;, score=0.747 total time=   0.0s\n",
      "[CV 2/5] END alpha=0.1, loss=hinge, max_iter=5000, penalty=elasticnet, random_state=None;, score=0.747 total time=   0.0s\n",
      "[CV 3/5] END alpha=0.1, loss=hinge, max_iter=5000, penalty=elasticnet, random_state=None;, score=0.747 total time=   0.0s\n",
      "[CV 4/5] END alpha=0.1, loss=hinge, max_iter=5000, penalty=elasticnet, random_state=None;, score=0.747 total time=   0.0s\n",
      "[CV 5/5] END alpha=0.1, loss=hinge, max_iter=5000, penalty=elasticnet, random_state=None;, score=0.747 total time=   0.0s\n",
      "[CV 1/5] END alpha=0.1, loss=log, max_iter=100, penalty=l1, random_state=1;, score=0.747 total time=   0.0s\n",
      "[CV 2/5] END alpha=0.1, loss=log, max_iter=100, penalty=l1, random_state=1;, score=0.747 total time=   0.1s\n",
      "[CV 3/5] END alpha=0.1, loss=log, max_iter=100, penalty=l1, random_state=1;, score=0.747 total time=   0.0s\n",
      "[CV 4/5] END alpha=0.1, loss=log, max_iter=100, penalty=l1, random_state=1;, score=0.747 total time=   0.0s\n",
      "[CV 5/5] END alpha=0.1, loss=log, max_iter=100, penalty=l1, random_state=1;, score=0.747 total time=   0.0s\n",
      "[CV 1/5] END alpha=0.1, loss=log, max_iter=100, penalty=l1, random_state=None;, score=0.747 total time=   0.0s\n",
      "[CV 2/5] END alpha=0.1, loss=log, max_iter=100, penalty=l1, random_state=None;, score=0.747 total time=   0.0s\n",
      "[CV 3/5] END alpha=0.1, loss=log, max_iter=100, penalty=l1, random_state=None;, score=0.747 total time=   0.0s\n",
      "[CV 4/5] END alpha=0.1, loss=log, max_iter=100, penalty=l1, random_state=None;, score=0.747 total time=   0.0s\n",
      "[CV 5/5] END alpha=0.1, loss=log, max_iter=100, penalty=l1, random_state=None;, score=0.747 total time=   0.0s\n",
      "[CV 1/5] END alpha=0.1, loss=log, max_iter=100, penalty=l2, random_state=1;, score=0.749 total time=   0.0s\n",
      "[CV 2/5] END alpha=0.1, loss=log, max_iter=100, penalty=l2, random_state=1;, score=0.751 total time=   0.0s\n",
      "[CV 3/5] END alpha=0.1, loss=log, max_iter=100, penalty=l2, random_state=1;, score=0.749 total time=   0.0s\n",
      "[CV 4/5] END alpha=0.1, loss=log, max_iter=100, penalty=l2, random_state=1;, score=0.749 total time=   0.0s\n",
      "[CV 5/5] END alpha=0.1, loss=log, max_iter=100, penalty=l2, random_state=1;, score=0.749 total time=   0.0s\n",
      "[CV 1/5] END alpha=0.1, loss=log, max_iter=100, penalty=l2, random_state=None;, score=0.749 total time=   0.0s\n",
      "[CV 2/5] END alpha=0.1, loss=log, max_iter=100, penalty=l2, random_state=None;, score=0.751 total time=   0.0s\n",
      "[CV 3/5] END alpha=0.1, loss=log, max_iter=100, penalty=l2, random_state=None;, score=0.749 total time=   0.0s\n",
      "[CV 4/5] END alpha=0.1, loss=log, max_iter=100, penalty=l2, random_state=None;, score=0.748 total time=   0.0s\n",
      "[CV 5/5] END alpha=0.1, loss=log, max_iter=100, penalty=l2, random_state=None;, score=0.749 total time=   0.0s\n",
      "[CV 1/5] END alpha=0.1, loss=log, max_iter=100, penalty=elasticnet, random_state=1;, score=0.747 total time=   0.1s\n",
      "[CV 2/5] END alpha=0.1, loss=log, max_iter=100, penalty=elasticnet, random_state=1;, score=0.747 total time=   0.0s\n",
      "[CV 3/5] END alpha=0.1, loss=log, max_iter=100, penalty=elasticnet, random_state=1;, score=0.747 total time=   0.0s\n",
      "[CV 4/5] END alpha=0.1, loss=log, max_iter=100, penalty=elasticnet, random_state=1;, score=0.747 total time=   0.1s\n",
      "[CV 5/5] END alpha=0.1, loss=log, max_iter=100, penalty=elasticnet, random_state=1;, score=0.747 total time=   0.0s\n",
      "[CV 1/5] END alpha=0.1, loss=log, max_iter=100, penalty=elasticnet, random_state=None;, score=0.747 total time=   0.1s\n",
      "[CV 2/5] END alpha=0.1, loss=log, max_iter=100, penalty=elasticnet, random_state=None;, score=0.747 total time=   0.1s\n",
      "[CV 3/5] END alpha=0.1, loss=log, max_iter=100, penalty=elasticnet, random_state=None;, score=0.747 total time=   0.0s\n",
      "[CV 4/5] END alpha=0.1, loss=log, max_iter=100, penalty=elasticnet, random_state=None;, score=0.747 total time=   0.0s\n",
      "[CV 5/5] END alpha=0.1, loss=log, max_iter=100, penalty=elasticnet, random_state=None;, score=0.747 total time=   0.1s\n",
      "[CV 1/5] END alpha=0.1, loss=log, max_iter=1000, penalty=l1, random_state=1;, score=0.747 total time=   0.0s\n",
      "[CV 2/5] END alpha=0.1, loss=log, max_iter=1000, penalty=l1, random_state=1;, score=0.747 total time=   0.0s\n",
      "[CV 3/5] END alpha=0.1, loss=log, max_iter=1000, penalty=l1, random_state=1;, score=0.747 total time=   0.0s\n",
      "[CV 4/5] END alpha=0.1, loss=log, max_iter=1000, penalty=l1, random_state=1;, score=0.747 total time=   0.0s\n",
      "[CV 5/5] END alpha=0.1, loss=log, max_iter=1000, penalty=l1, random_state=1;, score=0.747 total time=   0.0s\n",
      "[CV 1/5] END alpha=0.1, loss=log, max_iter=1000, penalty=l1, random_state=None;, score=0.747 total time=   0.0s\n",
      "[CV 2/5] END alpha=0.1, loss=log, max_iter=1000, penalty=l1, random_state=None;, score=0.747 total time=   0.0s\n",
      "[CV 3/5] END alpha=0.1, loss=log, max_iter=1000, penalty=l1, random_state=None;, score=0.747 total time=   0.0s\n",
      "[CV 4/5] END alpha=0.1, loss=log, max_iter=1000, penalty=l1, random_state=None;, score=0.747 total time=   0.0s\n",
      "[CV 5/5] END alpha=0.1, loss=log, max_iter=1000, penalty=l1, random_state=None;, score=0.747 total time=   0.0s\n",
      "[CV 1/5] END alpha=0.1, loss=log, max_iter=1000, penalty=l2, random_state=1;, score=0.749 total time=   0.0s\n",
      "[CV 2/5] END alpha=0.1, loss=log, max_iter=1000, penalty=l2, random_state=1;, score=0.751 total time=   0.0s\n",
      "[CV 3/5] END alpha=0.1, loss=log, max_iter=1000, penalty=l2, random_state=1;, score=0.749 total time=   0.0s\n",
      "[CV 4/5] END alpha=0.1, loss=log, max_iter=1000, penalty=l2, random_state=1;, score=0.749 total time=   0.0s\n",
      "[CV 5/5] END alpha=0.1, loss=log, max_iter=1000, penalty=l2, random_state=1;, score=0.749 total time=   0.0s\n",
      "[CV 1/5] END alpha=0.1, loss=log, max_iter=1000, penalty=l2, random_state=None;, score=0.750 total time=   0.0s\n",
      "[CV 2/5] END alpha=0.1, loss=log, max_iter=1000, penalty=l2, random_state=None;, score=0.751 total time=   0.0s\n",
      "[CV 3/5] END alpha=0.1, loss=log, max_iter=1000, penalty=l2, random_state=None;, score=0.750 total time=   0.0s\n",
      "[CV 4/5] END alpha=0.1, loss=log, max_iter=1000, penalty=l2, random_state=None;, score=0.749 total time=   0.0s\n",
      "[CV 5/5] END alpha=0.1, loss=log, max_iter=1000, penalty=l2, random_state=None;, score=0.749 total time=   0.0s\n",
      "[CV 1/5] END alpha=0.1, loss=log, max_iter=1000, penalty=elasticnet, random_state=1;, score=0.747 total time=   0.0s\n",
      "[CV 2/5] END alpha=0.1, loss=log, max_iter=1000, penalty=elasticnet, random_state=1;, score=0.747 total time=   0.0s\n",
      "[CV 3/5] END alpha=0.1, loss=log, max_iter=1000, penalty=elasticnet, random_state=1;, score=0.747 total time=   0.0s\n",
      "[CV 4/5] END alpha=0.1, loss=log, max_iter=1000, penalty=elasticnet, random_state=1;, score=0.747 total time=   0.0s\n",
      "[CV 5/5] END alpha=0.1, loss=log, max_iter=1000, penalty=elasticnet, random_state=1;, score=0.747 total time=   0.0s\n"
     ]
    },
    {
     "name": "stdout",
     "output_type": "stream",
     "text": [
      "[CV 1/5] END alpha=0.1, loss=log, max_iter=1000, penalty=elasticnet, random_state=None;, score=0.747 total time=   0.0s\n",
      "[CV 2/5] END alpha=0.1, loss=log, max_iter=1000, penalty=elasticnet, random_state=None;, score=0.747 total time=   0.0s\n",
      "[CV 3/5] END alpha=0.1, loss=log, max_iter=1000, penalty=elasticnet, random_state=None;, score=0.747 total time=   0.0s\n",
      "[CV 4/5] END alpha=0.1, loss=log, max_iter=1000, penalty=elasticnet, random_state=None;, score=0.747 total time=   0.0s\n",
      "[CV 5/5] END alpha=0.1, loss=log, max_iter=1000, penalty=elasticnet, random_state=None;, score=0.747 total time=   0.0s\n",
      "[CV 1/5] END alpha=0.1, loss=log, max_iter=5000, penalty=l1, random_state=1;, score=0.747 total time=   0.0s\n",
      "[CV 2/5] END alpha=0.1, loss=log, max_iter=5000, penalty=l1, random_state=1;, score=0.747 total time=   0.0s\n",
      "[CV 3/5] END alpha=0.1, loss=log, max_iter=5000, penalty=l1, random_state=1;, score=0.747 total time=   0.0s\n",
      "[CV 4/5] END alpha=0.1, loss=log, max_iter=5000, penalty=l1, random_state=1;, score=0.747 total time=   0.0s\n",
      "[CV 5/5] END alpha=0.1, loss=log, max_iter=5000, penalty=l1, random_state=1;, score=0.747 total time=   0.0s\n",
      "[CV 1/5] END alpha=0.1, loss=log, max_iter=5000, penalty=l1, random_state=None;, score=0.747 total time=   0.0s\n",
      "[CV 2/5] END alpha=0.1, loss=log, max_iter=5000, penalty=l1, random_state=None;, score=0.747 total time=   0.0s\n",
      "[CV 3/5] END alpha=0.1, loss=log, max_iter=5000, penalty=l1, random_state=None;, score=0.747 total time=   0.0s\n",
      "[CV 4/5] END alpha=0.1, loss=log, max_iter=5000, penalty=l1, random_state=None;, score=0.747 total time=   0.0s\n",
      "[CV 5/5] END alpha=0.1, loss=log, max_iter=5000, penalty=l1, random_state=None;, score=0.747 total time=   0.0s\n",
      "[CV 1/5] END alpha=0.1, loss=log, max_iter=5000, penalty=l2, random_state=1;, score=0.749 total time=   0.0s\n",
      "[CV 2/5] END alpha=0.1, loss=log, max_iter=5000, penalty=l2, random_state=1;, score=0.751 total time=   0.0s\n",
      "[CV 3/5] END alpha=0.1, loss=log, max_iter=5000, penalty=l2, random_state=1;, score=0.749 total time=   0.0s\n",
      "[CV 4/5] END alpha=0.1, loss=log, max_iter=5000, penalty=l2, random_state=1;, score=0.749 total time=   0.0s\n",
      "[CV 5/5] END alpha=0.1, loss=log, max_iter=5000, penalty=l2, random_state=1;, score=0.749 total time=   0.0s\n",
      "[CV 1/5] END alpha=0.1, loss=log, max_iter=5000, penalty=l2, random_state=None;, score=0.749 total time=   0.0s\n",
      "[CV 2/5] END alpha=0.1, loss=log, max_iter=5000, penalty=l2, random_state=None;, score=0.751 total time=   0.0s\n",
      "[CV 3/5] END alpha=0.1, loss=log, max_iter=5000, penalty=l2, random_state=None;, score=0.749 total time=   0.0s\n",
      "[CV 4/5] END alpha=0.1, loss=log, max_iter=5000, penalty=l2, random_state=None;, score=0.749 total time=   0.0s\n",
      "[CV 5/5] END alpha=0.1, loss=log, max_iter=5000, penalty=l2, random_state=None;, score=0.749 total time=   0.0s\n",
      "[CV 1/5] END alpha=0.1, loss=log, max_iter=5000, penalty=elasticnet, random_state=1;, score=0.747 total time=   0.0s\n",
      "[CV 2/5] END alpha=0.1, loss=log, max_iter=5000, penalty=elasticnet, random_state=1;, score=0.747 total time=   0.0s\n",
      "[CV 3/5] END alpha=0.1, loss=log, max_iter=5000, penalty=elasticnet, random_state=1;, score=0.747 total time=   0.0s\n",
      "[CV 4/5] END alpha=0.1, loss=log, max_iter=5000, penalty=elasticnet, random_state=1;, score=0.747 total time=   0.0s\n",
      "[CV 5/5] END alpha=0.1, loss=log, max_iter=5000, penalty=elasticnet, random_state=1;, score=0.747 total time=   0.0s\n",
      "[CV 1/5] END alpha=0.1, loss=log, max_iter=5000, penalty=elasticnet, random_state=None;, score=0.747 total time=   0.0s\n",
      "[CV 2/5] END alpha=0.1, loss=log, max_iter=5000, penalty=elasticnet, random_state=None;, score=0.747 total time=   0.0s\n",
      "[CV 3/5] END alpha=0.1, loss=log, max_iter=5000, penalty=elasticnet, random_state=None;, score=0.747 total time=   0.0s\n",
      "[CV 4/5] END alpha=0.1, loss=log, max_iter=5000, penalty=elasticnet, random_state=None;, score=0.747 total time=   0.0s\n",
      "[CV 5/5] END alpha=0.1, loss=log, max_iter=5000, penalty=elasticnet, random_state=None;, score=0.747 total time=   0.0s\n",
      "[CV 1/5] END alpha=0.1, loss=perceptron, max_iter=100, penalty=l1, random_state=1;, score=0.747 total time=   0.0s\n",
      "[CV 2/5] END alpha=0.1, loss=perceptron, max_iter=100, penalty=l1, random_state=1;, score=0.747 total time=   0.0s\n",
      "[CV 3/5] END alpha=0.1, loss=perceptron, max_iter=100, penalty=l1, random_state=1;, score=0.747 total time=   0.0s\n",
      "[CV 4/5] END alpha=0.1, loss=perceptron, max_iter=100, penalty=l1, random_state=1;, score=0.253 total time=   0.0s\n",
      "[CV 5/5] END alpha=0.1, loss=perceptron, max_iter=100, penalty=l1, random_state=1;, score=0.253 total time=   0.0s\n",
      "[CV 1/5] END alpha=0.1, loss=perceptron, max_iter=100, penalty=l1, random_state=None;, score=0.747 total time=   0.0s\n",
      "[CV 2/5] END alpha=0.1, loss=perceptron, max_iter=100, penalty=l1, random_state=None;, score=0.253 total time=   0.0s\n",
      "[CV 3/5] END alpha=0.1, loss=perceptron, max_iter=100, penalty=l1, random_state=None;, score=0.747 total time=   0.0s\n",
      "[CV 4/5] END alpha=0.1, loss=perceptron, max_iter=100, penalty=l1, random_state=None;, score=0.747 total time=   0.0s\n",
      "[CV 5/5] END alpha=0.1, loss=perceptron, max_iter=100, penalty=l1, random_state=None;, score=0.253 total time=   0.0s\n",
      "[CV 1/5] END alpha=0.1, loss=perceptron, max_iter=100, penalty=l2, random_state=1;, score=0.608 total time=   0.0s\n",
      "[CV 2/5] END alpha=0.1, loss=perceptron, max_iter=100, penalty=l2, random_state=1;, score=0.562 total time=   0.0s\n",
      "[CV 3/5] END alpha=0.1, loss=perceptron, max_iter=100, penalty=l2, random_state=1;, score=0.772 total time=   0.0s\n",
      "[CV 4/5] END alpha=0.1, loss=perceptron, max_iter=100, penalty=l2, random_state=1;, score=0.585 total time=   0.0s\n",
      "[CV 5/5] END alpha=0.1, loss=perceptron, max_iter=100, penalty=l2, random_state=1;, score=0.300 total time=   0.0s\n",
      "[CV 1/5] END alpha=0.1, loss=perceptron, max_iter=100, penalty=l2, random_state=None;, score=0.760 total time=   0.0s\n",
      "[CV 2/5] END alpha=0.1, loss=perceptron, max_iter=100, penalty=l2, random_state=None;, score=0.756 total time=   0.0s\n",
      "[CV 3/5] END alpha=0.1, loss=perceptron, max_iter=100, penalty=l2, random_state=None;, score=0.767 total time=   0.0s\n",
      "[CV 4/5] END alpha=0.1, loss=perceptron, max_iter=100, penalty=l2, random_state=None;, score=0.759 total time=   0.0s\n",
      "[CV 5/5] END alpha=0.1, loss=perceptron, max_iter=100, penalty=l2, random_state=None;, score=0.742 total time=   0.0s\n",
      "[CV 1/5] END alpha=0.1, loss=perceptron, max_iter=100, penalty=elasticnet, random_state=1;, score=0.747 total time=   0.0s\n",
      "[CV 2/5] END alpha=0.1, loss=perceptron, max_iter=100, penalty=elasticnet, random_state=1;, score=0.747 total time=   0.0s\n",
      "[CV 3/5] END alpha=0.1, loss=perceptron, max_iter=100, penalty=elasticnet, random_state=1;, score=0.747 total time=   0.0s\n",
      "[CV 4/5] END alpha=0.1, loss=perceptron, max_iter=100, penalty=elasticnet, random_state=1;, score=0.253 total time=   0.0s\n",
      "[CV 5/5] END alpha=0.1, loss=perceptron, max_iter=100, penalty=elasticnet, random_state=1;, score=0.253 total time=   0.0s\n",
      "[CV 1/5] END alpha=0.1, loss=perceptron, max_iter=100, penalty=elasticnet, random_state=None;, score=0.721 total time=   0.0s\n",
      "[CV 2/5] END alpha=0.1, loss=perceptron, max_iter=100, penalty=elasticnet, random_state=None;, score=0.724 total time=   0.0s\n",
      "[CV 3/5] END alpha=0.1, loss=perceptron, max_iter=100, penalty=elasticnet, random_state=None;, score=0.720 total time=   0.0s\n",
      "[CV 4/5] END alpha=0.1, loss=perceptron, max_iter=100, penalty=elasticnet, random_state=None;, score=0.759 total time=   0.0s\n",
      "[CV 5/5] END alpha=0.1, loss=perceptron, max_iter=100, penalty=elasticnet, random_state=None;, score=0.748 total time=   0.0s\n",
      "[CV 1/5] END alpha=0.1, loss=perceptron, max_iter=1000, penalty=l1, random_state=1;, score=0.747 total time=   0.0s\n",
      "[CV 2/5] END alpha=0.1, loss=perceptron, max_iter=1000, penalty=l1, random_state=1;, score=0.747 total time=   0.0s\n",
      "[CV 3/5] END alpha=0.1, loss=perceptron, max_iter=1000, penalty=l1, random_state=1;, score=0.747 total time=   0.0s\n",
      "[CV 4/5] END alpha=0.1, loss=perceptron, max_iter=1000, penalty=l1, random_state=1;, score=0.253 total time=   0.0s\n",
      "[CV 5/5] END alpha=0.1, loss=perceptron, max_iter=1000, penalty=l1, random_state=1;, score=0.253 total time=   0.0s\n",
      "[CV 1/5] END alpha=0.1, loss=perceptron, max_iter=1000, penalty=l1, random_state=None;, score=0.747 total time=   0.0s\n",
      "[CV 2/5] END alpha=0.1, loss=perceptron, max_iter=1000, penalty=l1, random_state=None;, score=0.747 total time=   0.0s\n",
      "[CV 3/5] END alpha=0.1, loss=perceptron, max_iter=1000, penalty=l1, random_state=None;, score=0.747 total time=   0.0s\n"
     ]
    },
    {
     "name": "stdout",
     "output_type": "stream",
     "text": [
      "[CV 4/5] END alpha=0.1, loss=perceptron, max_iter=1000, penalty=l1, random_state=None;, score=0.253 total time=   0.0s\n",
      "[CV 5/5] END alpha=0.1, loss=perceptron, max_iter=1000, penalty=l1, random_state=None;, score=0.747 total time=   0.0s\n",
      "[CV 1/5] END alpha=0.1, loss=perceptron, max_iter=1000, penalty=l2, random_state=1;, score=0.608 total time=   0.0s\n",
      "[CV 2/5] END alpha=0.1, loss=perceptron, max_iter=1000, penalty=l2, random_state=1;, score=0.562 total time=   0.0s\n",
      "[CV 3/5] END alpha=0.1, loss=perceptron, max_iter=1000, penalty=l2, random_state=1;, score=0.772 total time=   0.0s\n",
      "[CV 4/5] END alpha=0.1, loss=perceptron, max_iter=1000, penalty=l2, random_state=1;, score=0.585 total time=   0.0s\n",
      "[CV 5/5] END alpha=0.1, loss=perceptron, max_iter=1000, penalty=l2, random_state=1;, score=0.300 total time=   0.0s\n",
      "[CV 1/5] END alpha=0.1, loss=perceptron, max_iter=1000, penalty=l2, random_state=None;, score=0.768 total time=   0.0s\n",
      "[CV 2/5] END alpha=0.1, loss=perceptron, max_iter=1000, penalty=l2, random_state=None;, score=0.751 total time=   0.0s\n",
      "[CV 3/5] END alpha=0.1, loss=perceptron, max_iter=1000, penalty=l2, random_state=None;, score=0.710 total time=   0.0s\n",
      "[CV 4/5] END alpha=0.1, loss=perceptron, max_iter=1000, penalty=l2, random_state=None;, score=0.734 total time=   0.0s\n",
      "[CV 5/5] END alpha=0.1, loss=perceptron, max_iter=1000, penalty=l2, random_state=None;, score=0.744 total time=   0.0s\n",
      "[CV 1/5] END alpha=0.1, loss=perceptron, max_iter=1000, penalty=elasticnet, random_state=1;, score=0.747 total time=   0.0s\n",
      "[CV 2/5] END alpha=0.1, loss=perceptron, max_iter=1000, penalty=elasticnet, random_state=1;, score=0.747 total time=   0.0s\n",
      "[CV 3/5] END alpha=0.1, loss=perceptron, max_iter=1000, penalty=elasticnet, random_state=1;, score=0.747 total time=   0.0s\n",
      "[CV 4/5] END alpha=0.1, loss=perceptron, max_iter=1000, penalty=elasticnet, random_state=1;, score=0.253 total time=   0.0s\n",
      "[CV 5/5] END alpha=0.1, loss=perceptron, max_iter=1000, penalty=elasticnet, random_state=1;, score=0.253 total time=   0.0s\n",
      "[CV 1/5] END alpha=0.1, loss=perceptron, max_iter=1000, penalty=elasticnet, random_state=None;, score=0.747 total time=   0.0s\n",
      "[CV 2/5] END alpha=0.1, loss=perceptron, max_iter=1000, penalty=elasticnet, random_state=None;, score=0.765 total time=   0.1s\n",
      "[CV 3/5] END alpha=0.1, loss=perceptron, max_iter=1000, penalty=elasticnet, random_state=None;, score=0.253 total time=   0.1s\n",
      "[CV 4/5] END alpha=0.1, loss=perceptron, max_iter=1000, penalty=elasticnet, random_state=None;, score=0.747 total time=   0.0s\n",
      "[CV 5/5] END alpha=0.1, loss=perceptron, max_iter=1000, penalty=elasticnet, random_state=None;, score=0.733 total time=   0.0s\n",
      "[CV 1/5] END alpha=0.1, loss=perceptron, max_iter=5000, penalty=l1, random_state=1;, score=0.747 total time=   0.0s\n",
      "[CV 2/5] END alpha=0.1, loss=perceptron, max_iter=5000, penalty=l1, random_state=1;, score=0.747 total time=   0.0s\n",
      "[CV 3/5] END alpha=0.1, loss=perceptron, max_iter=5000, penalty=l1, random_state=1;, score=0.747 total time=   0.0s\n",
      "[CV 4/5] END alpha=0.1, loss=perceptron, max_iter=5000, penalty=l1, random_state=1;, score=0.253 total time=   0.0s\n",
      "[CV 5/5] END alpha=0.1, loss=perceptron, max_iter=5000, penalty=l1, random_state=1;, score=0.253 total time=   0.0s\n",
      "[CV 1/5] END alpha=0.1, loss=perceptron, max_iter=5000, penalty=l1, random_state=None;, score=0.253 total time=   0.0s\n",
      "[CV 2/5] END alpha=0.1, loss=perceptron, max_iter=5000, penalty=l1, random_state=None;, score=0.747 total time=   0.0s\n",
      "[CV 3/5] END alpha=0.1, loss=perceptron, max_iter=5000, penalty=l1, random_state=None;, score=0.747 total time=   0.0s\n",
      "[CV 4/5] END alpha=0.1, loss=perceptron, max_iter=5000, penalty=l1, random_state=None;, score=0.747 total time=   0.0s\n",
      "[CV 5/5] END alpha=0.1, loss=perceptron, max_iter=5000, penalty=l1, random_state=None;, score=0.747 total time=   0.0s\n",
      "[CV 1/5] END alpha=0.1, loss=perceptron, max_iter=5000, penalty=l2, random_state=1;, score=0.608 total time=   0.0s\n",
      "[CV 2/5] END alpha=0.1, loss=perceptron, max_iter=5000, penalty=l2, random_state=1;, score=0.562 total time=   0.0s\n",
      "[CV 3/5] END alpha=0.1, loss=perceptron, max_iter=5000, penalty=l2, random_state=1;, score=0.772 total time=   0.0s\n",
      "[CV 4/5] END alpha=0.1, loss=perceptron, max_iter=5000, penalty=l2, random_state=1;, score=0.585 total time=   0.0s\n",
      "[CV 5/5] END alpha=0.1, loss=perceptron, max_iter=5000, penalty=l2, random_state=1;, score=0.300 total time=   0.0s\n",
      "[CV 1/5] END alpha=0.1, loss=perceptron, max_iter=5000, penalty=l2, random_state=None;, score=0.779 total time=   0.0s\n",
      "[CV 2/5] END alpha=0.1, loss=perceptron, max_iter=5000, penalty=l2, random_state=None;, score=0.740 total time=   0.0s\n",
      "[CV 3/5] END alpha=0.1, loss=perceptron, max_iter=5000, penalty=l2, random_state=None;, score=0.760 total time=   0.0s\n",
      "[CV 4/5] END alpha=0.1, loss=perceptron, max_iter=5000, penalty=l2, random_state=None;, score=0.761 total time=   0.0s\n",
      "[CV 5/5] END alpha=0.1, loss=perceptron, max_iter=5000, penalty=l2, random_state=None;, score=0.583 total time=   0.0s\n",
      "[CV 1/5] END alpha=0.1, loss=perceptron, max_iter=5000, penalty=elasticnet, random_state=1;, score=0.747 total time=   0.0s\n",
      "[CV 2/5] END alpha=0.1, loss=perceptron, max_iter=5000, penalty=elasticnet, random_state=1;, score=0.747 total time=   0.0s\n",
      "[CV 3/5] END alpha=0.1, loss=perceptron, max_iter=5000, penalty=elasticnet, random_state=1;, score=0.747 total time=   0.0s\n",
      "[CV 4/5] END alpha=0.1, loss=perceptron, max_iter=5000, penalty=elasticnet, random_state=1;, score=0.253 total time=   0.0s\n",
      "[CV 5/5] END alpha=0.1, loss=perceptron, max_iter=5000, penalty=elasticnet, random_state=1;, score=0.253 total time=   0.0s\n",
      "[CV 1/5] END alpha=0.1, loss=perceptron, max_iter=5000, penalty=elasticnet, random_state=None;, score=0.780 total time=   0.0s\n",
      "[CV 2/5] END alpha=0.1, loss=perceptron, max_iter=5000, penalty=elasticnet, random_state=None;, score=0.747 total time=   0.0s\n",
      "[CV 3/5] END alpha=0.1, loss=perceptron, max_iter=5000, penalty=elasticnet, random_state=None;, score=0.706 total time=   0.0s\n",
      "[CV 4/5] END alpha=0.1, loss=perceptron, max_iter=5000, penalty=elasticnet, random_state=None;, score=0.772 total time=   0.0s\n",
      "[CV 5/5] END alpha=0.1, loss=perceptron, max_iter=5000, penalty=elasticnet, random_state=None;, score=0.781 total time=   0.0s\n"
     ]
    },
    {
     "name": "stderr",
     "output_type": "stream",
     "text": [
      "C:\\Users\\sabat\\anaconda3\\lib\\site-packages\\sklearn\\linear_model\\_stochastic_gradient.py:696: ConvergenceWarning: Maximum number of iteration reached before convergence. Consider increasing max_iter to improve the fit.\n",
      "  warnings.warn(\n"
     ]
    },
    {
     "name": "stdout",
     "output_type": "stream",
     "text": [
      "[CV 1/5] END alpha=0.1, loss=squared_error, max_iter=100, penalty=l1, random_state=1;, score=0.503 total time=   1.0s\n"
     ]
    },
    {
     "name": "stderr",
     "output_type": "stream",
     "text": [
      "C:\\Users\\sabat\\anaconda3\\lib\\site-packages\\sklearn\\linear_model\\_stochastic_gradient.py:696: ConvergenceWarning: Maximum number of iteration reached before convergence. Consider increasing max_iter to improve the fit.\n",
      "  warnings.warn(\n"
     ]
    },
    {
     "name": "stdout",
     "output_type": "stream",
     "text": [
      "[CV 2/5] END alpha=0.1, loss=squared_error, max_iter=100, penalty=l1, random_state=1;, score=0.485 total time=   0.9s\n"
     ]
    },
    {
     "name": "stderr",
     "output_type": "stream",
     "text": [
      "C:\\Users\\sabat\\anaconda3\\lib\\site-packages\\sklearn\\linear_model\\_stochastic_gradient.py:696: ConvergenceWarning: Maximum number of iteration reached before convergence. Consider increasing max_iter to improve the fit.\n",
      "  warnings.warn(\n"
     ]
    },
    {
     "name": "stdout",
     "output_type": "stream",
     "text": [
      "[CV 3/5] END alpha=0.1, loss=squared_error, max_iter=100, penalty=l1, random_state=1;, score=0.494 total time=   0.9s\n"
     ]
    },
    {
     "name": "stderr",
     "output_type": "stream",
     "text": [
      "C:\\Users\\sabat\\anaconda3\\lib\\site-packages\\sklearn\\linear_model\\_stochastic_gradient.py:696: ConvergenceWarning: Maximum number of iteration reached before convergence. Consider increasing max_iter to improve the fit.\n",
      "  warnings.warn(\n"
     ]
    },
    {
     "name": "stdout",
     "output_type": "stream",
     "text": [
      "[CV 4/5] END alpha=0.1, loss=squared_error, max_iter=100, penalty=l1, random_state=1;, score=0.493 total time=   1.1s\n"
     ]
    },
    {
     "name": "stderr",
     "output_type": "stream",
     "text": [
      "C:\\Users\\sabat\\anaconda3\\lib\\site-packages\\sklearn\\linear_model\\_stochastic_gradient.py:696: ConvergenceWarning: Maximum number of iteration reached before convergence. Consider increasing max_iter to improve the fit.\n",
      "  warnings.warn(\n"
     ]
    },
    {
     "name": "stdout",
     "output_type": "stream",
     "text": [
      "[CV 5/5] END alpha=0.1, loss=squared_error, max_iter=100, penalty=l1, random_state=1;, score=0.466 total time=   1.0s\n"
     ]
    },
    {
     "name": "stderr",
     "output_type": "stream",
     "text": [
      "C:\\Users\\sabat\\anaconda3\\lib\\site-packages\\sklearn\\linear_model\\_stochastic_gradient.py:696: ConvergenceWarning: Maximum number of iteration reached before convergence. Consider increasing max_iter to improve the fit.\n",
      "  warnings.warn(\n"
     ]
    },
    {
     "name": "stdout",
     "output_type": "stream",
     "text": [
      "[CV 1/5] END alpha=0.1, loss=squared_error, max_iter=100, penalty=l1, random_state=None;, score=0.480 total time=   1.0s\n"
     ]
    },
    {
     "name": "stderr",
     "output_type": "stream",
     "text": [
      "C:\\Users\\sabat\\anaconda3\\lib\\site-packages\\sklearn\\linear_model\\_stochastic_gradient.py:696: ConvergenceWarning: Maximum number of iteration reached before convergence. Consider increasing max_iter to improve the fit.\n",
      "  warnings.warn(\n"
     ]
    },
    {
     "name": "stdout",
     "output_type": "stream",
     "text": [
      "[CV 2/5] END alpha=0.1, loss=squared_error, max_iter=100, penalty=l1, random_state=None;, score=0.435 total time=   1.1s\n"
     ]
    },
    {
     "name": "stderr",
     "output_type": "stream",
     "text": [
      "C:\\Users\\sabat\\anaconda3\\lib\\site-packages\\sklearn\\linear_model\\_stochastic_gradient.py:696: ConvergenceWarning: Maximum number of iteration reached before convergence. Consider increasing max_iter to improve the fit.\n",
      "  warnings.warn(\n"
     ]
    },
    {
     "name": "stdout",
     "output_type": "stream",
     "text": [
      "[CV 3/5] END alpha=0.1, loss=squared_error, max_iter=100, penalty=l1, random_state=None;, score=0.423 total time=   1.1s\n"
     ]
    },
    {
     "name": "stderr",
     "output_type": "stream",
     "text": [
      "C:\\Users\\sabat\\anaconda3\\lib\\site-packages\\sklearn\\linear_model\\_stochastic_gradient.py:696: ConvergenceWarning: Maximum number of iteration reached before convergence. Consider increasing max_iter to improve the fit.\n",
      "  warnings.warn(\n"
     ]
    },
    {
     "name": "stdout",
     "output_type": "stream",
     "text": [
      "[CV 4/5] END alpha=0.1, loss=squared_error, max_iter=100, penalty=l1, random_state=None;, score=0.519 total time=   1.1s\n"
     ]
    },
    {
     "name": "stderr",
     "output_type": "stream",
     "text": [
      "C:\\Users\\sabat\\anaconda3\\lib\\site-packages\\sklearn\\linear_model\\_stochastic_gradient.py:696: ConvergenceWarning: Maximum number of iteration reached before convergence. Consider increasing max_iter to improve the fit.\n",
      "  warnings.warn(\n"
     ]
    },
    {
     "name": "stdout",
     "output_type": "stream",
     "text": [
      "[CV 5/5] END alpha=0.1, loss=squared_error, max_iter=100, penalty=l1, random_state=None;, score=0.480 total time=   1.1s\n"
     ]
    },
    {
     "name": "stderr",
     "output_type": "stream",
     "text": [
      "C:\\Users\\sabat\\anaconda3\\lib\\site-packages\\sklearn\\linear_model\\_stochastic_gradient.py:696: ConvergenceWarning: Maximum number of iteration reached before convergence. Consider increasing max_iter to improve the fit.\n",
      "  warnings.warn(\n"
     ]
    },
    {
     "name": "stdout",
     "output_type": "stream",
     "text": [
      "[CV 1/5] END alpha=0.1, loss=squared_error, max_iter=100, penalty=l2, random_state=1;, score=0.506 total time=   0.6s\n"
     ]
    },
    {
     "name": "stderr",
     "output_type": "stream",
     "text": [
      "C:\\Users\\sabat\\anaconda3\\lib\\site-packages\\sklearn\\linear_model\\_stochastic_gradient.py:696: ConvergenceWarning: Maximum number of iteration reached before convergence. Consider increasing max_iter to improve the fit.\n",
      "  warnings.warn(\n"
     ]
    },
    {
     "name": "stdout",
     "output_type": "stream",
     "text": [
      "[CV 2/5] END alpha=0.1, loss=squared_error, max_iter=100, penalty=l2, random_state=1;, score=0.518 total time=   0.6s\n"
     ]
    },
    {
     "name": "stderr",
     "output_type": "stream",
     "text": [
      "C:\\Users\\sabat\\anaconda3\\lib\\site-packages\\sklearn\\linear_model\\_stochastic_gradient.py:696: ConvergenceWarning: Maximum number of iteration reached before convergence. Consider increasing max_iter to improve the fit.\n",
      "  warnings.warn(\n"
     ]
    },
    {
     "name": "stdout",
     "output_type": "stream",
     "text": [
      "[CV 3/5] END alpha=0.1, loss=squared_error, max_iter=100, penalty=l2, random_state=1;, score=0.495 total time=   0.5s\n"
     ]
    },
    {
     "name": "stderr",
     "output_type": "stream",
     "text": [
      "C:\\Users\\sabat\\anaconda3\\lib\\site-packages\\sklearn\\linear_model\\_stochastic_gradient.py:696: ConvergenceWarning: Maximum number of iteration reached before convergence. Consider increasing max_iter to improve the fit.\n",
      "  warnings.warn(\n"
     ]
    },
    {
     "name": "stdout",
     "output_type": "stream",
     "text": [
      "[CV 4/5] END alpha=0.1, loss=squared_error, max_iter=100, penalty=l2, random_state=1;, score=0.486 total time=   0.5s\n"
     ]
    },
    {
     "name": "stderr",
     "output_type": "stream",
     "text": [
      "C:\\Users\\sabat\\anaconda3\\lib\\site-packages\\sklearn\\linear_model\\_stochastic_gradient.py:696: ConvergenceWarning: Maximum number of iteration reached before convergence. Consider increasing max_iter to improve the fit.\n",
      "  warnings.warn(\n"
     ]
    },
    {
     "name": "stdout",
     "output_type": "stream",
     "text": [
      "[CV 5/5] END alpha=0.1, loss=squared_error, max_iter=100, penalty=l2, random_state=1;, score=0.496 total time=   0.5s\n"
     ]
    },
    {
     "name": "stderr",
     "output_type": "stream",
     "text": [
      "C:\\Users\\sabat\\anaconda3\\lib\\site-packages\\sklearn\\linear_model\\_stochastic_gradient.py:696: ConvergenceWarning: Maximum number of iteration reached before convergence. Consider increasing max_iter to improve the fit.\n",
      "  warnings.warn(\n"
     ]
    },
    {
     "name": "stdout",
     "output_type": "stream",
     "text": [
      "[CV 1/5] END alpha=0.1, loss=squared_error, max_iter=100, penalty=l2, random_state=None;, score=0.491 total time=   0.5s\n"
     ]
    },
    {
     "name": "stderr",
     "output_type": "stream",
     "text": [
      "C:\\Users\\sabat\\anaconda3\\lib\\site-packages\\sklearn\\linear_model\\_stochastic_gradient.py:696: ConvergenceWarning: Maximum number of iteration reached before convergence. Consider increasing max_iter to improve the fit.\n",
      "  warnings.warn(\n"
     ]
    },
    {
     "name": "stdout",
     "output_type": "stream",
     "text": [
      "[CV 2/5] END alpha=0.1, loss=squared_error, max_iter=100, penalty=l2, random_state=None;, score=0.519 total time=   0.5s\n"
     ]
    },
    {
     "name": "stderr",
     "output_type": "stream",
     "text": [
      "C:\\Users\\sabat\\anaconda3\\lib\\site-packages\\sklearn\\linear_model\\_stochastic_gradient.py:696: ConvergenceWarning: Maximum number of iteration reached before convergence. Consider increasing max_iter to improve the fit.\n",
      "  warnings.warn(\n"
     ]
    },
    {
     "name": "stdout",
     "output_type": "stream",
     "text": [
      "[CV 3/5] END alpha=0.1, loss=squared_error, max_iter=100, penalty=l2, random_state=None;, score=0.505 total time=   0.5s\n"
     ]
    },
    {
     "name": "stderr",
     "output_type": "stream",
     "text": [
      "C:\\Users\\sabat\\anaconda3\\lib\\site-packages\\sklearn\\linear_model\\_stochastic_gradient.py:696: ConvergenceWarning: Maximum number of iteration reached before convergence. Consider increasing max_iter to improve the fit.\n",
      "  warnings.warn(\n"
     ]
    },
    {
     "name": "stdout",
     "output_type": "stream",
     "text": [
      "[CV 4/5] END alpha=0.1, loss=squared_error, max_iter=100, penalty=l2, random_state=None;, score=0.486 total time=   0.5s\n"
     ]
    },
    {
     "name": "stderr",
     "output_type": "stream",
     "text": [
      "C:\\Users\\sabat\\anaconda3\\lib\\site-packages\\sklearn\\linear_model\\_stochastic_gradient.py:696: ConvergenceWarning: Maximum number of iteration reached before convergence. Consider increasing max_iter to improve the fit.\n",
      "  warnings.warn(\n"
     ]
    },
    {
     "name": "stdout",
     "output_type": "stream",
     "text": [
      "[CV 5/5] END alpha=0.1, loss=squared_error, max_iter=100, penalty=l2, random_state=None;, score=0.504 total time=   0.5s\n"
     ]
    },
    {
     "name": "stderr",
     "output_type": "stream",
     "text": [
      "C:\\Users\\sabat\\anaconda3\\lib\\site-packages\\sklearn\\linear_model\\_stochastic_gradient.py:696: ConvergenceWarning: Maximum number of iteration reached before convergence. Consider increasing max_iter to improve the fit.\n",
      "  warnings.warn(\n"
     ]
    },
    {
     "name": "stdout",
     "output_type": "stream",
     "text": [
      "[CV 1/5] END alpha=0.1, loss=squared_error, max_iter=100, penalty=elasticnet, random_state=1;, score=0.510 total time=   1.1s\n"
     ]
    },
    {
     "name": "stderr",
     "output_type": "stream",
     "text": [
      "C:\\Users\\sabat\\anaconda3\\lib\\site-packages\\sklearn\\linear_model\\_stochastic_gradient.py:696: ConvergenceWarning: Maximum number of iteration reached before convergence. Consider increasing max_iter to improve the fit.\n",
      "  warnings.warn(\n"
     ]
    },
    {
     "name": "stdout",
     "output_type": "stream",
     "text": [
      "[CV 2/5] END alpha=0.1, loss=squared_error, max_iter=100, penalty=elasticnet, random_state=1;, score=0.520 total time=   1.0s\n"
     ]
    },
    {
     "name": "stderr",
     "output_type": "stream",
     "text": [
      "C:\\Users\\sabat\\anaconda3\\lib\\site-packages\\sklearn\\linear_model\\_stochastic_gradient.py:696: ConvergenceWarning: Maximum number of iteration reached before convergence. Consider increasing max_iter to improve the fit.\n",
      "  warnings.warn(\n"
     ]
    },
    {
     "name": "stdout",
     "output_type": "stream",
     "text": [
      "[CV 3/5] END alpha=0.1, loss=squared_error, max_iter=100, penalty=elasticnet, random_state=1;, score=0.494 total time=   0.9s\n"
     ]
    },
    {
     "name": "stderr",
     "output_type": "stream",
     "text": [
      "C:\\Users\\sabat\\anaconda3\\lib\\site-packages\\sklearn\\linear_model\\_stochastic_gradient.py:696: ConvergenceWarning: Maximum number of iteration reached before convergence. Consider increasing max_iter to improve the fit.\n",
      "  warnings.warn(\n"
     ]
    },
    {
     "name": "stdout",
     "output_type": "stream",
     "text": [
      "[CV 4/5] END alpha=0.1, loss=squared_error, max_iter=100, penalty=elasticnet, random_state=1;, score=0.485 total time=   0.9s\n"
     ]
    },
    {
     "name": "stderr",
     "output_type": "stream",
     "text": [
      "C:\\Users\\sabat\\anaconda3\\lib\\site-packages\\sklearn\\linear_model\\_stochastic_gradient.py:696: ConvergenceWarning: Maximum number of iteration reached before convergence. Consider increasing max_iter to improve the fit.\n",
      "  warnings.warn(\n"
     ]
    },
    {
     "name": "stdout",
     "output_type": "stream",
     "text": [
      "[CV 5/5] END alpha=0.1, loss=squared_error, max_iter=100, penalty=elasticnet, random_state=1;, score=0.491 total time=   1.1s\n"
     ]
    },
    {
     "name": "stderr",
     "output_type": "stream",
     "text": [
      "C:\\Users\\sabat\\anaconda3\\lib\\site-packages\\sklearn\\linear_model\\_stochastic_gradient.py:696: ConvergenceWarning: Maximum number of iteration reached before convergence. Consider increasing max_iter to improve the fit.\n",
      "  warnings.warn(\n"
     ]
    },
    {
     "name": "stdout",
     "output_type": "stream",
     "text": [
      "[CV 1/5] END alpha=0.1, loss=squared_error, max_iter=100, penalty=elasticnet, random_state=None;, score=0.487 total time=   1.0s\n"
     ]
    },
    {
     "name": "stderr",
     "output_type": "stream",
     "text": [
      "C:\\Users\\sabat\\anaconda3\\lib\\site-packages\\sklearn\\linear_model\\_stochastic_gradient.py:696: ConvergenceWarning: Maximum number of iteration reached before convergence. Consider increasing max_iter to improve the fit.\n",
      "  warnings.warn(\n"
     ]
    },
    {
     "name": "stdout",
     "output_type": "stream",
     "text": [
      "[CV 2/5] END alpha=0.1, loss=squared_error, max_iter=100, penalty=elasticnet, random_state=None;, score=0.521 total time=   1.0s\n"
     ]
    },
    {
     "name": "stderr",
     "output_type": "stream",
     "text": [
      "C:\\Users\\sabat\\anaconda3\\lib\\site-packages\\sklearn\\linear_model\\_stochastic_gradient.py:696: ConvergenceWarning: Maximum number of iteration reached before convergence. Consider increasing max_iter to improve the fit.\n",
      "  warnings.warn(\n"
     ]
    },
    {
     "name": "stdout",
     "output_type": "stream",
     "text": [
      "[CV 3/5] END alpha=0.1, loss=squared_error, max_iter=100, penalty=elasticnet, random_state=None;, score=0.504 total time=   1.2s\n"
     ]
    },
    {
     "name": "stderr",
     "output_type": "stream",
     "text": [
      "C:\\Users\\sabat\\anaconda3\\lib\\site-packages\\sklearn\\linear_model\\_stochastic_gradient.py:696: ConvergenceWarning: Maximum number of iteration reached before convergence. Consider increasing max_iter to improve the fit.\n",
      "  warnings.warn(\n"
     ]
    },
    {
     "name": "stdout",
     "output_type": "stream",
     "text": [
      "[CV 4/5] END alpha=0.1, loss=squared_error, max_iter=100, penalty=elasticnet, random_state=None;, score=0.484 total time=   1.1s\n"
     ]
    },
    {
     "name": "stderr",
     "output_type": "stream",
     "text": [
      "C:\\Users\\sabat\\anaconda3\\lib\\site-packages\\sklearn\\linear_model\\_stochastic_gradient.py:696: ConvergenceWarning: Maximum number of iteration reached before convergence. Consider increasing max_iter to improve the fit.\n",
      "  warnings.warn(\n"
     ]
    },
    {
     "name": "stdout",
     "output_type": "stream",
     "text": [
      "[CV 5/5] END alpha=0.1, loss=squared_error, max_iter=100, penalty=elasticnet, random_state=None;, score=0.510 total time=   1.0s\n"
     ]
    },
    {
     "name": "stderr",
     "output_type": "stream",
     "text": [
      "C:\\Users\\sabat\\anaconda3\\lib\\site-packages\\sklearn\\linear_model\\_stochastic_gradient.py:696: ConvergenceWarning: Maximum number of iteration reached before convergence. Consider increasing max_iter to improve the fit.\n",
      "  warnings.warn(\n"
     ]
    },
    {
     "name": "stdout",
     "output_type": "stream",
     "text": [
      "[CV 1/5] END alpha=0.1, loss=squared_error, max_iter=1000, penalty=l1, random_state=1;, score=0.468 total time=  10.2s\n"
     ]
    },
    {
     "name": "stderr",
     "output_type": "stream",
     "text": [
      "C:\\Users\\sabat\\anaconda3\\lib\\site-packages\\sklearn\\linear_model\\_stochastic_gradient.py:696: ConvergenceWarning: Maximum number of iteration reached before convergence. Consider increasing max_iter to improve the fit.\n",
      "  warnings.warn(\n"
     ]
    },
    {
     "name": "stdout",
     "output_type": "stream",
     "text": [
      "[CV 2/5] END alpha=0.1, loss=squared_error, max_iter=1000, penalty=l1, random_state=1;, score=0.486 total time=  11.2s\n"
     ]
    },
    {
     "name": "stderr",
     "output_type": "stream",
     "text": [
      "C:\\Users\\sabat\\anaconda3\\lib\\site-packages\\sklearn\\linear_model\\_stochastic_gradient.py:696: ConvergenceWarning: Maximum number of iteration reached before convergence. Consider increasing max_iter to improve the fit.\n",
      "  warnings.warn(\n"
     ]
    },
    {
     "name": "stdout",
     "output_type": "stream",
     "text": [
      "[CV 3/5] END alpha=0.1, loss=squared_error, max_iter=1000, penalty=l1, random_state=1;, score=0.471 total time=  10.4s\n"
     ]
    },
    {
     "name": "stderr",
     "output_type": "stream",
     "text": [
      "C:\\Users\\sabat\\anaconda3\\lib\\site-packages\\sklearn\\linear_model\\_stochastic_gradient.py:696: ConvergenceWarning: Maximum number of iteration reached before convergence. Consider increasing max_iter to improve the fit.\n",
      "  warnings.warn(\n"
     ]
    },
    {
     "name": "stdout",
     "output_type": "stream",
     "text": [
      "[CV 4/5] END alpha=0.1, loss=squared_error, max_iter=1000, penalty=l1, random_state=1;, score=0.510 total time=  10.0s\n"
     ]
    },
    {
     "name": "stderr",
     "output_type": "stream",
     "text": [
      "C:\\Users\\sabat\\anaconda3\\lib\\site-packages\\sklearn\\linear_model\\_stochastic_gradient.py:696: ConvergenceWarning: Maximum number of iteration reached before convergence. Consider increasing max_iter to improve the fit.\n",
      "  warnings.warn(\n"
     ]
    },
    {
     "name": "stdout",
     "output_type": "stream",
     "text": [
      "[CV 5/5] END alpha=0.1, loss=squared_error, max_iter=1000, penalty=l1, random_state=1;, score=0.478 total time=   9.5s\n"
     ]
    },
    {
     "name": "stderr",
     "output_type": "stream",
     "text": [
      "C:\\Users\\sabat\\anaconda3\\lib\\site-packages\\sklearn\\linear_model\\_stochastic_gradient.py:696: ConvergenceWarning: Maximum number of iteration reached before convergence. Consider increasing max_iter to improve the fit.\n",
      "  warnings.warn(\n"
     ]
    },
    {
     "name": "stdout",
     "output_type": "stream",
     "text": [
      "[CV 1/5] END alpha=0.1, loss=squared_error, max_iter=1000, penalty=l1, random_state=None;, score=0.552 total time=  10.0s\n"
     ]
    },
    {
     "name": "stderr",
     "output_type": "stream",
     "text": [
      "C:\\Users\\sabat\\anaconda3\\lib\\site-packages\\sklearn\\linear_model\\_stochastic_gradient.py:696: ConvergenceWarning: Maximum number of iteration reached before convergence. Consider increasing max_iter to improve the fit.\n",
      "  warnings.warn(\n"
     ]
    },
    {
     "name": "stdout",
     "output_type": "stream",
     "text": [
      "[CV 2/5] END alpha=0.1, loss=squared_error, max_iter=1000, penalty=l1, random_state=None;, score=0.564 total time=  10.5s\n"
     ]
    },
    {
     "name": "stderr",
     "output_type": "stream",
     "text": [
      "C:\\Users\\sabat\\anaconda3\\lib\\site-packages\\sklearn\\linear_model\\_stochastic_gradient.py:696: ConvergenceWarning: Maximum number of iteration reached before convergence. Consider increasing max_iter to improve the fit.\n",
      "  warnings.warn(\n"
     ]
    },
    {
     "name": "stdout",
     "output_type": "stream",
     "text": [
      "[CV 3/5] END alpha=0.1, loss=squared_error, max_iter=1000, penalty=l1, random_state=None;, score=0.635 total time=  10.8s\n"
     ]
    },
    {
     "name": "stderr",
     "output_type": "stream",
     "text": [
      "C:\\Users\\sabat\\anaconda3\\lib\\site-packages\\sklearn\\linear_model\\_stochastic_gradient.py:696: ConvergenceWarning: Maximum number of iteration reached before convergence. Consider increasing max_iter to improve the fit.\n",
      "  warnings.warn(\n"
     ]
    },
    {
     "name": "stdout",
     "output_type": "stream",
     "text": [
      "[CV 4/5] END alpha=0.1, loss=squared_error, max_iter=1000, penalty=l1, random_state=None;, score=0.467 total time=  10.7s\n"
     ]
    },
    {
     "name": "stderr",
     "output_type": "stream",
     "text": [
      "C:\\Users\\sabat\\anaconda3\\lib\\site-packages\\sklearn\\linear_model\\_stochastic_gradient.py:696: ConvergenceWarning: Maximum number of iteration reached before convergence. Consider increasing max_iter to improve the fit.\n",
      "  warnings.warn(\n"
     ]
    },
    {
     "name": "stdout",
     "output_type": "stream",
     "text": [
      "[CV 5/5] END alpha=0.1, loss=squared_error, max_iter=1000, penalty=l1, random_state=None;, score=0.542 total time=  10.1s\n"
     ]
    },
    {
     "name": "stderr",
     "output_type": "stream",
     "text": [
      "C:\\Users\\sabat\\anaconda3\\lib\\site-packages\\sklearn\\linear_model\\_stochastic_gradient.py:696: ConvergenceWarning: Maximum number of iteration reached before convergence. Consider increasing max_iter to improve the fit.\n",
      "  warnings.warn(\n"
     ]
    },
    {
     "name": "stdout",
     "output_type": "stream",
     "text": [
      "[CV 1/5] END alpha=0.1, loss=squared_error, max_iter=1000, penalty=l2, random_state=1;, score=0.509 total time=   5.5s\n"
     ]
    },
    {
     "name": "stderr",
     "output_type": "stream",
     "text": [
      "C:\\Users\\sabat\\anaconda3\\lib\\site-packages\\sklearn\\linear_model\\_stochastic_gradient.py:696: ConvergenceWarning: Maximum number of iteration reached before convergence. Consider increasing max_iter to improve the fit.\n",
      "  warnings.warn(\n"
     ]
    },
    {
     "name": "stdout",
     "output_type": "stream",
     "text": [
      "[CV 2/5] END alpha=0.1, loss=squared_error, max_iter=1000, penalty=l2, random_state=1;, score=0.520 total time=   5.4s\n"
     ]
    },
    {
     "name": "stderr",
     "output_type": "stream",
     "text": [
      "C:\\Users\\sabat\\anaconda3\\lib\\site-packages\\sklearn\\linear_model\\_stochastic_gradient.py:696: ConvergenceWarning: Maximum number of iteration reached before convergence. Consider increasing max_iter to improve the fit.\n",
      "  warnings.warn(\n"
     ]
    },
    {
     "name": "stdout",
     "output_type": "stream",
     "text": [
      "[CV 3/5] END alpha=0.1, loss=squared_error, max_iter=1000, penalty=l2, random_state=1;, score=0.495 total time=   5.1s\n"
     ]
    },
    {
     "name": "stderr",
     "output_type": "stream",
     "text": [
      "C:\\Users\\sabat\\anaconda3\\lib\\site-packages\\sklearn\\linear_model\\_stochastic_gradient.py:696: ConvergenceWarning: Maximum number of iteration reached before convergence. Consider increasing max_iter to improve the fit.\n",
      "  warnings.warn(\n"
     ]
    },
    {
     "name": "stdout",
     "output_type": "stream",
     "text": [
      "[CV 4/5] END alpha=0.1, loss=squared_error, max_iter=1000, penalty=l2, random_state=1;, score=0.487 total time=   5.0s\n"
     ]
    },
    {
     "name": "stderr",
     "output_type": "stream",
     "text": [
      "C:\\Users\\sabat\\anaconda3\\lib\\site-packages\\sklearn\\linear_model\\_stochastic_gradient.py:696: ConvergenceWarning: Maximum number of iteration reached before convergence. Consider increasing max_iter to improve the fit.\n",
      "  warnings.warn(\n"
     ]
    },
    {
     "name": "stdout",
     "output_type": "stream",
     "text": [
      "[CV 5/5] END alpha=0.1, loss=squared_error, max_iter=1000, penalty=l2, random_state=1;, score=0.496 total time=   5.1s\n"
     ]
    },
    {
     "name": "stderr",
     "output_type": "stream",
     "text": [
      "C:\\Users\\sabat\\anaconda3\\lib\\site-packages\\sklearn\\linear_model\\_stochastic_gradient.py:696: ConvergenceWarning: Maximum number of iteration reached before convergence. Consider increasing max_iter to improve the fit.\n",
      "  warnings.warn(\n"
     ]
    },
    {
     "name": "stdout",
     "output_type": "stream",
     "text": [
      "[CV 1/5] END alpha=0.1, loss=squared_error, max_iter=1000, penalty=l2, random_state=None;, score=0.491 total time=   4.9s\n"
     ]
    },
    {
     "name": "stderr",
     "output_type": "stream",
     "text": [
      "C:\\Users\\sabat\\anaconda3\\lib\\site-packages\\sklearn\\linear_model\\_stochastic_gradient.py:696: ConvergenceWarning: Maximum number of iteration reached before convergence. Consider increasing max_iter to improve the fit.\n",
      "  warnings.warn(\n"
     ]
    },
    {
     "name": "stdout",
     "output_type": "stream",
     "text": [
      "[CV 2/5] END alpha=0.1, loss=squared_error, max_iter=1000, penalty=l2, random_state=None;, score=0.480 total time=   5.4s\n"
     ]
    },
    {
     "name": "stderr",
     "output_type": "stream",
     "text": [
      "C:\\Users\\sabat\\anaconda3\\lib\\site-packages\\sklearn\\linear_model\\_stochastic_gradient.py:696: ConvergenceWarning: Maximum number of iteration reached before convergence. Consider increasing max_iter to improve the fit.\n",
      "  warnings.warn(\n"
     ]
    },
    {
     "name": "stdout",
     "output_type": "stream",
     "text": [
      "[CV 3/5] END alpha=0.1, loss=squared_error, max_iter=1000, penalty=l2, random_state=None;, score=0.496 total time=   5.0s\n"
     ]
    },
    {
     "name": "stderr",
     "output_type": "stream",
     "text": [
      "C:\\Users\\sabat\\anaconda3\\lib\\site-packages\\sklearn\\linear_model\\_stochastic_gradient.py:696: ConvergenceWarning: Maximum number of iteration reached before convergence. Consider increasing max_iter to improve the fit.\n",
      "  warnings.warn(\n"
     ]
    },
    {
     "name": "stdout",
     "output_type": "stream",
     "text": [
      "[CV 4/5] END alpha=0.1, loss=squared_error, max_iter=1000, penalty=l2, random_state=None;, score=0.486 total time=   5.0s\n"
     ]
    },
    {
     "name": "stderr",
     "output_type": "stream",
     "text": [
      "C:\\Users\\sabat\\anaconda3\\lib\\site-packages\\sklearn\\linear_model\\_stochastic_gradient.py:696: ConvergenceWarning: Maximum number of iteration reached before convergence. Consider increasing max_iter to improve the fit.\n",
      "  warnings.warn(\n"
     ]
    },
    {
     "name": "stdout",
     "output_type": "stream",
     "text": [
      "[CV 5/5] END alpha=0.1, loss=squared_error, max_iter=1000, penalty=l2, random_state=None;, score=0.504 total time=   5.0s\n"
     ]
    },
    {
     "name": "stderr",
     "output_type": "stream",
     "text": [
      "C:\\Users\\sabat\\anaconda3\\lib\\site-packages\\sklearn\\linear_model\\_stochastic_gradient.py:696: ConvergenceWarning: Maximum number of iteration reached before convergence. Consider increasing max_iter to improve the fit.\n",
      "  warnings.warn(\n"
     ]
    },
    {
     "name": "stdout",
     "output_type": "stream",
     "text": [
      "[CV 1/5] END alpha=0.1, loss=squared_error, max_iter=1000, penalty=elasticnet, random_state=1;, score=0.512 total time=  10.1s\n"
     ]
    },
    {
     "name": "stderr",
     "output_type": "stream",
     "text": [
      "C:\\Users\\sabat\\anaconda3\\lib\\site-packages\\sklearn\\linear_model\\_stochastic_gradient.py:696: ConvergenceWarning: Maximum number of iteration reached before convergence. Consider increasing max_iter to improve the fit.\n",
      "  warnings.warn(\n"
     ]
    },
    {
     "name": "stdout",
     "output_type": "stream",
     "text": [
      "[CV 2/5] END alpha=0.1, loss=squared_error, max_iter=1000, penalty=elasticnet, random_state=1;, score=0.522 total time=  10.1s\n"
     ]
    },
    {
     "name": "stderr",
     "output_type": "stream",
     "text": [
      "C:\\Users\\sabat\\anaconda3\\lib\\site-packages\\sklearn\\linear_model\\_stochastic_gradient.py:696: ConvergenceWarning: Maximum number of iteration reached before convergence. Consider increasing max_iter to improve the fit.\n",
      "  warnings.warn(\n"
     ]
    },
    {
     "name": "stdout",
     "output_type": "stream",
     "text": [
      "[CV 3/5] END alpha=0.1, loss=squared_error, max_iter=1000, penalty=elasticnet, random_state=1;, score=0.494 total time=   9.6s\n"
     ]
    },
    {
     "name": "stderr",
     "output_type": "stream",
     "text": [
      "C:\\Users\\sabat\\anaconda3\\lib\\site-packages\\sklearn\\linear_model\\_stochastic_gradient.py:696: ConvergenceWarning: Maximum number of iteration reached before convergence. Consider increasing max_iter to improve the fit.\n",
      "  warnings.warn(\n"
     ]
    },
    {
     "name": "stdout",
     "output_type": "stream",
     "text": [
      "[CV 4/5] END alpha=0.1, loss=squared_error, max_iter=1000, penalty=elasticnet, random_state=1;, score=0.485 total time=   9.9s\n"
     ]
    },
    {
     "name": "stderr",
     "output_type": "stream",
     "text": [
      "C:\\Users\\sabat\\anaconda3\\lib\\site-packages\\sklearn\\linear_model\\_stochastic_gradient.py:696: ConvergenceWarning: Maximum number of iteration reached before convergence. Consider increasing max_iter to improve the fit.\n",
      "  warnings.warn(\n"
     ]
    },
    {
     "name": "stdout",
     "output_type": "stream",
     "text": [
      "[CV 5/5] END alpha=0.1, loss=squared_error, max_iter=1000, penalty=elasticnet, random_state=1;, score=0.490 total time=   9.4s\n"
     ]
    },
    {
     "name": "stderr",
     "output_type": "stream",
     "text": [
      "C:\\Users\\sabat\\anaconda3\\lib\\site-packages\\sklearn\\linear_model\\_stochastic_gradient.py:696: ConvergenceWarning: Maximum number of iteration reached before convergence. Consider increasing max_iter to improve the fit.\n",
      "  warnings.warn(\n"
     ]
    },
    {
     "name": "stdout",
     "output_type": "stream",
     "text": [
      "[CV 1/5] END alpha=0.1, loss=squared_error, max_iter=1000, penalty=elasticnet, random_state=None;, score=0.513 total time=  10.1s\n"
     ]
    },
    {
     "name": "stderr",
     "output_type": "stream",
     "text": [
      "C:\\Users\\sabat\\anaconda3\\lib\\site-packages\\sklearn\\linear_model\\_stochastic_gradient.py:696: ConvergenceWarning: Maximum number of iteration reached before convergence. Consider increasing max_iter to improve the fit.\n",
      "  warnings.warn(\n"
     ]
    },
    {
     "name": "stdout",
     "output_type": "stream",
     "text": [
      "[CV 2/5] END alpha=0.1, loss=squared_error, max_iter=1000, penalty=elasticnet, random_state=None;, score=0.522 total time=  10.1s\n"
     ]
    },
    {
     "name": "stderr",
     "output_type": "stream",
     "text": [
      "C:\\Users\\sabat\\anaconda3\\lib\\site-packages\\sklearn\\linear_model\\_stochastic_gradient.py:696: ConvergenceWarning: Maximum number of iteration reached before convergence. Consider increasing max_iter to improve the fit.\n",
      "  warnings.warn(\n"
     ]
    },
    {
     "name": "stdout",
     "output_type": "stream",
     "text": [
      "[CV 3/5] END alpha=0.1, loss=squared_error, max_iter=1000, penalty=elasticnet, random_state=None;, score=0.506 total time=   9.7s\n"
     ]
    },
    {
     "name": "stderr",
     "output_type": "stream",
     "text": [
      "C:\\Users\\sabat\\anaconda3\\lib\\site-packages\\sklearn\\linear_model\\_stochastic_gradient.py:696: ConvergenceWarning: Maximum number of iteration reached before convergence. Consider increasing max_iter to improve the fit.\n",
      "  warnings.warn(\n"
     ]
    },
    {
     "name": "stdout",
     "output_type": "stream",
     "text": [
      "[CV 4/5] END alpha=0.1, loss=squared_error, max_iter=1000, penalty=elasticnet, random_state=None;, score=0.517 total time=  10.0s\n"
     ]
    },
    {
     "name": "stderr",
     "output_type": "stream",
     "text": [
      "C:\\Users\\sabat\\anaconda3\\lib\\site-packages\\sklearn\\linear_model\\_stochastic_gradient.py:696: ConvergenceWarning: Maximum number of iteration reached before convergence. Consider increasing max_iter to improve the fit.\n",
      "  warnings.warn(\n"
     ]
    },
    {
     "name": "stdout",
     "output_type": "stream",
     "text": [
      "[CV 5/5] END alpha=0.1, loss=squared_error, max_iter=1000, penalty=elasticnet, random_state=None;, score=0.490 total time=   9.8s\n"
     ]
    },
    {
     "name": "stderr",
     "output_type": "stream",
     "text": [
      "C:\\Users\\sabat\\anaconda3\\lib\\site-packages\\sklearn\\linear_model\\_stochastic_gradient.py:696: ConvergenceWarning: Maximum number of iteration reached before convergence. Consider increasing max_iter to improve the fit.\n",
      "  warnings.warn(\n"
     ]
    },
    {
     "name": "stdout",
     "output_type": "stream",
     "text": [
      "[CV 1/5] END alpha=0.1, loss=squared_error, max_iter=5000, penalty=l1, random_state=1;, score=0.447 total time=  47.4s\n"
     ]
    },
    {
     "name": "stderr",
     "output_type": "stream",
     "text": [
      "C:\\Users\\sabat\\anaconda3\\lib\\site-packages\\sklearn\\linear_model\\_stochastic_gradient.py:696: ConvergenceWarning: Maximum number of iteration reached before convergence. Consider increasing max_iter to improve the fit.\n",
      "  warnings.warn(\n"
     ]
    },
    {
     "name": "stdout",
     "output_type": "stream",
     "text": [
      "[CV 2/5] END alpha=0.1, loss=squared_error, max_iter=5000, penalty=l1, random_state=1;, score=0.494 total time=  48.2s\n"
     ]
    },
    {
     "name": "stderr",
     "output_type": "stream",
     "text": [
      "C:\\Users\\sabat\\anaconda3\\lib\\site-packages\\sklearn\\linear_model\\_stochastic_gradient.py:696: ConvergenceWarning: Maximum number of iteration reached before convergence. Consider increasing max_iter to improve the fit.\n",
      "  warnings.warn(\n"
     ]
    },
    {
     "name": "stdout",
     "output_type": "stream",
     "text": [
      "[CV 3/5] END alpha=0.1, loss=squared_error, max_iter=5000, penalty=l1, random_state=1;, score=0.444 total time=  49.3s\n"
     ]
    },
    {
     "name": "stderr",
     "output_type": "stream",
     "text": [
      "C:\\Users\\sabat\\anaconda3\\lib\\site-packages\\sklearn\\linear_model\\_stochastic_gradient.py:696: ConvergenceWarning: Maximum number of iteration reached before convergence. Consider increasing max_iter to improve the fit.\n",
      "  warnings.warn(\n"
     ]
    },
    {
     "name": "stdout",
     "output_type": "stream",
     "text": [
      "[CV 4/5] END alpha=0.1, loss=squared_error, max_iter=5000, penalty=l1, random_state=1;, score=0.511 total time=  55.5s\n"
     ]
    },
    {
     "name": "stderr",
     "output_type": "stream",
     "text": [
      "C:\\Users\\sabat\\anaconda3\\lib\\site-packages\\sklearn\\linear_model\\_stochastic_gradient.py:696: ConvergenceWarning: Maximum number of iteration reached before convergence. Consider increasing max_iter to improve the fit.\n",
      "  warnings.warn(\n"
     ]
    },
    {
     "name": "stdout",
     "output_type": "stream",
     "text": [
      "[CV 5/5] END alpha=0.1, loss=squared_error, max_iter=5000, penalty=l1, random_state=1;, score=0.487 total time=  45.9s\n"
     ]
    },
    {
     "name": "stderr",
     "output_type": "stream",
     "text": [
      "C:\\Users\\sabat\\anaconda3\\lib\\site-packages\\sklearn\\linear_model\\_stochastic_gradient.py:696: ConvergenceWarning: Maximum number of iteration reached before convergence. Consider increasing max_iter to improve the fit.\n",
      "  warnings.warn(\n"
     ]
    },
    {
     "name": "stdout",
     "output_type": "stream",
     "text": [
      "[CV 1/5] END alpha=0.1, loss=squared_error, max_iter=5000, penalty=l1, random_state=None;, score=0.594 total time=  46.7s\n"
     ]
    },
    {
     "name": "stderr",
     "output_type": "stream",
     "text": [
      "C:\\Users\\sabat\\anaconda3\\lib\\site-packages\\sklearn\\linear_model\\_stochastic_gradient.py:696: ConvergenceWarning: Maximum number of iteration reached before convergence. Consider increasing max_iter to improve the fit.\n",
      "  warnings.warn(\n"
     ]
    },
    {
     "name": "stdout",
     "output_type": "stream",
     "text": [
      "[CV 2/5] END alpha=0.1, loss=squared_error, max_iter=5000, penalty=l1, random_state=None;, score=0.371 total time=  46.2s\n"
     ]
    },
    {
     "name": "stderr",
     "output_type": "stream",
     "text": [
      "C:\\Users\\sabat\\anaconda3\\lib\\site-packages\\sklearn\\linear_model\\_stochastic_gradient.py:696: ConvergenceWarning: Maximum number of iteration reached before convergence. Consider increasing max_iter to improve the fit.\n",
      "  warnings.warn(\n"
     ]
    },
    {
     "name": "stdout",
     "output_type": "stream",
     "text": [
      "[CV 3/5] END alpha=0.1, loss=squared_error, max_iter=5000, penalty=l1, random_state=None;, score=0.439 total time=  47.7s\n"
     ]
    },
    {
     "name": "stderr",
     "output_type": "stream",
     "text": [
      "C:\\Users\\sabat\\anaconda3\\lib\\site-packages\\sklearn\\linear_model\\_stochastic_gradient.py:696: ConvergenceWarning: Maximum number of iteration reached before convergence. Consider increasing max_iter to improve the fit.\n",
      "  warnings.warn(\n"
     ]
    },
    {
     "name": "stdout",
     "output_type": "stream",
     "text": [
      "[CV 4/5] END alpha=0.1, loss=squared_error, max_iter=5000, penalty=l1, random_state=None;, score=0.529 total time=  47.0s\n"
     ]
    },
    {
     "name": "stderr",
     "output_type": "stream",
     "text": [
      "C:\\Users\\sabat\\anaconda3\\lib\\site-packages\\sklearn\\linear_model\\_stochastic_gradient.py:696: ConvergenceWarning: Maximum number of iteration reached before convergence. Consider increasing max_iter to improve the fit.\n",
      "  warnings.warn(\n"
     ]
    },
    {
     "name": "stdout",
     "output_type": "stream",
     "text": [
      "[CV 5/5] END alpha=0.1, loss=squared_error, max_iter=5000, penalty=l1, random_state=None;, score=0.540 total time=  47.0s\n"
     ]
    },
    {
     "name": "stderr",
     "output_type": "stream",
     "text": [
      "C:\\Users\\sabat\\anaconda3\\lib\\site-packages\\sklearn\\linear_model\\_stochastic_gradient.py:696: ConvergenceWarning: Maximum number of iteration reached before convergence. Consider increasing max_iter to improve the fit.\n",
      "  warnings.warn(\n"
     ]
    },
    {
     "name": "stdout",
     "output_type": "stream",
     "text": [
      "[CV 1/5] END alpha=0.1, loss=squared_error, max_iter=5000, penalty=l2, random_state=1;, score=0.509 total time=  24.3s\n"
     ]
    },
    {
     "name": "stderr",
     "output_type": "stream",
     "text": [
      "C:\\Users\\sabat\\anaconda3\\lib\\site-packages\\sklearn\\linear_model\\_stochastic_gradient.py:696: ConvergenceWarning: Maximum number of iteration reached before convergence. Consider increasing max_iter to improve the fit.\n",
      "  warnings.warn(\n"
     ]
    },
    {
     "name": "stdout",
     "output_type": "stream",
     "text": [
      "[CV 2/5] END alpha=0.1, loss=squared_error, max_iter=5000, penalty=l2, random_state=1;, score=0.520 total time=  25.0s\n"
     ]
    },
    {
     "name": "stderr",
     "output_type": "stream",
     "text": [
      "C:\\Users\\sabat\\anaconda3\\lib\\site-packages\\sklearn\\linear_model\\_stochastic_gradient.py:696: ConvergenceWarning: Maximum number of iteration reached before convergence. Consider increasing max_iter to improve the fit.\n",
      "  warnings.warn(\n"
     ]
    },
    {
     "name": "stdout",
     "output_type": "stream",
     "text": [
      "[CV 3/5] END alpha=0.1, loss=squared_error, max_iter=5000, penalty=l2, random_state=1;, score=0.495 total time=  24.1s\n"
     ]
    },
    {
     "name": "stderr",
     "output_type": "stream",
     "text": [
      "C:\\Users\\sabat\\anaconda3\\lib\\site-packages\\sklearn\\linear_model\\_stochastic_gradient.py:696: ConvergenceWarning: Maximum number of iteration reached before convergence. Consider increasing max_iter to improve the fit.\n",
      "  warnings.warn(\n"
     ]
    },
    {
     "name": "stdout",
     "output_type": "stream",
     "text": [
      "[CV 4/5] END alpha=0.1, loss=squared_error, max_iter=5000, penalty=l2, random_state=1;, score=0.487 total time=  24.4s\n"
     ]
    },
    {
     "name": "stderr",
     "output_type": "stream",
     "text": [
      "C:\\Users\\sabat\\anaconda3\\lib\\site-packages\\sklearn\\linear_model\\_stochastic_gradient.py:696: ConvergenceWarning: Maximum number of iteration reached before convergence. Consider increasing max_iter to improve the fit.\n",
      "  warnings.warn(\n"
     ]
    },
    {
     "name": "stdout",
     "output_type": "stream",
     "text": [
      "[CV 5/5] END alpha=0.1, loss=squared_error, max_iter=5000, penalty=l2, random_state=1;, score=0.496 total time=  28.5s\n"
     ]
    },
    {
     "name": "stderr",
     "output_type": "stream",
     "text": [
      "C:\\Users\\sabat\\anaconda3\\lib\\site-packages\\sklearn\\linear_model\\_stochastic_gradient.py:696: ConvergenceWarning: Maximum number of iteration reached before convergence. Consider increasing max_iter to improve the fit.\n",
      "  warnings.warn(\n"
     ]
    },
    {
     "name": "stdout",
     "output_type": "stream",
     "text": [
      "[CV 1/5] END alpha=0.1, loss=squared_error, max_iter=5000, penalty=l2, random_state=None;, score=0.491 total time=  28.8s\n"
     ]
    },
    {
     "name": "stderr",
     "output_type": "stream",
     "text": [
      "C:\\Users\\sabat\\anaconda3\\lib\\site-packages\\sklearn\\linear_model\\_stochastic_gradient.py:696: ConvergenceWarning: Maximum number of iteration reached before convergence. Consider increasing max_iter to improve the fit.\n",
      "  warnings.warn(\n"
     ]
    },
    {
     "name": "stdout",
     "output_type": "stream",
     "text": [
      "[CV 2/5] END alpha=0.1, loss=squared_error, max_iter=5000, penalty=l2, random_state=None;, score=0.480 total time=  29.9s\n"
     ]
    },
    {
     "name": "stderr",
     "output_type": "stream",
     "text": [
      "C:\\Users\\sabat\\anaconda3\\lib\\site-packages\\sklearn\\linear_model\\_stochastic_gradient.py:696: ConvergenceWarning: Maximum number of iteration reached before convergence. Consider increasing max_iter to improve the fit.\n",
      "  warnings.warn(\n"
     ]
    },
    {
     "name": "stdout",
     "output_type": "stream",
     "text": [
      "[CV 3/5] END alpha=0.1, loss=squared_error, max_iter=5000, penalty=l2, random_state=None;, score=0.505 total time=  29.5s\n"
     ]
    },
    {
     "name": "stderr",
     "output_type": "stream",
     "text": [
      "C:\\Users\\sabat\\anaconda3\\lib\\site-packages\\sklearn\\linear_model\\_stochastic_gradient.py:696: ConvergenceWarning: Maximum number of iteration reached before convergence. Consider increasing max_iter to improve the fit.\n",
      "  warnings.warn(\n"
     ]
    },
    {
     "name": "stdout",
     "output_type": "stream",
     "text": [
      "[CV 4/5] END alpha=0.1, loss=squared_error, max_iter=5000, penalty=l2, random_state=None;, score=0.487 total time=  29.5s\n"
     ]
    },
    {
     "name": "stderr",
     "output_type": "stream",
     "text": [
      "C:\\Users\\sabat\\anaconda3\\lib\\site-packages\\sklearn\\linear_model\\_stochastic_gradient.py:696: ConvergenceWarning: Maximum number of iteration reached before convergence. Consider increasing max_iter to improve the fit.\n",
      "  warnings.warn(\n"
     ]
    },
    {
     "name": "stdout",
     "output_type": "stream",
     "text": [
      "[CV 5/5] END alpha=0.1, loss=squared_error, max_iter=5000, penalty=l2, random_state=None;, score=0.496 total time=  29.5s\n"
     ]
    },
    {
     "name": "stderr",
     "output_type": "stream",
     "text": [
      "C:\\Users\\sabat\\anaconda3\\lib\\site-packages\\sklearn\\linear_model\\_stochastic_gradient.py:696: ConvergenceWarning: Maximum number of iteration reached before convergence. Consider increasing max_iter to improve the fit.\n",
      "  warnings.warn(\n"
     ]
    },
    {
     "name": "stdout",
     "output_type": "stream",
     "text": [
      "[CV 1/5] END alpha=0.1, loss=squared_error, max_iter=5000, penalty=elasticnet, random_state=1;, score=0.513 total time=  58.5s\n"
     ]
    },
    {
     "name": "stderr",
     "output_type": "stream",
     "text": [
      "C:\\Users\\sabat\\anaconda3\\lib\\site-packages\\sklearn\\linear_model\\_stochastic_gradient.py:696: ConvergenceWarning: Maximum number of iteration reached before convergence. Consider increasing max_iter to improve the fit.\n",
      "  warnings.warn(\n"
     ]
    },
    {
     "name": "stdout",
     "output_type": "stream",
     "text": [
      "[CV 2/5] END alpha=0.1, loss=squared_error, max_iter=5000, penalty=elasticnet, random_state=1;, score=0.522 total time=  58.0s\n"
     ]
    },
    {
     "name": "stderr",
     "output_type": "stream",
     "text": [
      "C:\\Users\\sabat\\anaconda3\\lib\\site-packages\\sklearn\\linear_model\\_stochastic_gradient.py:696: ConvergenceWarning: Maximum number of iteration reached before convergence. Consider increasing max_iter to improve the fit.\n",
      "  warnings.warn(\n"
     ]
    },
    {
     "name": "stdout",
     "output_type": "stream",
     "text": [
      "[CV 3/5] END alpha=0.1, loss=squared_error, max_iter=5000, penalty=elasticnet, random_state=1;, score=0.494 total time=  54.6s\n"
     ]
    },
    {
     "name": "stderr",
     "output_type": "stream",
     "text": [
      "C:\\Users\\sabat\\anaconda3\\lib\\site-packages\\sklearn\\linear_model\\_stochastic_gradient.py:696: ConvergenceWarning: Maximum number of iteration reached before convergence. Consider increasing max_iter to improve the fit.\n",
      "  warnings.warn(\n"
     ]
    },
    {
     "name": "stdout",
     "output_type": "stream",
     "text": [
      "[CV 4/5] END alpha=0.1, loss=squared_error, max_iter=5000, penalty=elasticnet, random_state=1;, score=0.485 total time=  55.2s\n"
     ]
    },
    {
     "name": "stderr",
     "output_type": "stream",
     "text": [
      "C:\\Users\\sabat\\anaconda3\\lib\\site-packages\\sklearn\\linear_model\\_stochastic_gradient.py:696: ConvergenceWarning: Maximum number of iteration reached before convergence. Consider increasing max_iter to improve the fit.\n",
      "  warnings.warn(\n"
     ]
    },
    {
     "name": "stdout",
     "output_type": "stream",
     "text": [
      "[CV 5/5] END alpha=0.1, loss=squared_error, max_iter=5000, penalty=elasticnet, random_state=1;, score=0.490 total time=  46.9s\n"
     ]
    },
    {
     "name": "stderr",
     "output_type": "stream",
     "text": [
      "C:\\Users\\sabat\\anaconda3\\lib\\site-packages\\sklearn\\linear_model\\_stochastic_gradient.py:696: ConvergenceWarning: Maximum number of iteration reached before convergence. Consider increasing max_iter to improve the fit.\n",
      "  warnings.warn(\n"
     ]
    },
    {
     "name": "stdout",
     "output_type": "stream",
     "text": [
      "[CV 1/5] END alpha=0.1, loss=squared_error, max_iter=5000, penalty=elasticnet, random_state=None;, score=0.487 total time=  47.0s\n"
     ]
    },
    {
     "name": "stderr",
     "output_type": "stream",
     "text": [
      "C:\\Users\\sabat\\anaconda3\\lib\\site-packages\\sklearn\\linear_model\\_stochastic_gradient.py:696: ConvergenceWarning: Maximum number of iteration reached before convergence. Consider increasing max_iter to improve the fit.\n",
      "  warnings.warn(\n"
     ]
    },
    {
     "name": "stdout",
     "output_type": "stream",
     "text": [
      "[CV 2/5] END alpha=0.1, loss=squared_error, max_iter=5000, penalty=elasticnet, random_state=None;, score=0.477 total time=  46.5s\n"
     ]
    },
    {
     "name": "stderr",
     "output_type": "stream",
     "text": [
      "C:\\Users\\sabat\\anaconda3\\lib\\site-packages\\sklearn\\linear_model\\_stochastic_gradient.py:696: ConvergenceWarning: Maximum number of iteration reached before convergence. Consider increasing max_iter to improve the fit.\n",
      "  warnings.warn(\n"
     ]
    },
    {
     "name": "stdout",
     "output_type": "stream",
     "text": [
      "[CV 3/5] END alpha=0.1, loss=squared_error, max_iter=5000, penalty=elasticnet, random_state=None;, score=0.494 total time=  46.8s\n"
     ]
    },
    {
     "name": "stderr",
     "output_type": "stream",
     "text": [
      "C:\\Users\\sabat\\anaconda3\\lib\\site-packages\\sklearn\\linear_model\\_stochastic_gradient.py:696: ConvergenceWarning: Maximum number of iteration reached before convergence. Consider increasing max_iter to improve the fit.\n",
      "  warnings.warn(\n"
     ]
    },
    {
     "name": "stdout",
     "output_type": "stream",
     "text": [
      "[CV 4/5] END alpha=0.1, loss=squared_error, max_iter=5000, penalty=elasticnet, random_state=None;, score=0.485 total time=  47.1s\n"
     ]
    },
    {
     "name": "stderr",
     "output_type": "stream",
     "text": [
      "C:\\Users\\sabat\\anaconda3\\lib\\site-packages\\sklearn\\linear_model\\_stochastic_gradient.py:696: ConvergenceWarning: Maximum number of iteration reached before convergence. Consider increasing max_iter to improve the fit.\n",
      "  warnings.warn(\n"
     ]
    },
    {
     "name": "stdout",
     "output_type": "stream",
     "text": [
      "[CV 5/5] END alpha=0.1, loss=squared_error, max_iter=5000, penalty=elasticnet, random_state=None;, score=0.490 total time=  47.3s\n",
      "[CV 1/5] END alpha=0.1, loss=huber, max_iter=100, penalty=l1, random_state=1;, score=0.747 total time=   0.0s\n",
      "[CV 2/5] END alpha=0.1, loss=huber, max_iter=100, penalty=l1, random_state=1;, score=0.747 total time=   0.0s\n",
      "[CV 3/5] END alpha=0.1, loss=huber, max_iter=100, penalty=l1, random_state=1;, score=0.747 total time=   0.0s\n",
      "[CV 4/5] END alpha=0.1, loss=huber, max_iter=100, penalty=l1, random_state=1;, score=0.747 total time=   0.0s\n",
      "[CV 5/5] END alpha=0.1, loss=huber, max_iter=100, penalty=l1, random_state=1;, score=0.747 total time=   0.0s\n",
      "[CV 1/5] END alpha=0.1, loss=huber, max_iter=100, penalty=l1, random_state=None;, score=0.747 total time=   0.0s\n",
      "[CV 2/5] END alpha=0.1, loss=huber, max_iter=100, penalty=l1, random_state=None;, score=0.747 total time=   0.0s\n",
      "[CV 3/5] END alpha=0.1, loss=huber, max_iter=100, penalty=l1, random_state=None;, score=0.747 total time=   0.0s\n",
      "[CV 4/5] END alpha=0.1, loss=huber, max_iter=100, penalty=l1, random_state=None;, score=0.747 total time=   0.0s\n",
      "[CV 5/5] END alpha=0.1, loss=huber, max_iter=100, penalty=l1, random_state=None;, score=0.747 total time=   0.0s\n",
      "[CV 1/5] END alpha=0.1, loss=huber, max_iter=100, penalty=l2, random_state=1;, score=0.747 total time=   0.0s\n",
      "[CV 2/5] END alpha=0.1, loss=huber, max_iter=100, penalty=l2, random_state=1;, score=0.747 total time=   0.0s\n",
      "[CV 3/5] END alpha=0.1, loss=huber, max_iter=100, penalty=l2, random_state=1;, score=0.747 total time=   0.0s\n",
      "[CV 4/5] END alpha=0.1, loss=huber, max_iter=100, penalty=l2, random_state=1;, score=0.747 total time=   0.0s\n",
      "[CV 5/5] END alpha=0.1, loss=huber, max_iter=100, penalty=l2, random_state=1;, score=0.747 total time=   0.0s\n",
      "[CV 1/5] END alpha=0.1, loss=huber, max_iter=100, penalty=l2, random_state=None;, score=0.747 total time=   0.0s\n",
      "[CV 2/5] END alpha=0.1, loss=huber, max_iter=100, penalty=l2, random_state=None;, score=0.747 total time=   0.0s\n",
      "[CV 3/5] END alpha=0.1, loss=huber, max_iter=100, penalty=l2, random_state=None;, score=0.747 total time=   0.0s\n",
      "[CV 4/5] END alpha=0.1, loss=huber, max_iter=100, penalty=l2, random_state=None;, score=0.747 total time=   0.0s\n",
      "[CV 5/5] END alpha=0.1, loss=huber, max_iter=100, penalty=l2, random_state=None;, score=0.747 total time=   0.0s\n",
      "[CV 1/5] END alpha=0.1, loss=huber, max_iter=100, penalty=elasticnet, random_state=1;, score=0.747 total time=   0.0s\n",
      "[CV 2/5] END alpha=0.1, loss=huber, max_iter=100, penalty=elasticnet, random_state=1;, score=0.747 total time=   0.0s\n",
      "[CV 3/5] END alpha=0.1, loss=huber, max_iter=100, penalty=elasticnet, random_state=1;, score=0.747 total time=   0.0s\n",
      "[CV 4/5] END alpha=0.1, loss=huber, max_iter=100, penalty=elasticnet, random_state=1;, score=0.747 total time=   0.1s\n",
      "[CV 5/5] END alpha=0.1, loss=huber, max_iter=100, penalty=elasticnet, random_state=1;, score=0.747 total time=   0.1s\n",
      "[CV 1/5] END alpha=0.1, loss=huber, max_iter=100, penalty=elasticnet, random_state=None;, score=0.747 total time=   0.1s\n",
      "[CV 2/5] END alpha=0.1, loss=huber, max_iter=100, penalty=elasticnet, random_state=None;, score=0.747 total time=   0.1s\n",
      "[CV 3/5] END alpha=0.1, loss=huber, max_iter=100, penalty=elasticnet, random_state=None;, score=0.747 total time=   0.1s\n",
      "[CV 4/5] END alpha=0.1, loss=huber, max_iter=100, penalty=elasticnet, random_state=None;, score=0.747 total time=   0.0s\n",
      "[CV 5/5] END alpha=0.1, loss=huber, max_iter=100, penalty=elasticnet, random_state=None;, score=0.747 total time=   0.0s\n",
      "[CV 1/5] END alpha=0.1, loss=huber, max_iter=1000, penalty=l1, random_state=1;, score=0.747 total time=   0.0s\n",
      "[CV 2/5] END alpha=0.1, loss=huber, max_iter=1000, penalty=l1, random_state=1;, score=0.747 total time=   0.0s\n",
      "[CV 3/5] END alpha=0.1, loss=huber, max_iter=1000, penalty=l1, random_state=1;, score=0.747 total time=   0.0s\n",
      "[CV 4/5] END alpha=0.1, loss=huber, max_iter=1000, penalty=l1, random_state=1;, score=0.747 total time=   0.0s\n",
      "[CV 5/5] END alpha=0.1, loss=huber, max_iter=1000, penalty=l1, random_state=1;, score=0.747 total time=   0.0s\n",
      "[CV 1/5] END alpha=0.1, loss=huber, max_iter=1000, penalty=l1, random_state=None;, score=0.747 total time=   0.0s\n",
      "[CV 2/5] END alpha=0.1, loss=huber, max_iter=1000, penalty=l1, random_state=None;, score=0.747 total time=   0.0s\n",
      "[CV 3/5] END alpha=0.1, loss=huber, max_iter=1000, penalty=l1, random_state=None;, score=0.747 total time=   0.0s\n",
      "[CV 4/5] END alpha=0.1, loss=huber, max_iter=1000, penalty=l1, random_state=None;, score=0.747 total time=   0.0s\n",
      "[CV 5/5] END alpha=0.1, loss=huber, max_iter=1000, penalty=l1, random_state=None;, score=0.747 total time=   0.0s\n",
      "[CV 1/5] END alpha=0.1, loss=huber, max_iter=1000, penalty=l2, random_state=1;, score=0.747 total time=   0.0s\n",
      "[CV 2/5] END alpha=0.1, loss=huber, max_iter=1000, penalty=l2, random_state=1;, score=0.747 total time=   0.0s\n",
      "[CV 3/5] END alpha=0.1, loss=huber, max_iter=1000, penalty=l2, random_state=1;, score=0.747 total time=   0.0s\n",
      "[CV 4/5] END alpha=0.1, loss=huber, max_iter=1000, penalty=l2, random_state=1;, score=0.747 total time=   0.0s\n",
      "[CV 5/5] END alpha=0.1, loss=huber, max_iter=1000, penalty=l2, random_state=1;, score=0.747 total time=   0.0s\n",
      "[CV 1/5] END alpha=0.1, loss=huber, max_iter=1000, penalty=l2, random_state=None;, score=0.747 total time=   0.0s\n",
      "[CV 2/5] END alpha=0.1, loss=huber, max_iter=1000, penalty=l2, random_state=None;, score=0.747 total time=   0.0s\n",
      "[CV 3/5] END alpha=0.1, loss=huber, max_iter=1000, penalty=l2, random_state=None;, score=0.747 total time=   0.0s\n",
      "[CV 4/5] END alpha=0.1, loss=huber, max_iter=1000, penalty=l2, random_state=None;, score=0.747 total time=   0.0s\n",
      "[CV 5/5] END alpha=0.1, loss=huber, max_iter=1000, penalty=l2, random_state=None;, score=0.747 total time=   0.0s\n",
      "[CV 1/5] END alpha=0.1, loss=huber, max_iter=1000, penalty=elasticnet, random_state=1;, score=0.747 total time=   0.0s\n",
      "[CV 2/5] END alpha=0.1, loss=huber, max_iter=1000, penalty=elasticnet, random_state=1;, score=0.747 total time=   0.0s\n",
      "[CV 3/5] END alpha=0.1, loss=huber, max_iter=1000, penalty=elasticnet, random_state=1;, score=0.747 total time=   0.0s\n",
      "[CV 4/5] END alpha=0.1, loss=huber, max_iter=1000, penalty=elasticnet, random_state=1;, score=0.747 total time=   0.0s\n",
      "[CV 5/5] END alpha=0.1, loss=huber, max_iter=1000, penalty=elasticnet, random_state=1;, score=0.747 total time=   0.0s\n",
      "[CV 1/5] END alpha=0.1, loss=huber, max_iter=1000, penalty=elasticnet, random_state=None;, score=0.747 total time=   0.0s\n",
      "[CV 2/5] END alpha=0.1, loss=huber, max_iter=1000, penalty=elasticnet, random_state=None;, score=0.747 total time=   0.0s\n",
      "[CV 3/5] END alpha=0.1, loss=huber, max_iter=1000, penalty=elasticnet, random_state=None;, score=0.747 total time=   0.0s\n",
      "[CV 4/5] END alpha=0.1, loss=huber, max_iter=1000, penalty=elasticnet, random_state=None;, score=0.747 total time=   0.0s\n",
      "[CV 5/5] END alpha=0.1, loss=huber, max_iter=1000, penalty=elasticnet, random_state=None;, score=0.747 total time=   0.0s\n",
      "[CV 1/5] END alpha=0.1, loss=huber, max_iter=5000, penalty=l1, random_state=1;, score=0.747 total time=   0.0s\n",
      "[CV 2/5] END alpha=0.1, loss=huber, max_iter=5000, penalty=l1, random_state=1;, score=0.747 total time=   0.0s\n",
      "[CV 3/5] END alpha=0.1, loss=huber, max_iter=5000, penalty=l1, random_state=1;, score=0.747 total time=   0.0s\n",
      "[CV 4/5] END alpha=0.1, loss=huber, max_iter=5000, penalty=l1, random_state=1;, score=0.747 total time=   0.0s\n",
      "[CV 5/5] END alpha=0.1, loss=huber, max_iter=5000, penalty=l1, random_state=1;, score=0.747 total time=   0.0s\n",
      "[CV 1/5] END alpha=0.1, loss=huber, max_iter=5000, penalty=l1, random_state=None;, score=0.747 total time=   0.0s\n",
      "[CV 2/5] END alpha=0.1, loss=huber, max_iter=5000, penalty=l1, random_state=None;, score=0.747 total time=   0.0s\n",
      "[CV 3/5] END alpha=0.1, loss=huber, max_iter=5000, penalty=l1, random_state=None;, score=0.747 total time=   0.0s\n",
      "[CV 4/5] END alpha=0.1, loss=huber, max_iter=5000, penalty=l1, random_state=None;, score=0.747 total time=   0.0s\n",
      "[CV 5/5] END alpha=0.1, loss=huber, max_iter=5000, penalty=l1, random_state=None;, score=0.747 total time=   0.0s\n",
      "[CV 1/5] END alpha=0.1, loss=huber, max_iter=5000, penalty=l2, random_state=1;, score=0.747 total time=   0.0s\n"
     ]
    },
    {
     "name": "stdout",
     "output_type": "stream",
     "text": [
      "[CV 2/5] END alpha=0.1, loss=huber, max_iter=5000, penalty=l2, random_state=1;, score=0.747 total time=   0.0s\n",
      "[CV 3/5] END alpha=0.1, loss=huber, max_iter=5000, penalty=l2, random_state=1;, score=0.747 total time=   0.0s\n",
      "[CV 4/5] END alpha=0.1, loss=huber, max_iter=5000, penalty=l2, random_state=1;, score=0.747 total time=   0.0s\n",
      "[CV 5/5] END alpha=0.1, loss=huber, max_iter=5000, penalty=l2, random_state=1;, score=0.747 total time=   0.0s\n",
      "[CV 1/5] END alpha=0.1, loss=huber, max_iter=5000, penalty=l2, random_state=None;, score=0.747 total time=   0.0s\n",
      "[CV 2/5] END alpha=0.1, loss=huber, max_iter=5000, penalty=l2, random_state=None;, score=0.747 total time=   0.0s\n",
      "[CV 3/5] END alpha=0.1, loss=huber, max_iter=5000, penalty=l2, random_state=None;, score=0.747 total time=   0.0s\n",
      "[CV 4/5] END alpha=0.1, loss=huber, max_iter=5000, penalty=l2, random_state=None;, score=0.747 total time=   0.0s\n",
      "[CV 5/5] END alpha=0.1, loss=huber, max_iter=5000, penalty=l2, random_state=None;, score=0.747 total time=   0.0s\n",
      "[CV 1/5] END alpha=0.1, loss=huber, max_iter=5000, penalty=elasticnet, random_state=1;, score=0.747 total time=   0.0s\n",
      "[CV 2/5] END alpha=0.1, loss=huber, max_iter=5000, penalty=elasticnet, random_state=1;, score=0.747 total time=   0.0s\n",
      "[CV 3/5] END alpha=0.1, loss=huber, max_iter=5000, penalty=elasticnet, random_state=1;, score=0.747 total time=   0.0s\n",
      "[CV 4/5] END alpha=0.1, loss=huber, max_iter=5000, penalty=elasticnet, random_state=1;, score=0.747 total time=   0.0s\n",
      "[CV 5/5] END alpha=0.1, loss=huber, max_iter=5000, penalty=elasticnet, random_state=1;, score=0.747 total time=   0.0s\n",
      "[CV 1/5] END alpha=0.1, loss=huber, max_iter=5000, penalty=elasticnet, random_state=None;, score=0.747 total time=   0.0s\n",
      "[CV 2/5] END alpha=0.1, loss=huber, max_iter=5000, penalty=elasticnet, random_state=None;, score=0.747 total time=   0.0s\n",
      "[CV 3/5] END alpha=0.1, loss=huber, max_iter=5000, penalty=elasticnet, random_state=None;, score=0.747 total time=   0.0s\n",
      "[CV 4/5] END alpha=0.1, loss=huber, max_iter=5000, penalty=elasticnet, random_state=None;, score=0.747 total time=   0.0s\n",
      "[CV 5/5] END alpha=0.1, loss=huber, max_iter=5000, penalty=elasticnet, random_state=None;, score=0.747 total time=   0.0s\n",
      "[CV 1/5] END alpha=0.1, loss=epsilon_insensitive, max_iter=100, penalty=l1, random_state=1;, score=0.747 total time=   0.0s\n",
      "[CV 2/5] END alpha=0.1, loss=epsilon_insensitive, max_iter=100, penalty=l1, random_state=1;, score=0.747 total time=   0.0s\n",
      "[CV 3/5] END alpha=0.1, loss=epsilon_insensitive, max_iter=100, penalty=l1, random_state=1;, score=0.747 total time=   0.0s\n",
      "[CV 4/5] END alpha=0.1, loss=epsilon_insensitive, max_iter=100, penalty=l1, random_state=1;, score=0.747 total time=   0.0s\n",
      "[CV 5/5] END alpha=0.1, loss=epsilon_insensitive, max_iter=100, penalty=l1, random_state=1;, score=0.747 total time=   0.0s\n",
      "[CV 1/5] END alpha=0.1, loss=epsilon_insensitive, max_iter=100, penalty=l1, random_state=None;, score=0.747 total time=   0.0s\n",
      "[CV 2/5] END alpha=0.1, loss=epsilon_insensitive, max_iter=100, penalty=l1, random_state=None;, score=0.747 total time=   0.0s\n",
      "[CV 3/5] END alpha=0.1, loss=epsilon_insensitive, max_iter=100, penalty=l1, random_state=None;, score=0.747 total time=   0.0s\n",
      "[CV 4/5] END alpha=0.1, loss=epsilon_insensitive, max_iter=100, penalty=l1, random_state=None;, score=0.747 total time=   0.0s\n",
      "[CV 5/5] END alpha=0.1, loss=epsilon_insensitive, max_iter=100, penalty=l1, random_state=None;, score=0.747 total time=   0.0s\n",
      "[CV 1/5] END alpha=0.1, loss=epsilon_insensitive, max_iter=100, penalty=l2, random_state=1;, score=0.747 total time=   0.0s\n",
      "[CV 2/5] END alpha=0.1, loss=epsilon_insensitive, max_iter=100, penalty=l2, random_state=1;, score=0.747 total time=   0.0s\n",
      "[CV 3/5] END alpha=0.1, loss=epsilon_insensitive, max_iter=100, penalty=l2, random_state=1;, score=0.747 total time=   0.0s\n",
      "[CV 4/5] END alpha=0.1, loss=epsilon_insensitive, max_iter=100, penalty=l2, random_state=1;, score=0.747 total time=   0.0s\n",
      "[CV 5/5] END alpha=0.1, loss=epsilon_insensitive, max_iter=100, penalty=l2, random_state=1;, score=0.747 total time=   0.0s\n",
      "[CV 1/5] END alpha=0.1, loss=epsilon_insensitive, max_iter=100, penalty=l2, random_state=None;, score=0.747 total time=   0.0s\n",
      "[CV 2/5] END alpha=0.1, loss=epsilon_insensitive, max_iter=100, penalty=l2, random_state=None;, score=0.747 total time=   0.0s\n",
      "[CV 3/5] END alpha=0.1, loss=epsilon_insensitive, max_iter=100, penalty=l2, random_state=None;, score=0.747 total time=   0.0s\n",
      "[CV 4/5] END alpha=0.1, loss=epsilon_insensitive, max_iter=100, penalty=l2, random_state=None;, score=0.747 total time=   0.0s\n",
      "[CV 5/5] END alpha=0.1, loss=epsilon_insensitive, max_iter=100, penalty=l2, random_state=None;, score=0.747 total time=   0.0s\n",
      "[CV 1/5] END alpha=0.1, loss=epsilon_insensitive, max_iter=100, penalty=elasticnet, random_state=1;, score=0.747 total time=   0.0s\n",
      "[CV 2/5] END alpha=0.1, loss=epsilon_insensitive, max_iter=100, penalty=elasticnet, random_state=1;, score=0.747 total time=   0.0s\n",
      "[CV 3/5] END alpha=0.1, loss=epsilon_insensitive, max_iter=100, penalty=elasticnet, random_state=1;, score=0.747 total time=   0.0s\n",
      "[CV 4/5] END alpha=0.1, loss=epsilon_insensitive, max_iter=100, penalty=elasticnet, random_state=1;, score=0.747 total time=   0.0s\n",
      "[CV 5/5] END alpha=0.1, loss=epsilon_insensitive, max_iter=100, penalty=elasticnet, random_state=1;, score=0.747 total time=   0.0s\n",
      "[CV 1/5] END alpha=0.1, loss=epsilon_insensitive, max_iter=100, penalty=elasticnet, random_state=None;, score=0.747 total time=   0.0s\n",
      "[CV 2/5] END alpha=0.1, loss=epsilon_insensitive, max_iter=100, penalty=elasticnet, random_state=None;, score=0.747 total time=   0.0s\n",
      "[CV 3/5] END alpha=0.1, loss=epsilon_insensitive, max_iter=100, penalty=elasticnet, random_state=None;, score=0.747 total time=   0.1s\n",
      "[CV 4/5] END alpha=0.1, loss=epsilon_insensitive, max_iter=100, penalty=elasticnet, random_state=None;, score=0.747 total time=   0.1s\n",
      "[CV 5/5] END alpha=0.1, loss=epsilon_insensitive, max_iter=100, penalty=elasticnet, random_state=None;, score=0.747 total time=   0.0s\n",
      "[CV 1/5] END alpha=0.1, loss=epsilon_insensitive, max_iter=1000, penalty=l1, random_state=1;, score=0.747 total time=   0.0s\n",
      "[CV 2/5] END alpha=0.1, loss=epsilon_insensitive, max_iter=1000, penalty=l1, random_state=1;, score=0.747 total time=   0.0s\n",
      "[CV 3/5] END alpha=0.1, loss=epsilon_insensitive, max_iter=1000, penalty=l1, random_state=1;, score=0.747 total time=   0.0s\n",
      "[CV 4/5] END alpha=0.1, loss=epsilon_insensitive, max_iter=1000, penalty=l1, random_state=1;, score=0.747 total time=   0.0s\n",
      "[CV 5/5] END alpha=0.1, loss=epsilon_insensitive, max_iter=1000, penalty=l1, random_state=1;, score=0.747 total time=   0.0s\n",
      "[CV 1/5] END alpha=0.1, loss=epsilon_insensitive, max_iter=1000, penalty=l1, random_state=None;, score=0.747 total time=   0.0s\n",
      "[CV 2/5] END alpha=0.1, loss=epsilon_insensitive, max_iter=1000, penalty=l1, random_state=None;, score=0.747 total time=   0.0s\n",
      "[CV 3/5] END alpha=0.1, loss=epsilon_insensitive, max_iter=1000, penalty=l1, random_state=None;, score=0.747 total time=   0.0s\n",
      "[CV 4/5] END alpha=0.1, loss=epsilon_insensitive, max_iter=1000, penalty=l1, random_state=None;, score=0.747 total time=   0.0s\n",
      "[CV 5/5] END alpha=0.1, loss=epsilon_insensitive, max_iter=1000, penalty=l1, random_state=None;, score=0.747 total time=   0.0s\n",
      "[CV 1/5] END alpha=0.1, loss=epsilon_insensitive, max_iter=1000, penalty=l2, random_state=1;, score=0.747 total time=   0.0s\n",
      "[CV 2/5] END alpha=0.1, loss=epsilon_insensitive, max_iter=1000, penalty=l2, random_state=1;, score=0.747 total time=   0.0s\n",
      "[CV 3/5] END alpha=0.1, loss=epsilon_insensitive, max_iter=1000, penalty=l2, random_state=1;, score=0.747 total time=   0.0s\n",
      "[CV 4/5] END alpha=0.1, loss=epsilon_insensitive, max_iter=1000, penalty=l2, random_state=1;, score=0.747 total time=   0.0s\n",
      "[CV 5/5] END alpha=0.1, loss=epsilon_insensitive, max_iter=1000, penalty=l2, random_state=1;, score=0.747 total time=   0.0s\n",
      "[CV 1/5] END alpha=0.1, loss=epsilon_insensitive, max_iter=1000, penalty=l2, random_state=None;, score=0.747 total time=   0.0s\n",
      "[CV 2/5] END alpha=0.1, loss=epsilon_insensitive, max_iter=1000, penalty=l2, random_state=None;, score=0.747 total time=   0.0s\n"
     ]
    },
    {
     "name": "stdout",
     "output_type": "stream",
     "text": [
      "[CV 3/5] END alpha=0.1, loss=epsilon_insensitive, max_iter=1000, penalty=l2, random_state=None;, score=0.747 total time=   0.0s\n",
      "[CV 4/5] END alpha=0.1, loss=epsilon_insensitive, max_iter=1000, penalty=l2, random_state=None;, score=0.747 total time=   0.0s\n",
      "[CV 5/5] END alpha=0.1, loss=epsilon_insensitive, max_iter=1000, penalty=l2, random_state=None;, score=0.747 total time=   0.0s\n",
      "[CV 1/5] END alpha=0.1, loss=epsilon_insensitive, max_iter=1000, penalty=elasticnet, random_state=1;, score=0.747 total time=   0.0s\n",
      "[CV 2/5] END alpha=0.1, loss=epsilon_insensitive, max_iter=1000, penalty=elasticnet, random_state=1;, score=0.747 total time=   0.0s\n",
      "[CV 3/5] END alpha=0.1, loss=epsilon_insensitive, max_iter=1000, penalty=elasticnet, random_state=1;, score=0.747 total time=   0.0s\n",
      "[CV 4/5] END alpha=0.1, loss=epsilon_insensitive, max_iter=1000, penalty=elasticnet, random_state=1;, score=0.747 total time=   0.0s\n",
      "[CV 5/5] END alpha=0.1, loss=epsilon_insensitive, max_iter=1000, penalty=elasticnet, random_state=1;, score=0.747 total time=   0.0s\n",
      "[CV 1/5] END alpha=0.1, loss=epsilon_insensitive, max_iter=1000, penalty=elasticnet, random_state=None;, score=0.747 total time=   0.0s\n",
      "[CV 2/5] END alpha=0.1, loss=epsilon_insensitive, max_iter=1000, penalty=elasticnet, random_state=None;, score=0.747 total time=   0.0s\n",
      "[CV 3/5] END alpha=0.1, loss=epsilon_insensitive, max_iter=1000, penalty=elasticnet, random_state=None;, score=0.747 total time=   0.0s\n",
      "[CV 4/5] END alpha=0.1, loss=epsilon_insensitive, max_iter=1000, penalty=elasticnet, random_state=None;, score=0.747 total time=   0.0s\n",
      "[CV 5/5] END alpha=0.1, loss=epsilon_insensitive, max_iter=1000, penalty=elasticnet, random_state=None;, score=0.747 total time=   0.0s\n",
      "[CV 1/5] END alpha=0.1, loss=epsilon_insensitive, max_iter=5000, penalty=l1, random_state=1;, score=0.747 total time=   0.0s\n",
      "[CV 2/5] END alpha=0.1, loss=epsilon_insensitive, max_iter=5000, penalty=l1, random_state=1;, score=0.747 total time=   0.0s\n",
      "[CV 3/5] END alpha=0.1, loss=epsilon_insensitive, max_iter=5000, penalty=l1, random_state=1;, score=0.747 total time=   0.0s\n",
      "[CV 4/5] END alpha=0.1, loss=epsilon_insensitive, max_iter=5000, penalty=l1, random_state=1;, score=0.747 total time=   0.0s\n",
      "[CV 5/5] END alpha=0.1, loss=epsilon_insensitive, max_iter=5000, penalty=l1, random_state=1;, score=0.747 total time=   0.0s\n",
      "[CV 1/5] END alpha=0.1, loss=epsilon_insensitive, max_iter=5000, penalty=l1, random_state=None;, score=0.747 total time=   0.0s\n",
      "[CV 2/5] END alpha=0.1, loss=epsilon_insensitive, max_iter=5000, penalty=l1, random_state=None;, score=0.747 total time=   0.0s\n",
      "[CV 3/5] END alpha=0.1, loss=epsilon_insensitive, max_iter=5000, penalty=l1, random_state=None;, score=0.747 total time=   0.0s\n",
      "[CV 4/5] END alpha=0.1, loss=epsilon_insensitive, max_iter=5000, penalty=l1, random_state=None;, score=0.747 total time=   0.0s\n",
      "[CV 5/5] END alpha=0.1, loss=epsilon_insensitive, max_iter=5000, penalty=l1, random_state=None;, score=0.747 total time=   0.0s\n",
      "[CV 1/5] END alpha=0.1, loss=epsilon_insensitive, max_iter=5000, penalty=l2, random_state=1;, score=0.747 total time=   0.0s\n",
      "[CV 2/5] END alpha=0.1, loss=epsilon_insensitive, max_iter=5000, penalty=l2, random_state=1;, score=0.747 total time=   0.0s\n",
      "[CV 3/5] END alpha=0.1, loss=epsilon_insensitive, max_iter=5000, penalty=l2, random_state=1;, score=0.747 total time=   0.0s\n",
      "[CV 4/5] END alpha=0.1, loss=epsilon_insensitive, max_iter=5000, penalty=l2, random_state=1;, score=0.747 total time=   0.0s\n",
      "[CV 5/5] END alpha=0.1, loss=epsilon_insensitive, max_iter=5000, penalty=l2, random_state=1;, score=0.747 total time=   0.0s\n",
      "[CV 1/5] END alpha=0.1, loss=epsilon_insensitive, max_iter=5000, penalty=l2, random_state=None;, score=0.747 total time=   0.0s\n",
      "[CV 2/5] END alpha=0.1, loss=epsilon_insensitive, max_iter=5000, penalty=l2, random_state=None;, score=0.747 total time=   0.0s\n",
      "[CV 3/5] END alpha=0.1, loss=epsilon_insensitive, max_iter=5000, penalty=l2, random_state=None;, score=0.747 total time=   0.0s\n",
      "[CV 4/5] END alpha=0.1, loss=epsilon_insensitive, max_iter=5000, penalty=l2, random_state=None;, score=0.747 total time=   0.0s\n",
      "[CV 5/5] END alpha=0.1, loss=epsilon_insensitive, max_iter=5000, penalty=l2, random_state=None;, score=0.747 total time=   0.0s\n",
      "[CV 1/5] END alpha=0.1, loss=epsilon_insensitive, max_iter=5000, penalty=elasticnet, random_state=1;, score=0.747 total time=   0.0s\n",
      "[CV 2/5] END alpha=0.1, loss=epsilon_insensitive, max_iter=5000, penalty=elasticnet, random_state=1;, score=0.747 total time=   0.0s\n",
      "[CV 3/5] END alpha=0.1, loss=epsilon_insensitive, max_iter=5000, penalty=elasticnet, random_state=1;, score=0.747 total time=   0.0s\n",
      "[CV 4/5] END alpha=0.1, loss=epsilon_insensitive, max_iter=5000, penalty=elasticnet, random_state=1;, score=0.747 total time=   0.0s\n",
      "[CV 5/5] END alpha=0.1, loss=epsilon_insensitive, max_iter=5000, penalty=elasticnet, random_state=1;, score=0.747 total time=   0.0s\n",
      "[CV 1/5] END alpha=0.1, loss=epsilon_insensitive, max_iter=5000, penalty=elasticnet, random_state=None;, score=0.747 total time=   0.0s\n",
      "[CV 2/5] END alpha=0.1, loss=epsilon_insensitive, max_iter=5000, penalty=elasticnet, random_state=None;, score=0.747 total time=   0.0s\n",
      "[CV 3/5] END alpha=0.1, loss=epsilon_insensitive, max_iter=5000, penalty=elasticnet, random_state=None;, score=0.747 total time=   0.0s\n",
      "[CV 4/5] END alpha=0.1, loss=epsilon_insensitive, max_iter=5000, penalty=elasticnet, random_state=None;, score=0.747 total time=   0.0s\n",
      "[CV 5/5] END alpha=0.1, loss=epsilon_insensitive, max_iter=5000, penalty=elasticnet, random_state=None;, score=0.747 total time=   0.0s\n",
      "[CV 1/5] END alpha=100.0, loss=hinge, max_iter=100, penalty=l1, random_state=1;, score=0.747 total time=   0.0s\n",
      "[CV 2/5] END alpha=100.0, loss=hinge, max_iter=100, penalty=l1, random_state=1;, score=0.747 total time=   0.0s\n",
      "[CV 3/5] END alpha=100.0, loss=hinge, max_iter=100, penalty=l1, random_state=1;, score=0.747 total time=   0.0s\n",
      "[CV 4/5] END alpha=100.0, loss=hinge, max_iter=100, penalty=l1, random_state=1;, score=0.747 total time=   0.0s\n",
      "[CV 5/5] END alpha=100.0, loss=hinge, max_iter=100, penalty=l1, random_state=1;, score=0.747 total time=   0.1s\n",
      "[CV 1/5] END alpha=100.0, loss=hinge, max_iter=100, penalty=l1, random_state=None;, score=0.747 total time=   0.0s\n",
      "[CV 2/5] END alpha=100.0, loss=hinge, max_iter=100, penalty=l1, random_state=None;, score=0.747 total time=   0.0s\n",
      "[CV 3/5] END alpha=100.0, loss=hinge, max_iter=100, penalty=l1, random_state=None;, score=0.253 total time=   0.1s\n",
      "[CV 4/5] END alpha=100.0, loss=hinge, max_iter=100, penalty=l1, random_state=None;, score=0.747 total time=   0.0s\n",
      "[CV 5/5] END alpha=100.0, loss=hinge, max_iter=100, penalty=l1, random_state=None;, score=0.747 total time=   0.0s\n",
      "[CV 1/5] END alpha=100.0, loss=hinge, max_iter=100, penalty=l2, random_state=1;, score=0.747 total time=   0.0s\n",
      "[CV 2/5] END alpha=100.0, loss=hinge, max_iter=100, penalty=l2, random_state=1;, score=0.747 total time=   0.0s\n",
      "[CV 3/5] END alpha=100.0, loss=hinge, max_iter=100, penalty=l2, random_state=1;, score=0.747 total time=   0.0s\n",
      "[CV 4/5] END alpha=100.0, loss=hinge, max_iter=100, penalty=l2, random_state=1;, score=0.747 total time=   0.0s\n",
      "[CV 5/5] END alpha=100.0, loss=hinge, max_iter=100, penalty=l2, random_state=1;, score=0.747 total time=   0.0s\n",
      "[CV 1/5] END alpha=100.0, loss=hinge, max_iter=100, penalty=l2, random_state=None;, score=0.253 total time=   0.0s\n",
      "[CV 2/5] END alpha=100.0, loss=hinge, max_iter=100, penalty=l2, random_state=None;, score=0.747 total time=   0.0s\n",
      "[CV 3/5] END alpha=100.0, loss=hinge, max_iter=100, penalty=l2, random_state=None;, score=0.747 total time=   0.0s\n",
      "[CV 4/5] END alpha=100.0, loss=hinge, max_iter=100, penalty=l2, random_state=None;, score=0.747 total time=   0.0s\n",
      "[CV 5/5] END alpha=100.0, loss=hinge, max_iter=100, penalty=l2, random_state=None;, score=0.747 total time=   0.0s\n",
      "[CV 1/5] END alpha=100.0, loss=hinge, max_iter=100, penalty=elasticnet, random_state=1;, score=0.747 total time=   0.0s\n",
      "[CV 2/5] END alpha=100.0, loss=hinge, max_iter=100, penalty=elasticnet, random_state=1;, score=0.747 total time=   0.1s\n",
      "[CV 3/5] END alpha=100.0, loss=hinge, max_iter=100, penalty=elasticnet, random_state=1;, score=0.747 total time=   0.0s\n"
     ]
    },
    {
     "name": "stdout",
     "output_type": "stream",
     "text": [
      "[CV 4/5] END alpha=100.0, loss=hinge, max_iter=100, penalty=elasticnet, random_state=1;, score=0.747 total time=   0.0s\n",
      "[CV 5/5] END alpha=100.0, loss=hinge, max_iter=100, penalty=elasticnet, random_state=1;, score=0.747 total time=   0.1s\n",
      "[CV 1/5] END alpha=100.0, loss=hinge, max_iter=100, penalty=elasticnet, random_state=None;, score=0.747 total time=   0.0s\n",
      "[CV 2/5] END alpha=100.0, loss=hinge, max_iter=100, penalty=elasticnet, random_state=None;, score=0.747 total time=   0.0s\n",
      "[CV 3/5] END alpha=100.0, loss=hinge, max_iter=100, penalty=elasticnet, random_state=None;, score=0.747 total time=   0.0s\n",
      "[CV 4/5] END alpha=100.0, loss=hinge, max_iter=100, penalty=elasticnet, random_state=None;, score=0.747 total time=   0.1s\n",
      "[CV 5/5] END alpha=100.0, loss=hinge, max_iter=100, penalty=elasticnet, random_state=None;, score=0.747 total time=   0.0s\n",
      "[CV 1/5] END alpha=100.0, loss=hinge, max_iter=1000, penalty=l1, random_state=1;, score=0.747 total time=   0.0s\n",
      "[CV 2/5] END alpha=100.0, loss=hinge, max_iter=1000, penalty=l1, random_state=1;, score=0.747 total time=   0.1s\n",
      "[CV 3/5] END alpha=100.0, loss=hinge, max_iter=1000, penalty=l1, random_state=1;, score=0.747 total time=   0.0s\n",
      "[CV 4/5] END alpha=100.0, loss=hinge, max_iter=1000, penalty=l1, random_state=1;, score=0.747 total time=   0.0s\n",
      "[CV 5/5] END alpha=100.0, loss=hinge, max_iter=1000, penalty=l1, random_state=1;, score=0.747 total time=   0.1s\n",
      "[CV 1/5] END alpha=100.0, loss=hinge, max_iter=1000, penalty=l1, random_state=None;, score=0.747 total time=   0.1s\n",
      "[CV 2/5] END alpha=100.0, loss=hinge, max_iter=1000, penalty=l1, random_state=None;, score=0.253 total time=   0.1s\n",
      "[CV 3/5] END alpha=100.0, loss=hinge, max_iter=1000, penalty=l1, random_state=None;, score=0.747 total time=   0.1s\n",
      "[CV 4/5] END alpha=100.0, loss=hinge, max_iter=1000, penalty=l1, random_state=None;, score=0.747 total time=   0.0s\n",
      "[CV 5/5] END alpha=100.0, loss=hinge, max_iter=1000, penalty=l1, random_state=None;, score=0.747 total time=   0.0s\n",
      "[CV 1/5] END alpha=100.0, loss=hinge, max_iter=1000, penalty=l2, random_state=1;, score=0.747 total time=   0.0s\n",
      "[CV 2/5] END alpha=100.0, loss=hinge, max_iter=1000, penalty=l2, random_state=1;, score=0.747 total time=   0.0s\n",
      "[CV 3/5] END alpha=100.0, loss=hinge, max_iter=1000, penalty=l2, random_state=1;, score=0.747 total time=   0.0s\n",
      "[CV 4/5] END alpha=100.0, loss=hinge, max_iter=1000, penalty=l2, random_state=1;, score=0.747 total time=   0.0s\n",
      "[CV 5/5] END alpha=100.0, loss=hinge, max_iter=1000, penalty=l2, random_state=1;, score=0.747 total time=   0.0s\n",
      "[CV 1/5] END alpha=100.0, loss=hinge, max_iter=1000, penalty=l2, random_state=None;, score=0.747 total time=   0.0s\n",
      "[CV 2/5] END alpha=100.0, loss=hinge, max_iter=1000, penalty=l2, random_state=None;, score=0.747 total time=   0.0s\n",
      "[CV 3/5] END alpha=100.0, loss=hinge, max_iter=1000, penalty=l2, random_state=None;, score=0.747 total time=   0.0s\n",
      "[CV 4/5] END alpha=100.0, loss=hinge, max_iter=1000, penalty=l2, random_state=None;, score=0.747 total time=   0.0s\n",
      "[CV 5/5] END alpha=100.0, loss=hinge, max_iter=1000, penalty=l2, random_state=None;, score=0.747 total time=   0.0s\n",
      "[CV 1/5] END alpha=100.0, loss=hinge, max_iter=1000, penalty=elasticnet, random_state=1;, score=0.747 total time=   0.0s\n",
      "[CV 2/5] END alpha=100.0, loss=hinge, max_iter=1000, penalty=elasticnet, random_state=1;, score=0.747 total time=   0.0s\n",
      "[CV 3/5] END alpha=100.0, loss=hinge, max_iter=1000, penalty=elasticnet, random_state=1;, score=0.747 total time=   0.0s\n",
      "[CV 4/5] END alpha=100.0, loss=hinge, max_iter=1000, penalty=elasticnet, random_state=1;, score=0.747 total time=   0.0s\n",
      "[CV 5/5] END alpha=100.0, loss=hinge, max_iter=1000, penalty=elasticnet, random_state=1;, score=0.747 total time=   0.0s\n",
      "[CV 1/5] END alpha=100.0, loss=hinge, max_iter=1000, penalty=elasticnet, random_state=None;, score=0.747 total time=   0.0s\n",
      "[CV 2/5] END alpha=100.0, loss=hinge, max_iter=1000, penalty=elasticnet, random_state=None;, score=0.747 total time=   0.0s\n",
      "[CV 3/5] END alpha=100.0, loss=hinge, max_iter=1000, penalty=elasticnet, random_state=None;, score=0.747 total time=   0.1s\n",
      "[CV 4/5] END alpha=100.0, loss=hinge, max_iter=1000, penalty=elasticnet, random_state=None;, score=0.747 total time=   0.0s\n",
      "[CV 5/5] END alpha=100.0, loss=hinge, max_iter=1000, penalty=elasticnet, random_state=None;, score=0.253 total time=   0.1s\n",
      "[CV 1/5] END alpha=100.0, loss=hinge, max_iter=5000, penalty=l1, random_state=1;, score=0.747 total time=   0.1s\n",
      "[CV 2/5] END alpha=100.0, loss=hinge, max_iter=5000, penalty=l1, random_state=1;, score=0.747 total time=   0.0s\n",
      "[CV 3/5] END alpha=100.0, loss=hinge, max_iter=5000, penalty=l1, random_state=1;, score=0.747 total time=   0.0s\n",
      "[CV 4/5] END alpha=100.0, loss=hinge, max_iter=5000, penalty=l1, random_state=1;, score=0.747 total time=   0.0s\n",
      "[CV 5/5] END alpha=100.0, loss=hinge, max_iter=5000, penalty=l1, random_state=1;, score=0.747 total time=   0.1s\n",
      "[CV 1/5] END alpha=100.0, loss=hinge, max_iter=5000, penalty=l1, random_state=None;, score=0.747 total time=   0.0s\n",
      "[CV 2/5] END alpha=100.0, loss=hinge, max_iter=5000, penalty=l1, random_state=None;, score=0.747 total time=   0.0s\n",
      "[CV 3/5] END alpha=100.0, loss=hinge, max_iter=5000, penalty=l1, random_state=None;, score=0.747 total time=   0.0s\n",
      "[CV 4/5] END alpha=100.0, loss=hinge, max_iter=5000, penalty=l1, random_state=None;, score=0.747 total time=   0.0s\n",
      "[CV 5/5] END alpha=100.0, loss=hinge, max_iter=5000, penalty=l1, random_state=None;, score=0.253 total time=   0.0s\n",
      "[CV 1/5] END alpha=100.0, loss=hinge, max_iter=5000, penalty=l2, random_state=1;, score=0.747 total time=   0.0s\n",
      "[CV 2/5] END alpha=100.0, loss=hinge, max_iter=5000, penalty=l2, random_state=1;, score=0.747 total time=   0.0s\n",
      "[CV 3/5] END alpha=100.0, loss=hinge, max_iter=5000, penalty=l2, random_state=1;, score=0.747 total time=   0.0s\n",
      "[CV 4/5] END alpha=100.0, loss=hinge, max_iter=5000, penalty=l2, random_state=1;, score=0.747 total time=   0.0s\n",
      "[CV 5/5] END alpha=100.0, loss=hinge, max_iter=5000, penalty=l2, random_state=1;, score=0.747 total time=   0.0s\n",
      "[CV 1/5] END alpha=100.0, loss=hinge, max_iter=5000, penalty=l2, random_state=None;, score=0.747 total time=   0.0s\n",
      "[CV 2/5] END alpha=100.0, loss=hinge, max_iter=5000, penalty=l2, random_state=None;, score=0.747 total time=   0.0s\n",
      "[CV 3/5] END alpha=100.0, loss=hinge, max_iter=5000, penalty=l2, random_state=None;, score=0.747 total time=   0.0s\n",
      "[CV 4/5] END alpha=100.0, loss=hinge, max_iter=5000, penalty=l2, random_state=None;, score=0.747 total time=   0.0s\n",
      "[CV 5/5] END alpha=100.0, loss=hinge, max_iter=5000, penalty=l2, random_state=None;, score=0.747 total time=   0.0s\n",
      "[CV 1/5] END alpha=100.0, loss=hinge, max_iter=5000, penalty=elasticnet, random_state=1;, score=0.747 total time=   0.1s\n",
      "[CV 2/5] END alpha=100.0, loss=hinge, max_iter=5000, penalty=elasticnet, random_state=1;, score=0.747 total time=   0.0s\n",
      "[CV 3/5] END alpha=100.0, loss=hinge, max_iter=5000, penalty=elasticnet, random_state=1;, score=0.747 total time=   0.0s\n",
      "[CV 4/5] END alpha=100.0, loss=hinge, max_iter=5000, penalty=elasticnet, random_state=1;, score=0.747 total time=   0.0s\n",
      "[CV 5/5] END alpha=100.0, loss=hinge, max_iter=5000, penalty=elasticnet, random_state=1;, score=0.747 total time=   0.0s\n",
      "[CV 1/5] END alpha=100.0, loss=hinge, max_iter=5000, penalty=elasticnet, random_state=None;, score=0.747 total time=   0.0s\n",
      "[CV 2/5] END alpha=100.0, loss=hinge, max_iter=5000, penalty=elasticnet, random_state=None;, score=0.747 total time=   0.0s\n",
      "[CV 3/5] END alpha=100.0, loss=hinge, max_iter=5000, penalty=elasticnet, random_state=None;, score=0.747 total time=   0.0s\n",
      "[CV 4/5] END alpha=100.0, loss=hinge, max_iter=5000, penalty=elasticnet, random_state=None;, score=0.747 total time=   0.0s\n",
      "[CV 5/5] END alpha=100.0, loss=hinge, max_iter=5000, penalty=elasticnet, random_state=None;, score=0.747 total time=   0.0s\n",
      "[CV 1/5] END alpha=100.0, loss=log, max_iter=100, penalty=l1, random_state=1;, score=0.747 total time=   0.0s\n",
      "[CV 2/5] END alpha=100.0, loss=log, max_iter=100, penalty=l1, random_state=1;, score=0.747 total time=   0.0s\n",
      "[CV 3/5] END alpha=100.0, loss=log, max_iter=100, penalty=l1, random_state=1;, score=0.747 total time=   0.0s\n",
      "[CV 4/5] END alpha=100.0, loss=log, max_iter=100, penalty=l1, random_state=1;, score=0.747 total time=   0.0s\n"
     ]
    },
    {
     "name": "stdout",
     "output_type": "stream",
     "text": [
      "[CV 5/5] END alpha=100.0, loss=log, max_iter=100, penalty=l1, random_state=1;, score=0.747 total time=   0.0s\n",
      "[CV 1/5] END alpha=100.0, loss=log, max_iter=100, penalty=l1, random_state=None;, score=0.747 total time=   0.0s\n",
      "[CV 2/5] END alpha=100.0, loss=log, max_iter=100, penalty=l1, random_state=None;, score=0.747 total time=   0.0s\n",
      "[CV 3/5] END alpha=100.0, loss=log, max_iter=100, penalty=l1, random_state=None;, score=0.253 total time=   0.0s\n",
      "[CV 4/5] END alpha=100.0, loss=log, max_iter=100, penalty=l1, random_state=None;, score=0.747 total time=   0.0s\n",
      "[CV 5/5] END alpha=100.0, loss=log, max_iter=100, penalty=l1, random_state=None;, score=0.253 total time=   0.0s\n",
      "[CV 1/5] END alpha=100.0, loss=log, max_iter=100, penalty=l2, random_state=1;, score=0.747 total time=   0.0s\n",
      "[CV 2/5] END alpha=100.0, loss=log, max_iter=100, penalty=l2, random_state=1;, score=0.747 total time=   0.0s\n",
      "[CV 3/5] END alpha=100.0, loss=log, max_iter=100, penalty=l2, random_state=1;, score=0.747 total time=   0.0s\n",
      "[CV 4/5] END alpha=100.0, loss=log, max_iter=100, penalty=l2, random_state=1;, score=0.747 total time=   0.0s\n",
      "[CV 5/5] END alpha=100.0, loss=log, max_iter=100, penalty=l2, random_state=1;, score=0.747 total time=   0.0s\n",
      "[CV 1/5] END alpha=100.0, loss=log, max_iter=100, penalty=l2, random_state=None;, score=0.747 total time=   0.0s\n",
      "[CV 2/5] END alpha=100.0, loss=log, max_iter=100, penalty=l2, random_state=None;, score=0.747 total time=   0.0s\n",
      "[CV 3/5] END alpha=100.0, loss=log, max_iter=100, penalty=l2, random_state=None;, score=0.747 total time=   0.0s\n",
      "[CV 4/5] END alpha=100.0, loss=log, max_iter=100, penalty=l2, random_state=None;, score=0.747 total time=   0.0s\n",
      "[CV 5/5] END alpha=100.0, loss=log, max_iter=100, penalty=l2, random_state=None;, score=0.253 total time=   0.0s\n",
      "[CV 1/5] END alpha=100.0, loss=log, max_iter=100, penalty=elasticnet, random_state=1;, score=0.747 total time=   0.0s\n",
      "[CV 2/5] END alpha=100.0, loss=log, max_iter=100, penalty=elasticnet, random_state=1;, score=0.747 total time=   0.0s\n",
      "[CV 3/5] END alpha=100.0, loss=log, max_iter=100, penalty=elasticnet, random_state=1;, score=0.747 total time=   0.0s\n",
      "[CV 4/5] END alpha=100.0, loss=log, max_iter=100, penalty=elasticnet, random_state=1;, score=0.747 total time=   0.0s\n",
      "[CV 5/5] END alpha=100.0, loss=log, max_iter=100, penalty=elasticnet, random_state=1;, score=0.747 total time=   0.0s\n",
      "[CV 1/5] END alpha=100.0, loss=log, max_iter=100, penalty=elasticnet, random_state=None;, score=0.747 total time=   0.0s\n",
      "[CV 2/5] END alpha=100.0, loss=log, max_iter=100, penalty=elasticnet, random_state=None;, score=0.253 total time=   0.0s\n",
      "[CV 3/5] END alpha=100.0, loss=log, max_iter=100, penalty=elasticnet, random_state=None;, score=0.747 total time=   0.0s\n",
      "[CV 4/5] END alpha=100.0, loss=log, max_iter=100, penalty=elasticnet, random_state=None;, score=0.747 total time=   0.0s\n",
      "[CV 5/5] END alpha=100.0, loss=log, max_iter=100, penalty=elasticnet, random_state=None;, score=0.747 total time=   0.0s\n",
      "[CV 1/5] END alpha=100.0, loss=log, max_iter=1000, penalty=l1, random_state=1;, score=0.747 total time=   0.0s\n",
      "[CV 2/5] END alpha=100.0, loss=log, max_iter=1000, penalty=l1, random_state=1;, score=0.747 total time=   0.0s\n",
      "[CV 3/5] END alpha=100.0, loss=log, max_iter=1000, penalty=l1, random_state=1;, score=0.747 total time=   0.0s\n",
      "[CV 4/5] END alpha=100.0, loss=log, max_iter=1000, penalty=l1, random_state=1;, score=0.747 total time=   0.0s\n",
      "[CV 5/5] END alpha=100.0, loss=log, max_iter=1000, penalty=l1, random_state=1;, score=0.747 total time=   0.0s\n",
      "[CV 1/5] END alpha=100.0, loss=log, max_iter=1000, penalty=l1, random_state=None;, score=0.747 total time=   0.0s\n",
      "[CV 2/5] END alpha=100.0, loss=log, max_iter=1000, penalty=l1, random_state=None;, score=0.253 total time=   0.0s\n",
      "[CV 3/5] END alpha=100.0, loss=log, max_iter=1000, penalty=l1, random_state=None;, score=0.747 total time=   0.0s\n",
      "[CV 4/5] END alpha=100.0, loss=log, max_iter=1000, penalty=l1, random_state=None;, score=0.253 total time=   0.0s\n",
      "[CV 5/5] END alpha=100.0, loss=log, max_iter=1000, penalty=l1, random_state=None;, score=0.747 total time=   0.0s\n",
      "[CV 1/5] END alpha=100.0, loss=log, max_iter=1000, penalty=l2, random_state=1;, score=0.747 total time=   0.0s\n",
      "[CV 2/5] END alpha=100.0, loss=log, max_iter=1000, penalty=l2, random_state=1;, score=0.747 total time=   0.0s\n",
      "[CV 3/5] END alpha=100.0, loss=log, max_iter=1000, penalty=l2, random_state=1;, score=0.747 total time=   0.0s\n",
      "[CV 4/5] END alpha=100.0, loss=log, max_iter=1000, penalty=l2, random_state=1;, score=0.747 total time=   0.0s\n",
      "[CV 5/5] END alpha=100.0, loss=log, max_iter=1000, penalty=l2, random_state=1;, score=0.747 total time=   0.0s\n",
      "[CV 1/5] END alpha=100.0, loss=log, max_iter=1000, penalty=l2, random_state=None;, score=0.253 total time=   0.0s\n",
      "[CV 2/5] END alpha=100.0, loss=log, max_iter=1000, penalty=l2, random_state=None;, score=0.253 total time=   0.0s\n",
      "[CV 3/5] END alpha=100.0, loss=log, max_iter=1000, penalty=l2, random_state=None;, score=0.747 total time=   0.0s\n",
      "[CV 4/5] END alpha=100.0, loss=log, max_iter=1000, penalty=l2, random_state=None;, score=0.747 total time=   0.0s\n",
      "[CV 5/5] END alpha=100.0, loss=log, max_iter=1000, penalty=l2, random_state=None;, score=0.747 total time=   0.0s\n",
      "[CV 1/5] END alpha=100.0, loss=log, max_iter=1000, penalty=elasticnet, random_state=1;, score=0.747 total time=   0.0s\n",
      "[CV 2/5] END alpha=100.0, loss=log, max_iter=1000, penalty=elasticnet, random_state=1;, score=0.747 total time=   0.0s\n",
      "[CV 3/5] END alpha=100.0, loss=log, max_iter=1000, penalty=elasticnet, random_state=1;, score=0.747 total time=   0.0s\n",
      "[CV 4/5] END alpha=100.0, loss=log, max_iter=1000, penalty=elasticnet, random_state=1;, score=0.747 total time=   0.0s\n",
      "[CV 5/5] END alpha=100.0, loss=log, max_iter=1000, penalty=elasticnet, random_state=1;, score=0.747 total time=   0.0s\n",
      "[CV 1/5] END alpha=100.0, loss=log, max_iter=1000, penalty=elasticnet, random_state=None;, score=0.747 total time=   0.0s\n",
      "[CV 2/5] END alpha=100.0, loss=log, max_iter=1000, penalty=elasticnet, random_state=None;, score=0.747 total time=   0.0s\n",
      "[CV 3/5] END alpha=100.0, loss=log, max_iter=1000, penalty=elasticnet, random_state=None;, score=0.747 total time=   0.0s\n",
      "[CV 4/5] END alpha=100.0, loss=log, max_iter=1000, penalty=elasticnet, random_state=None;, score=0.747 total time=   0.0s\n",
      "[CV 5/5] END alpha=100.0, loss=log, max_iter=1000, penalty=elasticnet, random_state=None;, score=0.747 total time=   0.0s\n",
      "[CV 1/5] END alpha=100.0, loss=log, max_iter=5000, penalty=l1, random_state=1;, score=0.747 total time=   0.0s\n",
      "[CV 2/5] END alpha=100.0, loss=log, max_iter=5000, penalty=l1, random_state=1;, score=0.747 total time=   0.0s\n",
      "[CV 3/5] END alpha=100.0, loss=log, max_iter=5000, penalty=l1, random_state=1;, score=0.747 total time=   0.0s\n",
      "[CV 4/5] END alpha=100.0, loss=log, max_iter=5000, penalty=l1, random_state=1;, score=0.747 total time=   0.0s\n",
      "[CV 5/5] END alpha=100.0, loss=log, max_iter=5000, penalty=l1, random_state=1;, score=0.747 total time=   0.0s\n",
      "[CV 1/5] END alpha=100.0, loss=log, max_iter=5000, penalty=l1, random_state=None;, score=0.747 total time=   0.0s\n",
      "[CV 2/5] END alpha=100.0, loss=log, max_iter=5000, penalty=l1, random_state=None;, score=0.747 total time=   0.0s\n",
      "[CV 3/5] END alpha=100.0, loss=log, max_iter=5000, penalty=l1, random_state=None;, score=0.747 total time=   0.0s\n",
      "[CV 4/5] END alpha=100.0, loss=log, max_iter=5000, penalty=l1, random_state=None;, score=0.253 total time=   0.0s\n",
      "[CV 5/5] END alpha=100.0, loss=log, max_iter=5000, penalty=l1, random_state=None;, score=0.747 total time=   0.0s\n",
      "[CV 1/5] END alpha=100.0, loss=log, max_iter=5000, penalty=l2, random_state=1;, score=0.747 total time=   0.0s\n",
      "[CV 2/5] END alpha=100.0, loss=log, max_iter=5000, penalty=l2, random_state=1;, score=0.747 total time=   0.0s\n",
      "[CV 3/5] END alpha=100.0, loss=log, max_iter=5000, penalty=l2, random_state=1;, score=0.747 total time=   0.0s\n",
      "[CV 4/5] END alpha=100.0, loss=log, max_iter=5000, penalty=l2, random_state=1;, score=0.747 total time=   0.0s\n",
      "[CV 5/5] END alpha=100.0, loss=log, max_iter=5000, penalty=l2, random_state=1;, score=0.747 total time=   0.0s\n",
      "[CV 1/5] END alpha=100.0, loss=log, max_iter=5000, penalty=l2, random_state=None;, score=0.747 total time=   0.0s\n",
      "[CV 2/5] END alpha=100.0, loss=log, max_iter=5000, penalty=l2, random_state=None;, score=0.747 total time=   0.0s\n"
     ]
    },
    {
     "name": "stdout",
     "output_type": "stream",
     "text": [
      "[CV 3/5] END alpha=100.0, loss=log, max_iter=5000, penalty=l2, random_state=None;, score=0.747 total time=   0.0s\n",
      "[CV 4/5] END alpha=100.0, loss=log, max_iter=5000, penalty=l2, random_state=None;, score=0.747 total time=   0.0s\n",
      "[CV 5/5] END alpha=100.0, loss=log, max_iter=5000, penalty=l2, random_state=None;, score=0.747 total time=   0.0s\n",
      "[CV 1/5] END alpha=100.0, loss=log, max_iter=5000, penalty=elasticnet, random_state=1;, score=0.747 total time=   0.0s\n",
      "[CV 2/5] END alpha=100.0, loss=log, max_iter=5000, penalty=elasticnet, random_state=1;, score=0.747 total time=   0.0s\n",
      "[CV 3/5] END alpha=100.0, loss=log, max_iter=5000, penalty=elasticnet, random_state=1;, score=0.747 total time=   0.0s\n",
      "[CV 4/5] END alpha=100.0, loss=log, max_iter=5000, penalty=elasticnet, random_state=1;, score=0.747 total time=   0.0s\n",
      "[CV 5/5] END alpha=100.0, loss=log, max_iter=5000, penalty=elasticnet, random_state=1;, score=0.747 total time=   0.0s\n",
      "[CV 1/5] END alpha=100.0, loss=log, max_iter=5000, penalty=elasticnet, random_state=None;, score=0.747 total time=   0.0s\n",
      "[CV 2/5] END alpha=100.0, loss=log, max_iter=5000, penalty=elasticnet, random_state=None;, score=0.747 total time=   0.0s\n",
      "[CV 3/5] END alpha=100.0, loss=log, max_iter=5000, penalty=elasticnet, random_state=None;, score=0.253 total time=   0.0s\n",
      "[CV 4/5] END alpha=100.0, loss=log, max_iter=5000, penalty=elasticnet, random_state=None;, score=0.747 total time=   0.0s\n",
      "[CV 5/5] END alpha=100.0, loss=log, max_iter=5000, penalty=elasticnet, random_state=None;, score=0.747 total time=   0.0s\n",
      "[CV 1/5] END alpha=100.0, loss=perceptron, max_iter=100, penalty=l1, random_state=1;, score=0.747 total time=   0.0s\n",
      "[CV 2/5] END alpha=100.0, loss=perceptron, max_iter=100, penalty=l1, random_state=1;, score=0.747 total time=   0.0s\n",
      "[CV 3/5] END alpha=100.0, loss=perceptron, max_iter=100, penalty=l1, random_state=1;, score=0.747 total time=   0.0s\n",
      "[CV 4/5] END alpha=100.0, loss=perceptron, max_iter=100, penalty=l1, random_state=1;, score=0.747 total time=   0.0s\n",
      "[CV 5/5] END alpha=100.0, loss=perceptron, max_iter=100, penalty=l1, random_state=1;, score=0.747 total time=   0.0s\n",
      "[CV 1/5] END alpha=100.0, loss=perceptron, max_iter=100, penalty=l1, random_state=None;, score=0.747 total time=   0.0s\n",
      "[CV 2/5] END alpha=100.0, loss=perceptron, max_iter=100, penalty=l1, random_state=None;, score=0.253 total time=   0.0s\n",
      "[CV 3/5] END alpha=100.0, loss=perceptron, max_iter=100, penalty=l1, random_state=None;, score=0.747 total time=   0.0s\n",
      "[CV 4/5] END alpha=100.0, loss=perceptron, max_iter=100, penalty=l1, random_state=None;, score=0.747 total time=   0.0s\n",
      "[CV 5/5] END alpha=100.0, loss=perceptron, max_iter=100, penalty=l1, random_state=None;, score=0.747 total time=   0.0s\n",
      "[CV 1/5] END alpha=100.0, loss=perceptron, max_iter=100, penalty=l2, random_state=1;, score=0.747 total time=   0.0s\n",
      "[CV 2/5] END alpha=100.0, loss=perceptron, max_iter=100, penalty=l2, random_state=1;, score=0.747 total time=   0.0s\n",
      "[CV 3/5] END alpha=100.0, loss=perceptron, max_iter=100, penalty=l2, random_state=1;, score=0.747 total time=   0.0s\n",
      "[CV 4/5] END alpha=100.0, loss=perceptron, max_iter=100, penalty=l2, random_state=1;, score=0.747 total time=   0.0s\n",
      "[CV 5/5] END alpha=100.0, loss=perceptron, max_iter=100, penalty=l2, random_state=1;, score=0.747 total time=   0.0s\n",
      "[CV 1/5] END alpha=100.0, loss=perceptron, max_iter=100, penalty=l2, random_state=None;, score=0.747 total time=   0.0s\n",
      "[CV 2/5] END alpha=100.0, loss=perceptron, max_iter=100, penalty=l2, random_state=None;, score=0.747 total time=   0.0s\n",
      "[CV 3/5] END alpha=100.0, loss=perceptron, max_iter=100, penalty=l2, random_state=None;, score=0.747 total time=   0.0s\n",
      "[CV 4/5] END alpha=100.0, loss=perceptron, max_iter=100, penalty=l2, random_state=None;, score=0.747 total time=   0.0s\n",
      "[CV 5/5] END alpha=100.0, loss=perceptron, max_iter=100, penalty=l2, random_state=None;, score=0.747 total time=   0.0s\n",
      "[CV 1/5] END alpha=100.0, loss=perceptron, max_iter=100, penalty=elasticnet, random_state=1;, score=0.747 total time=   0.0s\n",
      "[CV 2/5] END alpha=100.0, loss=perceptron, max_iter=100, penalty=elasticnet, random_state=1;, score=0.747 total time=   0.0s\n",
      "[CV 3/5] END alpha=100.0, loss=perceptron, max_iter=100, penalty=elasticnet, random_state=1;, score=0.747 total time=   0.0s\n",
      "[CV 4/5] END alpha=100.0, loss=perceptron, max_iter=100, penalty=elasticnet, random_state=1;, score=0.747 total time=   0.0s\n",
      "[CV 5/5] END alpha=100.0, loss=perceptron, max_iter=100, penalty=elasticnet, random_state=1;, score=0.747 total time=   0.0s\n",
      "[CV 1/5] END alpha=100.0, loss=perceptron, max_iter=100, penalty=elasticnet, random_state=None;, score=0.747 total time=   0.0s\n",
      "[CV 2/5] END alpha=100.0, loss=perceptron, max_iter=100, penalty=elasticnet, random_state=None;, score=0.747 total time=   0.0s\n",
      "[CV 3/5] END alpha=100.0, loss=perceptron, max_iter=100, penalty=elasticnet, random_state=None;, score=0.747 total time=   0.0s\n",
      "[CV 4/5] END alpha=100.0, loss=perceptron, max_iter=100, penalty=elasticnet, random_state=None;, score=0.747 total time=   0.0s\n",
      "[CV 5/5] END alpha=100.0, loss=perceptron, max_iter=100, penalty=elasticnet, random_state=None;, score=0.747 total time=   0.0s\n",
      "[CV 1/5] END alpha=100.0, loss=perceptron, max_iter=1000, penalty=l1, random_state=1;, score=0.747 total time=   0.0s\n",
      "[CV 2/5] END alpha=100.0, loss=perceptron, max_iter=1000, penalty=l1, random_state=1;, score=0.747 total time=   0.0s\n",
      "[CV 3/5] END alpha=100.0, loss=perceptron, max_iter=1000, penalty=l1, random_state=1;, score=0.747 total time=   0.0s\n",
      "[CV 4/5] END alpha=100.0, loss=perceptron, max_iter=1000, penalty=l1, random_state=1;, score=0.747 total time=   0.0s\n",
      "[CV 5/5] END alpha=100.0, loss=perceptron, max_iter=1000, penalty=l1, random_state=1;, score=0.747 total time=   0.0s\n",
      "[CV 1/5] END alpha=100.0, loss=perceptron, max_iter=1000, penalty=l1, random_state=None;, score=0.747 total time=   0.0s\n",
      "[CV 2/5] END alpha=100.0, loss=perceptron, max_iter=1000, penalty=l1, random_state=None;, score=0.747 total time=   0.0s\n",
      "[CV 3/5] END alpha=100.0, loss=perceptron, max_iter=1000, penalty=l1, random_state=None;, score=0.253 total time=   0.1s\n",
      "[CV 4/5] END alpha=100.0, loss=perceptron, max_iter=1000, penalty=l1, random_state=None;, score=0.253 total time=   0.0s\n",
      "[CV 5/5] END alpha=100.0, loss=perceptron, max_iter=1000, penalty=l1, random_state=None;, score=0.747 total time=   0.0s\n",
      "[CV 1/5] END alpha=100.0, loss=perceptron, max_iter=1000, penalty=l2, random_state=1;, score=0.747 total time=   0.0s\n",
      "[CV 2/5] END alpha=100.0, loss=perceptron, max_iter=1000, penalty=l2, random_state=1;, score=0.747 total time=   0.0s\n",
      "[CV 3/5] END alpha=100.0, loss=perceptron, max_iter=1000, penalty=l2, random_state=1;, score=0.747 total time=   0.0s\n",
      "[CV 4/5] END alpha=100.0, loss=perceptron, max_iter=1000, penalty=l2, random_state=1;, score=0.747 total time=   0.0s\n",
      "[CV 5/5] END alpha=100.0, loss=perceptron, max_iter=1000, penalty=l2, random_state=1;, score=0.747 total time=   0.0s\n",
      "[CV 1/5] END alpha=100.0, loss=perceptron, max_iter=1000, penalty=l2, random_state=None;, score=0.747 total time=   0.0s\n",
      "[CV 2/5] END alpha=100.0, loss=perceptron, max_iter=1000, penalty=l2, random_state=None;, score=0.747 total time=   0.0s\n",
      "[CV 3/5] END alpha=100.0, loss=perceptron, max_iter=1000, penalty=l2, random_state=None;, score=0.747 total time=   0.0s\n",
      "[CV 4/5] END alpha=100.0, loss=perceptron, max_iter=1000, penalty=l2, random_state=None;, score=0.253 total time=   0.0s\n",
      "[CV 5/5] END alpha=100.0, loss=perceptron, max_iter=1000, penalty=l2, random_state=None;, score=0.747 total time=   0.0s\n",
      "[CV 1/5] END alpha=100.0, loss=perceptron, max_iter=1000, penalty=elasticnet, random_state=1;, score=0.747 total time=   0.0s\n",
      "[CV 2/5] END alpha=100.0, loss=perceptron, max_iter=1000, penalty=elasticnet, random_state=1;, score=0.747 total time=   0.0s\n",
      "[CV 3/5] END alpha=100.0, loss=perceptron, max_iter=1000, penalty=elasticnet, random_state=1;, score=0.747 total time=   0.0s\n",
      "[CV 4/5] END alpha=100.0, loss=perceptron, max_iter=1000, penalty=elasticnet, random_state=1;, score=0.747 total time=   0.0s\n",
      "[CV 5/5] END alpha=100.0, loss=perceptron, max_iter=1000, penalty=elasticnet, random_state=1;, score=0.747 total time=   0.0s\n",
      "[CV 1/5] END alpha=100.0, loss=perceptron, max_iter=1000, penalty=elasticnet, random_state=None;, score=0.747 total time=   0.0s\n"
     ]
    },
    {
     "name": "stdout",
     "output_type": "stream",
     "text": [
      "[CV 2/5] END alpha=100.0, loss=perceptron, max_iter=1000, penalty=elasticnet, random_state=None;, score=0.747 total time=   0.0s\n",
      "[CV 3/5] END alpha=100.0, loss=perceptron, max_iter=1000, penalty=elasticnet, random_state=None;, score=0.747 total time=   0.0s\n",
      "[CV 4/5] END alpha=100.0, loss=perceptron, max_iter=1000, penalty=elasticnet, random_state=None;, score=0.747 total time=   0.0s\n",
      "[CV 5/5] END alpha=100.0, loss=perceptron, max_iter=1000, penalty=elasticnet, random_state=None;, score=0.747 total time=   0.0s\n",
      "[CV 1/5] END alpha=100.0, loss=perceptron, max_iter=5000, penalty=l1, random_state=1;, score=0.747 total time=   0.0s\n",
      "[CV 2/5] END alpha=100.0, loss=perceptron, max_iter=5000, penalty=l1, random_state=1;, score=0.747 total time=   0.0s\n",
      "[CV 3/5] END alpha=100.0, loss=perceptron, max_iter=5000, penalty=l1, random_state=1;, score=0.747 total time=   0.0s\n",
      "[CV 4/5] END alpha=100.0, loss=perceptron, max_iter=5000, penalty=l1, random_state=1;, score=0.747 total time=   0.0s\n",
      "[CV 5/5] END alpha=100.0, loss=perceptron, max_iter=5000, penalty=l1, random_state=1;, score=0.747 total time=   0.0s\n",
      "[CV 1/5] END alpha=100.0, loss=perceptron, max_iter=5000, penalty=l1, random_state=None;, score=0.747 total time=   0.0s\n",
      "[CV 2/5] END alpha=100.0, loss=perceptron, max_iter=5000, penalty=l1, random_state=None;, score=0.747 total time=   0.0s\n",
      "[CV 3/5] END alpha=100.0, loss=perceptron, max_iter=5000, penalty=l1, random_state=None;, score=0.747 total time=   0.0s\n",
      "[CV 4/5] END alpha=100.0, loss=perceptron, max_iter=5000, penalty=l1, random_state=None;, score=0.747 total time=   0.0s\n",
      "[CV 5/5] END alpha=100.0, loss=perceptron, max_iter=5000, penalty=l1, random_state=None;, score=0.747 total time=   0.0s\n",
      "[CV 1/5] END alpha=100.0, loss=perceptron, max_iter=5000, penalty=l2, random_state=1;, score=0.747 total time=   0.0s\n",
      "[CV 2/5] END alpha=100.0, loss=perceptron, max_iter=5000, penalty=l2, random_state=1;, score=0.747 total time=   0.0s\n",
      "[CV 3/5] END alpha=100.0, loss=perceptron, max_iter=5000, penalty=l2, random_state=1;, score=0.747 total time=   0.0s\n",
      "[CV 4/5] END alpha=100.0, loss=perceptron, max_iter=5000, penalty=l2, random_state=1;, score=0.747 total time=   0.0s\n",
      "[CV 5/5] END alpha=100.0, loss=perceptron, max_iter=5000, penalty=l2, random_state=1;, score=0.747 total time=   0.0s\n",
      "[CV 1/5] END alpha=100.0, loss=perceptron, max_iter=5000, penalty=l2, random_state=None;, score=0.747 total time=   0.0s\n",
      "[CV 2/5] END alpha=100.0, loss=perceptron, max_iter=5000, penalty=l2, random_state=None;, score=0.253 total time=   0.0s\n",
      "[CV 3/5] END alpha=100.0, loss=perceptron, max_iter=5000, penalty=l2, random_state=None;, score=0.747 total time=   0.0s\n",
      "[CV 4/5] END alpha=100.0, loss=perceptron, max_iter=5000, penalty=l2, random_state=None;, score=0.747 total time=   0.0s\n",
      "[CV 5/5] END alpha=100.0, loss=perceptron, max_iter=5000, penalty=l2, random_state=None;, score=0.747 total time=   0.0s\n",
      "[CV 1/5] END alpha=100.0, loss=perceptron, max_iter=5000, penalty=elasticnet, random_state=1;, score=0.747 total time=   0.0s\n",
      "[CV 2/5] END alpha=100.0, loss=perceptron, max_iter=5000, penalty=elasticnet, random_state=1;, score=0.747 total time=   0.0s\n",
      "[CV 3/5] END alpha=100.0, loss=perceptron, max_iter=5000, penalty=elasticnet, random_state=1;, score=0.747 total time=   0.0s\n",
      "[CV 4/5] END alpha=100.0, loss=perceptron, max_iter=5000, penalty=elasticnet, random_state=1;, score=0.747 total time=   0.0s\n",
      "[CV 5/5] END alpha=100.0, loss=perceptron, max_iter=5000, penalty=elasticnet, random_state=1;, score=0.747 total time=   0.0s\n",
      "[CV 1/5] END alpha=100.0, loss=perceptron, max_iter=5000, penalty=elasticnet, random_state=None;, score=0.253 total time=   0.1s\n",
      "[CV 2/5] END alpha=100.0, loss=perceptron, max_iter=5000, penalty=elasticnet, random_state=None;, score=0.253 total time=   0.1s\n",
      "[CV 3/5] END alpha=100.0, loss=perceptron, max_iter=5000, penalty=elasticnet, random_state=None;, score=0.747 total time=   0.0s\n",
      "[CV 4/5] END alpha=100.0, loss=perceptron, max_iter=5000, penalty=elasticnet, random_state=None;, score=0.747 total time=   0.0s\n",
      "[CV 5/5] END alpha=100.0, loss=perceptron, max_iter=5000, penalty=elasticnet, random_state=None;, score=0.747 total time=   0.0s\n",
      "[CV 1/5] END alpha=100.0, loss=squared_error, max_iter=100, penalty=l1, random_state=1;, score=0.747 total time=   0.0s\n",
      "[CV 2/5] END alpha=100.0, loss=squared_error, max_iter=100, penalty=l1, random_state=1;, score=0.747 total time=   0.0s\n",
      "[CV 3/5] END alpha=100.0, loss=squared_error, max_iter=100, penalty=l1, random_state=1;, score=0.747 total time=   0.0s\n",
      "[CV 4/5] END alpha=100.0, loss=squared_error, max_iter=100, penalty=l1, random_state=1;, score=0.747 total time=   0.0s\n",
      "[CV 5/5] END alpha=100.0, loss=squared_error, max_iter=100, penalty=l1, random_state=1;, score=0.747 total time=   0.0s\n",
      "[CV 1/5] END alpha=100.0, loss=squared_error, max_iter=100, penalty=l1, random_state=None;, score=0.747 total time=   0.0s\n",
      "[CV 2/5] END alpha=100.0, loss=squared_error, max_iter=100, penalty=l1, random_state=None;, score=0.747 total time=   0.0s\n",
      "[CV 3/5] END alpha=100.0, loss=squared_error, max_iter=100, penalty=l1, random_state=None;, score=0.747 total time=   0.0s\n",
      "[CV 4/5] END alpha=100.0, loss=squared_error, max_iter=100, penalty=l1, random_state=None;, score=0.253 total time=   0.1s\n",
      "[CV 5/5] END alpha=100.0, loss=squared_error, max_iter=100, penalty=l1, random_state=None;, score=0.747 total time=   0.0s\n",
      "[CV 1/5] END alpha=100.0, loss=squared_error, max_iter=100, penalty=l2, random_state=1;, score=0.747 total time=   0.0s\n",
      "[CV 2/5] END alpha=100.0, loss=squared_error, max_iter=100, penalty=l2, random_state=1;, score=0.747 total time=   0.0s\n",
      "[CV 3/5] END alpha=100.0, loss=squared_error, max_iter=100, penalty=l2, random_state=1;, score=0.747 total time=   0.0s\n",
      "[CV 4/5] END alpha=100.0, loss=squared_error, max_iter=100, penalty=l2, random_state=1;, score=0.747 total time=   0.0s\n",
      "[CV 5/5] END alpha=100.0, loss=squared_error, max_iter=100, penalty=l2, random_state=1;, score=0.747 total time=   0.0s\n",
      "[CV 1/5] END alpha=100.0, loss=squared_error, max_iter=100, penalty=l2, random_state=None;, score=0.747 total time=   0.0s\n",
      "[CV 2/5] END alpha=100.0, loss=squared_error, max_iter=100, penalty=l2, random_state=None;, score=0.747 total time=   0.0s\n",
      "[CV 3/5] END alpha=100.0, loss=squared_error, max_iter=100, penalty=l2, random_state=None;, score=0.747 total time=   0.0s\n",
      "[CV 4/5] END alpha=100.0, loss=squared_error, max_iter=100, penalty=l2, random_state=None;, score=0.253 total time=   0.0s\n",
      "[CV 5/5] END alpha=100.0, loss=squared_error, max_iter=100, penalty=l2, random_state=None;, score=0.747 total time=   0.0s\n",
      "[CV 1/5] END alpha=100.0, loss=squared_error, max_iter=100, penalty=elasticnet, random_state=1;, score=0.747 total time=   0.0s\n",
      "[CV 2/5] END alpha=100.0, loss=squared_error, max_iter=100, penalty=elasticnet, random_state=1;, score=0.747 total time=   0.0s\n",
      "[CV 3/5] END alpha=100.0, loss=squared_error, max_iter=100, penalty=elasticnet, random_state=1;, score=0.747 total time=   0.0s\n",
      "[CV 4/5] END alpha=100.0, loss=squared_error, max_iter=100, penalty=elasticnet, random_state=1;, score=0.747 total time=   0.0s\n",
      "[CV 5/5] END alpha=100.0, loss=squared_error, max_iter=100, penalty=elasticnet, random_state=1;, score=0.747 total time=   0.0s\n",
      "[CV 1/5] END alpha=100.0, loss=squared_error, max_iter=100, penalty=elasticnet, random_state=None;, score=0.747 total time=   0.0s\n",
      "[CV 2/5] END alpha=100.0, loss=squared_error, max_iter=100, penalty=elasticnet, random_state=None;, score=0.253 total time=   0.1s\n",
      "[CV 3/5] END alpha=100.0, loss=squared_error, max_iter=100, penalty=elasticnet, random_state=None;, score=0.253 total time=   0.1s\n",
      "[CV 4/5] END alpha=100.0, loss=squared_error, max_iter=100, penalty=elasticnet, random_state=None;, score=0.747 total time=   0.0s\n",
      "[CV 5/5] END alpha=100.0, loss=squared_error, max_iter=100, penalty=elasticnet, random_state=None;, score=0.747 total time=   0.0s\n",
      "[CV 1/5] END alpha=100.0, loss=squared_error, max_iter=1000, penalty=l1, random_state=1;, score=0.747 total time=   0.0s\n",
      "[CV 2/5] END alpha=100.0, loss=squared_error, max_iter=1000, penalty=l1, random_state=1;, score=0.747 total time=   0.0s\n",
      "[CV 3/5] END alpha=100.0, loss=squared_error, max_iter=1000, penalty=l1, random_state=1;, score=0.747 total time=   0.0s\n"
     ]
    },
    {
     "name": "stdout",
     "output_type": "stream",
     "text": [
      "[CV 4/5] END alpha=100.0, loss=squared_error, max_iter=1000, penalty=l1, random_state=1;, score=0.747 total time=   0.0s\n",
      "[CV 5/5] END alpha=100.0, loss=squared_error, max_iter=1000, penalty=l1, random_state=1;, score=0.747 total time=   0.0s\n",
      "[CV 1/5] END alpha=100.0, loss=squared_error, max_iter=1000, penalty=l1, random_state=None;, score=0.747 total time=   0.0s\n",
      "[CV 2/5] END alpha=100.0, loss=squared_error, max_iter=1000, penalty=l1, random_state=None;, score=0.747 total time=   0.0s\n",
      "[CV 3/5] END alpha=100.0, loss=squared_error, max_iter=1000, penalty=l1, random_state=None;, score=0.253 total time=   0.1s\n",
      "[CV 4/5] END alpha=100.0, loss=squared_error, max_iter=1000, penalty=l1, random_state=None;, score=0.747 total time=   0.0s\n",
      "[CV 5/5] END alpha=100.0, loss=squared_error, max_iter=1000, penalty=l1, random_state=None;, score=0.747 total time=   0.0s\n",
      "[CV 1/5] END alpha=100.0, loss=squared_error, max_iter=1000, penalty=l2, random_state=1;, score=0.747 total time=   0.0s\n",
      "[CV 2/5] END alpha=100.0, loss=squared_error, max_iter=1000, penalty=l2, random_state=1;, score=0.747 total time=   0.0s\n",
      "[CV 3/5] END alpha=100.0, loss=squared_error, max_iter=1000, penalty=l2, random_state=1;, score=0.747 total time=   0.0s\n",
      "[CV 4/5] END alpha=100.0, loss=squared_error, max_iter=1000, penalty=l2, random_state=1;, score=0.747 total time=   0.0s\n",
      "[CV 5/5] END alpha=100.0, loss=squared_error, max_iter=1000, penalty=l2, random_state=1;, score=0.747 total time=   0.0s\n",
      "[CV 1/5] END alpha=100.0, loss=squared_error, max_iter=1000, penalty=l2, random_state=None;, score=0.253 total time=   0.0s\n",
      "[CV 2/5] END alpha=100.0, loss=squared_error, max_iter=1000, penalty=l2, random_state=None;, score=0.747 total time=   0.0s\n",
      "[CV 3/5] END alpha=100.0, loss=squared_error, max_iter=1000, penalty=l2, random_state=None;, score=0.747 total time=   0.0s\n",
      "[CV 4/5] END alpha=100.0, loss=squared_error, max_iter=1000, penalty=l2, random_state=None;, score=0.747 total time=   0.0s\n",
      "[CV 5/5] END alpha=100.0, loss=squared_error, max_iter=1000, penalty=l2, random_state=None;, score=0.747 total time=   0.0s\n",
      "[CV 1/5] END alpha=100.0, loss=squared_error, max_iter=1000, penalty=elasticnet, random_state=1;, score=0.747 total time=   0.0s\n",
      "[CV 2/5] END alpha=100.0, loss=squared_error, max_iter=1000, penalty=elasticnet, random_state=1;, score=0.747 total time=   0.0s\n",
      "[CV 3/5] END alpha=100.0, loss=squared_error, max_iter=1000, penalty=elasticnet, random_state=1;, score=0.747 total time=   0.0s\n",
      "[CV 4/5] END alpha=100.0, loss=squared_error, max_iter=1000, penalty=elasticnet, random_state=1;, score=0.747 total time=   0.0s\n",
      "[CV 5/5] END alpha=100.0, loss=squared_error, max_iter=1000, penalty=elasticnet, random_state=1;, score=0.747 total time=   0.0s\n",
      "[CV 1/5] END alpha=100.0, loss=squared_error, max_iter=1000, penalty=elasticnet, random_state=None;, score=0.747 total time=   0.0s\n",
      "[CV 2/5] END alpha=100.0, loss=squared_error, max_iter=1000, penalty=elasticnet, random_state=None;, score=0.253 total time=   0.1s\n",
      "[CV 3/5] END alpha=100.0, loss=squared_error, max_iter=1000, penalty=elasticnet, random_state=None;, score=0.747 total time=   0.0s\n",
      "[CV 4/5] END alpha=100.0, loss=squared_error, max_iter=1000, penalty=elasticnet, random_state=None;, score=0.747 total time=   0.0s\n",
      "[CV 5/5] END alpha=100.0, loss=squared_error, max_iter=1000, penalty=elasticnet, random_state=None;, score=0.747 total time=   0.0s\n",
      "[CV 1/5] END alpha=100.0, loss=squared_error, max_iter=5000, penalty=l1, random_state=1;, score=0.747 total time=   0.0s\n",
      "[CV 2/5] END alpha=100.0, loss=squared_error, max_iter=5000, penalty=l1, random_state=1;, score=0.747 total time=   0.0s\n",
      "[CV 3/5] END alpha=100.0, loss=squared_error, max_iter=5000, penalty=l1, random_state=1;, score=0.747 total time=   0.0s\n",
      "[CV 4/5] END alpha=100.0, loss=squared_error, max_iter=5000, penalty=l1, random_state=1;, score=0.747 total time=   0.0s\n",
      "[CV 5/5] END alpha=100.0, loss=squared_error, max_iter=5000, penalty=l1, random_state=1;, score=0.747 total time=   0.0s\n",
      "[CV 1/5] END alpha=100.0, loss=squared_error, max_iter=5000, penalty=l1, random_state=None;, score=0.747 total time=   0.0s\n",
      "[CV 2/5] END alpha=100.0, loss=squared_error, max_iter=5000, penalty=l1, random_state=None;, score=0.747 total time=   0.0s\n",
      "[CV 3/5] END alpha=100.0, loss=squared_error, max_iter=5000, penalty=l1, random_state=None;, score=0.747 total time=   0.0s\n",
      "[CV 4/5] END alpha=100.0, loss=squared_error, max_iter=5000, penalty=l1, random_state=None;, score=0.747 total time=   0.0s\n",
      "[CV 5/5] END alpha=100.0, loss=squared_error, max_iter=5000, penalty=l1, random_state=None;, score=0.747 total time=   0.0s\n",
      "[CV 1/5] END alpha=100.0, loss=squared_error, max_iter=5000, penalty=l2, random_state=1;, score=0.747 total time=   0.0s\n",
      "[CV 2/5] END alpha=100.0, loss=squared_error, max_iter=5000, penalty=l2, random_state=1;, score=0.747 total time=   0.0s\n",
      "[CV 3/5] END alpha=100.0, loss=squared_error, max_iter=5000, penalty=l2, random_state=1;, score=0.747 total time=   0.0s\n",
      "[CV 4/5] END alpha=100.0, loss=squared_error, max_iter=5000, penalty=l2, random_state=1;, score=0.747 total time=   0.0s\n",
      "[CV 5/5] END alpha=100.0, loss=squared_error, max_iter=5000, penalty=l2, random_state=1;, score=0.747 total time=   0.0s\n",
      "[CV 1/5] END alpha=100.0, loss=squared_error, max_iter=5000, penalty=l2, random_state=None;, score=0.747 total time=   0.0s\n",
      "[CV 2/5] END alpha=100.0, loss=squared_error, max_iter=5000, penalty=l2, random_state=None;, score=0.747 total time=   0.0s\n",
      "[CV 3/5] END alpha=100.0, loss=squared_error, max_iter=5000, penalty=l2, random_state=None;, score=0.747 total time=   0.0s\n",
      "[CV 4/5] END alpha=100.0, loss=squared_error, max_iter=5000, penalty=l2, random_state=None;, score=0.747 total time=   0.0s\n",
      "[CV 5/5] END alpha=100.0, loss=squared_error, max_iter=5000, penalty=l2, random_state=None;, score=0.747 total time=   0.0s\n",
      "[CV 1/5] END alpha=100.0, loss=squared_error, max_iter=5000, penalty=elasticnet, random_state=1;, score=0.747 total time=   0.0s\n",
      "[CV 2/5] END alpha=100.0, loss=squared_error, max_iter=5000, penalty=elasticnet, random_state=1;, score=0.747 total time=   0.0s\n",
      "[CV 3/5] END alpha=100.0, loss=squared_error, max_iter=5000, penalty=elasticnet, random_state=1;, score=0.747 total time=   0.0s\n",
      "[CV 4/5] END alpha=100.0, loss=squared_error, max_iter=5000, penalty=elasticnet, random_state=1;, score=0.747 total time=   0.0s\n",
      "[CV 5/5] END alpha=100.0, loss=squared_error, max_iter=5000, penalty=elasticnet, random_state=1;, score=0.747 total time=   0.0s\n",
      "[CV 1/5] END alpha=100.0, loss=squared_error, max_iter=5000, penalty=elasticnet, random_state=None;, score=0.747 total time=   0.0s\n",
      "[CV 2/5] END alpha=100.0, loss=squared_error, max_iter=5000, penalty=elasticnet, random_state=None;, score=0.747 total time=   0.0s\n",
      "[CV 3/5] END alpha=100.0, loss=squared_error, max_iter=5000, penalty=elasticnet, random_state=None;, score=0.747 total time=   0.0s\n",
      "[CV 4/5] END alpha=100.0, loss=squared_error, max_iter=5000, penalty=elasticnet, random_state=None;, score=0.747 total time=   0.0s\n",
      "[CV 5/5] END alpha=100.0, loss=squared_error, max_iter=5000, penalty=elasticnet, random_state=None;, score=0.747 total time=   0.0s\n",
      "[CV 1/5] END alpha=100.0, loss=huber, max_iter=100, penalty=l1, random_state=1;, score=0.747 total time=   0.0s\n",
      "[CV 2/5] END alpha=100.0, loss=huber, max_iter=100, penalty=l1, random_state=1;, score=0.747 total time=   0.0s\n",
      "[CV 3/5] END alpha=100.0, loss=huber, max_iter=100, penalty=l1, random_state=1;, score=0.747 total time=   0.0s\n",
      "[CV 4/5] END alpha=100.0, loss=huber, max_iter=100, penalty=l1, random_state=1;, score=0.747 total time=   0.0s\n",
      "[CV 5/5] END alpha=100.0, loss=huber, max_iter=100, penalty=l1, random_state=1;, score=0.747 total time=   0.0s\n",
      "[CV 1/5] END alpha=100.0, loss=huber, max_iter=100, penalty=l1, random_state=None;, score=0.747 total time=   0.0s\n",
      "[CV 2/5] END alpha=100.0, loss=huber, max_iter=100, penalty=l1, random_state=None;, score=0.747 total time=   0.0s\n",
      "[CV 3/5] END alpha=100.0, loss=huber, max_iter=100, penalty=l1, random_state=None;, score=0.747 total time=   0.0s\n",
      "[CV 4/5] END alpha=100.0, loss=huber, max_iter=100, penalty=l1, random_state=None;, score=0.747 total time=   0.0s\n",
      "[CV 5/5] END alpha=100.0, loss=huber, max_iter=100, penalty=l1, random_state=None;, score=0.253 total time=   0.0s\n",
      "[CV 1/5] END alpha=100.0, loss=huber, max_iter=100, penalty=l2, random_state=1;, score=0.747 total time=   0.0s\n",
      "[CV 2/5] END alpha=100.0, loss=huber, max_iter=100, penalty=l2, random_state=1;, score=0.747 total time=   0.0s\n"
     ]
    },
    {
     "name": "stdout",
     "output_type": "stream",
     "text": [
      "[CV 3/5] END alpha=100.0, loss=huber, max_iter=100, penalty=l2, random_state=1;, score=0.747 total time=   0.0s\n",
      "[CV 4/5] END alpha=100.0, loss=huber, max_iter=100, penalty=l2, random_state=1;, score=0.747 total time=   0.0s\n",
      "[CV 5/5] END alpha=100.0, loss=huber, max_iter=100, penalty=l2, random_state=1;, score=0.747 total time=   0.0s\n",
      "[CV 1/5] END alpha=100.0, loss=huber, max_iter=100, penalty=l2, random_state=None;, score=0.253 total time=   0.0s\n",
      "[CV 2/5] END alpha=100.0, loss=huber, max_iter=100, penalty=l2, random_state=None;, score=0.747 total time=   0.0s\n",
      "[CV 3/5] END alpha=100.0, loss=huber, max_iter=100, penalty=l2, random_state=None;, score=0.747 total time=   0.0s\n",
      "[CV 4/5] END alpha=100.0, loss=huber, max_iter=100, penalty=l2, random_state=None;, score=0.747 total time=   0.0s\n",
      "[CV 5/5] END alpha=100.0, loss=huber, max_iter=100, penalty=l2, random_state=None;, score=0.253 total time=   0.0s\n",
      "[CV 1/5] END alpha=100.0, loss=huber, max_iter=100, penalty=elasticnet, random_state=1;, score=0.747 total time=   0.0s\n",
      "[CV 2/5] END alpha=100.0, loss=huber, max_iter=100, penalty=elasticnet, random_state=1;, score=0.747 total time=   0.0s\n",
      "[CV 3/5] END alpha=100.0, loss=huber, max_iter=100, penalty=elasticnet, random_state=1;, score=0.747 total time=   0.0s\n",
      "[CV 4/5] END alpha=100.0, loss=huber, max_iter=100, penalty=elasticnet, random_state=1;, score=0.747 total time=   0.0s\n",
      "[CV 5/5] END alpha=100.0, loss=huber, max_iter=100, penalty=elasticnet, random_state=1;, score=0.747 total time=   0.0s\n",
      "[CV 1/5] END alpha=100.0, loss=huber, max_iter=100, penalty=elasticnet, random_state=None;, score=0.747 total time=   0.0s\n",
      "[CV 2/5] END alpha=100.0, loss=huber, max_iter=100, penalty=elasticnet, random_state=None;, score=0.253 total time=   0.1s\n",
      "[CV 3/5] END alpha=100.0, loss=huber, max_iter=100, penalty=elasticnet, random_state=None;, score=0.253 total time=   0.0s\n",
      "[CV 4/5] END alpha=100.0, loss=huber, max_iter=100, penalty=elasticnet, random_state=None;, score=0.747 total time=   0.0s\n",
      "[CV 5/5] END alpha=100.0, loss=huber, max_iter=100, penalty=elasticnet, random_state=None;, score=0.747 total time=   0.0s\n",
      "[CV 1/5] END alpha=100.0, loss=huber, max_iter=1000, penalty=l1, random_state=1;, score=0.747 total time=   0.0s\n",
      "[CV 2/5] END alpha=100.0, loss=huber, max_iter=1000, penalty=l1, random_state=1;, score=0.747 total time=   0.0s\n",
      "[CV 3/5] END alpha=100.0, loss=huber, max_iter=1000, penalty=l1, random_state=1;, score=0.747 total time=   0.0s\n",
      "[CV 4/5] END alpha=100.0, loss=huber, max_iter=1000, penalty=l1, random_state=1;, score=0.747 total time=   0.0s\n",
      "[CV 5/5] END alpha=100.0, loss=huber, max_iter=1000, penalty=l1, random_state=1;, score=0.747 total time=   0.0s\n",
      "[CV 1/5] END alpha=100.0, loss=huber, max_iter=1000, penalty=l1, random_state=None;, score=0.747 total time=   0.0s\n",
      "[CV 2/5] END alpha=100.0, loss=huber, max_iter=1000, penalty=l1, random_state=None;, score=0.253 total time=   0.0s\n",
      "[CV 3/5] END alpha=100.0, loss=huber, max_iter=1000, penalty=l1, random_state=None;, score=0.747 total time=   0.0s\n",
      "[CV 4/5] END alpha=100.0, loss=huber, max_iter=1000, penalty=l1, random_state=None;, score=0.747 total time=   0.0s\n",
      "[CV 5/5] END alpha=100.0, loss=huber, max_iter=1000, penalty=l1, random_state=None;, score=0.253 total time=   0.0s\n",
      "[CV 1/5] END alpha=100.0, loss=huber, max_iter=1000, penalty=l2, random_state=1;, score=0.747 total time=   0.0s\n",
      "[CV 2/5] END alpha=100.0, loss=huber, max_iter=1000, penalty=l2, random_state=1;, score=0.747 total time=   0.0s\n",
      "[CV 3/5] END alpha=100.0, loss=huber, max_iter=1000, penalty=l2, random_state=1;, score=0.747 total time=   0.0s\n",
      "[CV 4/5] END alpha=100.0, loss=huber, max_iter=1000, penalty=l2, random_state=1;, score=0.747 total time=   0.0s\n",
      "[CV 5/5] END alpha=100.0, loss=huber, max_iter=1000, penalty=l2, random_state=1;, score=0.747 total time=   0.0s\n",
      "[CV 1/5] END alpha=100.0, loss=huber, max_iter=1000, penalty=l2, random_state=None;, score=0.253 total time=   0.0s\n",
      "[CV 2/5] END alpha=100.0, loss=huber, max_iter=1000, penalty=l2, random_state=None;, score=0.747 total time=   0.0s\n",
      "[CV 3/5] END alpha=100.0, loss=huber, max_iter=1000, penalty=l2, random_state=None;, score=0.747 total time=   0.0s\n",
      "[CV 4/5] END alpha=100.0, loss=huber, max_iter=1000, penalty=l2, random_state=None;, score=0.747 total time=   0.0s\n",
      "[CV 5/5] END alpha=100.0, loss=huber, max_iter=1000, penalty=l2, random_state=None;, score=0.747 total time=   0.0s\n",
      "[CV 1/5] END alpha=100.0, loss=huber, max_iter=1000, penalty=elasticnet, random_state=1;, score=0.747 total time=   0.0s\n",
      "[CV 2/5] END alpha=100.0, loss=huber, max_iter=1000, penalty=elasticnet, random_state=1;, score=0.747 total time=   0.0s\n",
      "[CV 3/5] END alpha=100.0, loss=huber, max_iter=1000, penalty=elasticnet, random_state=1;, score=0.747 total time=   0.0s\n",
      "[CV 4/5] END alpha=100.0, loss=huber, max_iter=1000, penalty=elasticnet, random_state=1;, score=0.747 total time=   0.0s\n",
      "[CV 5/5] END alpha=100.0, loss=huber, max_iter=1000, penalty=elasticnet, random_state=1;, score=0.747 total time=   0.0s\n",
      "[CV 1/5] END alpha=100.0, loss=huber, max_iter=1000, penalty=elasticnet, random_state=None;, score=0.747 total time=   0.0s\n",
      "[CV 2/5] END alpha=100.0, loss=huber, max_iter=1000, penalty=elasticnet, random_state=None;, score=0.747 total time=   0.0s\n",
      "[CV 3/5] END alpha=100.0, loss=huber, max_iter=1000, penalty=elasticnet, random_state=None;, score=0.747 total time=   0.0s\n",
      "[CV 4/5] END alpha=100.0, loss=huber, max_iter=1000, penalty=elasticnet, random_state=None;, score=0.747 total time=   0.0s\n",
      "[CV 5/5] END alpha=100.0, loss=huber, max_iter=1000, penalty=elasticnet, random_state=None;, score=0.747 total time=   0.0s\n",
      "[CV 1/5] END alpha=100.0, loss=huber, max_iter=5000, penalty=l1, random_state=1;, score=0.747 total time=   0.0s\n",
      "[CV 2/5] END alpha=100.0, loss=huber, max_iter=5000, penalty=l1, random_state=1;, score=0.747 total time=   0.0s\n",
      "[CV 3/5] END alpha=100.0, loss=huber, max_iter=5000, penalty=l1, random_state=1;, score=0.747 total time=   0.0s\n",
      "[CV 4/5] END alpha=100.0, loss=huber, max_iter=5000, penalty=l1, random_state=1;, score=0.747 total time=   0.0s\n",
      "[CV 5/5] END alpha=100.0, loss=huber, max_iter=5000, penalty=l1, random_state=1;, score=0.747 total time=   0.0s\n",
      "[CV 1/5] END alpha=100.0, loss=huber, max_iter=5000, penalty=l1, random_state=None;, score=0.747 total time=   0.0s\n",
      "[CV 2/5] END alpha=100.0, loss=huber, max_iter=5000, penalty=l1, random_state=None;, score=0.747 total time=   0.0s\n",
      "[CV 3/5] END alpha=100.0, loss=huber, max_iter=5000, penalty=l1, random_state=None;, score=0.747 total time=   0.0s\n",
      "[CV 4/5] END alpha=100.0, loss=huber, max_iter=5000, penalty=l1, random_state=None;, score=0.747 total time=   0.0s\n",
      "[CV 5/5] END alpha=100.0, loss=huber, max_iter=5000, penalty=l1, random_state=None;, score=0.747 total time=   0.0s\n",
      "[CV 1/5] END alpha=100.0, loss=huber, max_iter=5000, penalty=l2, random_state=1;, score=0.747 total time=   0.0s\n",
      "[CV 2/5] END alpha=100.0, loss=huber, max_iter=5000, penalty=l2, random_state=1;, score=0.747 total time=   0.0s\n",
      "[CV 3/5] END alpha=100.0, loss=huber, max_iter=5000, penalty=l2, random_state=1;, score=0.747 total time=   0.0s\n",
      "[CV 4/5] END alpha=100.0, loss=huber, max_iter=5000, penalty=l2, random_state=1;, score=0.747 total time=   0.0s\n",
      "[CV 5/5] END alpha=100.0, loss=huber, max_iter=5000, penalty=l2, random_state=1;, score=0.747 total time=   0.0s\n",
      "[CV 1/5] END alpha=100.0, loss=huber, max_iter=5000, penalty=l2, random_state=None;, score=0.747 total time=   0.0s\n",
      "[CV 2/5] END alpha=100.0, loss=huber, max_iter=5000, penalty=l2, random_state=None;, score=0.747 total time=   0.0s\n",
      "[CV 3/5] END alpha=100.0, loss=huber, max_iter=5000, penalty=l2, random_state=None;, score=0.253 total time=   0.0s\n",
      "[CV 4/5] END alpha=100.0, loss=huber, max_iter=5000, penalty=l2, random_state=None;, score=0.747 total time=   0.0s\n",
      "[CV 5/5] END alpha=100.0, loss=huber, max_iter=5000, penalty=l2, random_state=None;, score=0.253 total time=   0.0s\n",
      "[CV 1/5] END alpha=100.0, loss=huber, max_iter=5000, penalty=elasticnet, random_state=1;, score=0.747 total time=   0.0s\n",
      "[CV 2/5] END alpha=100.0, loss=huber, max_iter=5000, penalty=elasticnet, random_state=1;, score=0.747 total time=   0.0s\n",
      "[CV 3/5] END alpha=100.0, loss=huber, max_iter=5000, penalty=elasticnet, random_state=1;, score=0.747 total time=   0.0s\n",
      "[CV 4/5] END alpha=100.0, loss=huber, max_iter=5000, penalty=elasticnet, random_state=1;, score=0.747 total time=   0.0s\n",
      "[CV 5/5] END alpha=100.0, loss=huber, max_iter=5000, penalty=elasticnet, random_state=1;, score=0.747 total time=   0.0s\n"
     ]
    },
    {
     "name": "stdout",
     "output_type": "stream",
     "text": [
      "[CV 1/5] END alpha=100.0, loss=huber, max_iter=5000, penalty=elasticnet, random_state=None;, score=0.253 total time=   0.0s\n",
      "[CV 2/5] END alpha=100.0, loss=huber, max_iter=5000, penalty=elasticnet, random_state=None;, score=0.747 total time=   0.0s\n",
      "[CV 3/5] END alpha=100.0, loss=huber, max_iter=5000, penalty=elasticnet, random_state=None;, score=0.747 total time=   0.0s\n",
      "[CV 4/5] END alpha=100.0, loss=huber, max_iter=5000, penalty=elasticnet, random_state=None;, score=0.747 total time=   0.0s\n",
      "[CV 5/5] END alpha=100.0, loss=huber, max_iter=5000, penalty=elasticnet, random_state=None;, score=0.747 total time=   0.0s\n",
      "[CV 1/5] END alpha=100.0, loss=epsilon_insensitive, max_iter=100, penalty=l1, random_state=1;, score=0.747 total time=   0.0s\n",
      "[CV 2/5] END alpha=100.0, loss=epsilon_insensitive, max_iter=100, penalty=l1, random_state=1;, score=0.747 total time=   0.0s\n",
      "[CV 3/5] END alpha=100.0, loss=epsilon_insensitive, max_iter=100, penalty=l1, random_state=1;, score=0.747 total time=   0.0s\n",
      "[CV 4/5] END alpha=100.0, loss=epsilon_insensitive, max_iter=100, penalty=l1, random_state=1;, score=0.747 total time=   0.1s\n",
      "[CV 5/5] END alpha=100.0, loss=epsilon_insensitive, max_iter=100, penalty=l1, random_state=1;, score=0.747 total time=   0.0s\n",
      "[CV 1/5] END alpha=100.0, loss=epsilon_insensitive, max_iter=100, penalty=l1, random_state=None;, score=0.253 total time=   0.1s\n",
      "[CV 2/5] END alpha=100.0, loss=epsilon_insensitive, max_iter=100, penalty=l1, random_state=None;, score=0.747 total time=   0.0s\n",
      "[CV 3/5] END alpha=100.0, loss=epsilon_insensitive, max_iter=100, penalty=l1, random_state=None;, score=0.747 total time=   0.0s\n",
      "[CV 4/5] END alpha=100.0, loss=epsilon_insensitive, max_iter=100, penalty=l1, random_state=None;, score=0.747 total time=   0.0s\n",
      "[CV 5/5] END alpha=100.0, loss=epsilon_insensitive, max_iter=100, penalty=l1, random_state=None;, score=0.747 total time=   0.0s\n",
      "[CV 1/5] END alpha=100.0, loss=epsilon_insensitive, max_iter=100, penalty=l2, random_state=1;, score=0.747 total time=   0.0s\n",
      "[CV 2/5] END alpha=100.0, loss=epsilon_insensitive, max_iter=100, penalty=l2, random_state=1;, score=0.747 total time=   0.0s\n",
      "[CV 3/5] END alpha=100.0, loss=epsilon_insensitive, max_iter=100, penalty=l2, random_state=1;, score=0.747 total time=   0.0s\n",
      "[CV 4/5] END alpha=100.0, loss=epsilon_insensitive, max_iter=100, penalty=l2, random_state=1;, score=0.747 total time=   0.0s\n",
      "[CV 5/5] END alpha=100.0, loss=epsilon_insensitive, max_iter=100, penalty=l2, random_state=1;, score=0.747 total time=   0.0s\n",
      "[CV 1/5] END alpha=100.0, loss=epsilon_insensitive, max_iter=100, penalty=l2, random_state=None;, score=0.253 total time=   0.0s\n",
      "[CV 2/5] END alpha=100.0, loss=epsilon_insensitive, max_iter=100, penalty=l2, random_state=None;, score=0.253 total time=   0.0s\n",
      "[CV 3/5] END alpha=100.0, loss=epsilon_insensitive, max_iter=100, penalty=l2, random_state=None;, score=0.747 total time=   0.0s\n",
      "[CV 4/5] END alpha=100.0, loss=epsilon_insensitive, max_iter=100, penalty=l2, random_state=None;, score=0.747 total time=   0.0s\n",
      "[CV 5/5] END alpha=100.0, loss=epsilon_insensitive, max_iter=100, penalty=l2, random_state=None;, score=0.747 total time=   0.0s\n",
      "[CV 1/5] END alpha=100.0, loss=epsilon_insensitive, max_iter=100, penalty=elasticnet, random_state=1;, score=0.747 total time=   0.0s\n",
      "[CV 2/5] END alpha=100.0, loss=epsilon_insensitive, max_iter=100, penalty=elasticnet, random_state=1;, score=0.747 total time=   0.0s\n",
      "[CV 3/5] END alpha=100.0, loss=epsilon_insensitive, max_iter=100, penalty=elasticnet, random_state=1;, score=0.747 total time=   0.0s\n",
      "[CV 4/5] END alpha=100.0, loss=epsilon_insensitive, max_iter=100, penalty=elasticnet, random_state=1;, score=0.747 total time=   0.0s\n",
      "[CV 5/5] END alpha=100.0, loss=epsilon_insensitive, max_iter=100, penalty=elasticnet, random_state=1;, score=0.747 total time=   0.0s\n",
      "[CV 1/5] END alpha=100.0, loss=epsilon_insensitive, max_iter=100, penalty=elasticnet, random_state=None;, score=0.253 total time=   0.0s\n",
      "[CV 2/5] END alpha=100.0, loss=epsilon_insensitive, max_iter=100, penalty=elasticnet, random_state=None;, score=0.253 total time=   0.0s\n",
      "[CV 3/5] END alpha=100.0, loss=epsilon_insensitive, max_iter=100, penalty=elasticnet, random_state=None;, score=0.253 total time=   0.0s\n",
      "[CV 4/5] END alpha=100.0, loss=epsilon_insensitive, max_iter=100, penalty=elasticnet, random_state=None;, score=0.747 total time=   0.0s\n",
      "[CV 5/5] END alpha=100.0, loss=epsilon_insensitive, max_iter=100, penalty=elasticnet, random_state=None;, score=0.747 total time=   0.0s\n",
      "[CV 1/5] END alpha=100.0, loss=epsilon_insensitive, max_iter=1000, penalty=l1, random_state=1;, score=0.747 total time=   0.0s\n",
      "[CV 2/5] END alpha=100.0, loss=epsilon_insensitive, max_iter=1000, penalty=l1, random_state=1;, score=0.747 total time=   0.0s\n",
      "[CV 3/5] END alpha=100.0, loss=epsilon_insensitive, max_iter=1000, penalty=l1, random_state=1;, score=0.747 total time=   0.0s\n",
      "[CV 4/5] END alpha=100.0, loss=epsilon_insensitive, max_iter=1000, penalty=l1, random_state=1;, score=0.747 total time=   0.0s\n",
      "[CV 5/5] END alpha=100.0, loss=epsilon_insensitive, max_iter=1000, penalty=l1, random_state=1;, score=0.747 total time=   0.0s\n",
      "[CV 1/5] END alpha=100.0, loss=epsilon_insensitive, max_iter=1000, penalty=l1, random_state=None;, score=0.747 total time=   0.0s\n",
      "[CV 2/5] END alpha=100.0, loss=epsilon_insensitive, max_iter=1000, penalty=l1, random_state=None;, score=0.253 total time=   0.0s\n",
      "[CV 3/5] END alpha=100.0, loss=epsilon_insensitive, max_iter=1000, penalty=l1, random_state=None;, score=0.253 total time=   0.0s\n",
      "[CV 4/5] END alpha=100.0, loss=epsilon_insensitive, max_iter=1000, penalty=l1, random_state=None;, score=0.747 total time=   0.0s\n",
      "[CV 5/5] END alpha=100.0, loss=epsilon_insensitive, max_iter=1000, penalty=l1, random_state=None;, score=0.747 total time=   0.0s\n",
      "[CV 1/5] END alpha=100.0, loss=epsilon_insensitive, max_iter=1000, penalty=l2, random_state=1;, score=0.747 total time=   0.0s\n",
      "[CV 2/5] END alpha=100.0, loss=epsilon_insensitive, max_iter=1000, penalty=l2, random_state=1;, score=0.747 total time=   0.0s\n",
      "[CV 3/5] END alpha=100.0, loss=epsilon_insensitive, max_iter=1000, penalty=l2, random_state=1;, score=0.747 total time=   0.0s\n",
      "[CV 4/5] END alpha=100.0, loss=epsilon_insensitive, max_iter=1000, penalty=l2, random_state=1;, score=0.747 total time=   0.0s\n",
      "[CV 5/5] END alpha=100.0, loss=epsilon_insensitive, max_iter=1000, penalty=l2, random_state=1;, score=0.747 total time=   0.0s\n",
      "[CV 1/5] END alpha=100.0, loss=epsilon_insensitive, max_iter=1000, penalty=l2, random_state=None;, score=0.253 total time=   0.0s\n",
      "[CV 2/5] END alpha=100.0, loss=epsilon_insensitive, max_iter=1000, penalty=l2, random_state=None;, score=0.747 total time=   0.0s\n",
      "[CV 3/5] END alpha=100.0, loss=epsilon_insensitive, max_iter=1000, penalty=l2, random_state=None;, score=0.747 total time=   0.0s\n",
      "[CV 4/5] END alpha=100.0, loss=epsilon_insensitive, max_iter=1000, penalty=l2, random_state=None;, score=0.747 total time=   0.0s\n",
      "[CV 5/5] END alpha=100.0, loss=epsilon_insensitive, max_iter=1000, penalty=l2, random_state=None;, score=0.747 total time=   0.0s\n",
      "[CV 1/5] END alpha=100.0, loss=epsilon_insensitive, max_iter=1000, penalty=elasticnet, random_state=1;, score=0.747 total time=   0.1s\n",
      "[CV 2/5] END alpha=100.0, loss=epsilon_insensitive, max_iter=1000, penalty=elasticnet, random_state=1;, score=0.747 total time=   0.0s\n",
      "[CV 3/5] END alpha=100.0, loss=epsilon_insensitive, max_iter=1000, penalty=elasticnet, random_state=1;, score=0.747 total time=   0.0s\n",
      "[CV 4/5] END alpha=100.0, loss=epsilon_insensitive, max_iter=1000, penalty=elasticnet, random_state=1;, score=0.747 total time=   0.0s\n",
      "[CV 5/5] END alpha=100.0, loss=epsilon_insensitive, max_iter=1000, penalty=elasticnet, random_state=1;, score=0.747 total time=   0.0s\n",
      "[CV 1/5] END alpha=100.0, loss=epsilon_insensitive, max_iter=1000, penalty=elasticnet, random_state=None;, score=0.747 total time=   0.0s\n",
      "[CV 2/5] END alpha=100.0, loss=epsilon_insensitive, max_iter=1000, penalty=elasticnet, random_state=None;, score=0.747 total time=   0.0s\n",
      "[CV 3/5] END alpha=100.0, loss=epsilon_insensitive, max_iter=1000, penalty=elasticnet, random_state=None;, score=0.747 total time=   0.0s\n",
      "[CV 4/5] END alpha=100.0, loss=epsilon_insensitive, max_iter=1000, penalty=elasticnet, random_state=None;, score=0.747 total time=   0.0s\n"
     ]
    },
    {
     "name": "stdout",
     "output_type": "stream",
     "text": [
      "[CV 5/5] END alpha=100.0, loss=epsilon_insensitive, max_iter=1000, penalty=elasticnet, random_state=None;, score=0.747 total time=   0.0s\n",
      "[CV 1/5] END alpha=100.0, loss=epsilon_insensitive, max_iter=5000, penalty=l1, random_state=1;, score=0.747 total time=   0.1s\n",
      "[CV 2/5] END alpha=100.0, loss=epsilon_insensitive, max_iter=5000, penalty=l1, random_state=1;, score=0.747 total time=   0.1s\n",
      "[CV 3/5] END alpha=100.0, loss=epsilon_insensitive, max_iter=5000, penalty=l1, random_state=1;, score=0.747 total time=   0.0s\n",
      "[CV 4/5] END alpha=100.0, loss=epsilon_insensitive, max_iter=5000, penalty=l1, random_state=1;, score=0.747 total time=   0.0s\n",
      "[CV 5/5] END alpha=100.0, loss=epsilon_insensitive, max_iter=5000, penalty=l1, random_state=1;, score=0.747 total time=   0.0s\n",
      "[CV 1/5] END alpha=100.0, loss=epsilon_insensitive, max_iter=5000, penalty=l1, random_state=None;, score=0.253 total time=   0.0s\n",
      "[CV 2/5] END alpha=100.0, loss=epsilon_insensitive, max_iter=5000, penalty=l1, random_state=None;, score=0.747 total time=   0.0s\n",
      "[CV 3/5] END alpha=100.0, loss=epsilon_insensitive, max_iter=5000, penalty=l1, random_state=None;, score=0.747 total time=   0.0s\n",
      "[CV 4/5] END alpha=100.0, loss=epsilon_insensitive, max_iter=5000, penalty=l1, random_state=None;, score=0.747 total time=   0.0s\n",
      "[CV 5/5] END alpha=100.0, loss=epsilon_insensitive, max_iter=5000, penalty=l1, random_state=None;, score=0.253 total time=   0.0s\n",
      "[CV 1/5] END alpha=100.0, loss=epsilon_insensitive, max_iter=5000, penalty=l2, random_state=1;, score=0.747 total time=   0.0s\n",
      "[CV 2/5] END alpha=100.0, loss=epsilon_insensitive, max_iter=5000, penalty=l2, random_state=1;, score=0.747 total time=   0.0s\n",
      "[CV 3/5] END alpha=100.0, loss=epsilon_insensitive, max_iter=5000, penalty=l2, random_state=1;, score=0.747 total time=   0.0s\n",
      "[CV 4/5] END alpha=100.0, loss=epsilon_insensitive, max_iter=5000, penalty=l2, random_state=1;, score=0.747 total time=   0.0s\n",
      "[CV 5/5] END alpha=100.0, loss=epsilon_insensitive, max_iter=5000, penalty=l2, random_state=1;, score=0.747 total time=   0.0s\n",
      "[CV 1/5] END alpha=100.0, loss=epsilon_insensitive, max_iter=5000, penalty=l2, random_state=None;, score=0.747 total time=   0.0s\n",
      "[CV 2/5] END alpha=100.0, loss=epsilon_insensitive, max_iter=5000, penalty=l2, random_state=None;, score=0.747 total time=   0.0s\n",
      "[CV 3/5] END alpha=100.0, loss=epsilon_insensitive, max_iter=5000, penalty=l2, random_state=None;, score=0.747 total time=   0.0s\n",
      "[CV 4/5] END alpha=100.0, loss=epsilon_insensitive, max_iter=5000, penalty=l2, random_state=None;, score=0.747 total time=   0.0s\n",
      "[CV 5/5] END alpha=100.0, loss=epsilon_insensitive, max_iter=5000, penalty=l2, random_state=None;, score=0.747 total time=   0.0s\n",
      "[CV 1/5] END alpha=100.0, loss=epsilon_insensitive, max_iter=5000, penalty=elasticnet, random_state=1;, score=0.747 total time=   0.0s\n",
      "[CV 2/5] END alpha=100.0, loss=epsilon_insensitive, max_iter=5000, penalty=elasticnet, random_state=1;, score=0.747 total time=   0.0s\n",
      "[CV 3/5] END alpha=100.0, loss=epsilon_insensitive, max_iter=5000, penalty=elasticnet, random_state=1;, score=0.747 total time=   0.0s\n",
      "[CV 4/5] END alpha=100.0, loss=epsilon_insensitive, max_iter=5000, penalty=elasticnet, random_state=1;, score=0.747 total time=   0.0s\n",
      "[CV 5/5] END alpha=100.0, loss=epsilon_insensitive, max_iter=5000, penalty=elasticnet, random_state=1;, score=0.747 total time=   0.0s\n",
      "[CV 1/5] END alpha=100.0, loss=epsilon_insensitive, max_iter=5000, penalty=elasticnet, random_state=None;, score=0.253 total time=   0.0s\n",
      "[CV 2/5] END alpha=100.0, loss=epsilon_insensitive, max_iter=5000, penalty=elasticnet, random_state=None;, score=0.747 total time=   0.0s\n",
      "[CV 3/5] END alpha=100.0, loss=epsilon_insensitive, max_iter=5000, penalty=elasticnet, random_state=None;, score=0.747 total time=   0.0s\n",
      "[CV 4/5] END alpha=100.0, loss=epsilon_insensitive, max_iter=5000, penalty=elasticnet, random_state=None;, score=0.747 total time=   0.0s\n",
      "[CV 5/5] END alpha=100.0, loss=epsilon_insensitive, max_iter=5000, penalty=elasticnet, random_state=None;, score=0.747 total time=   0.0s\n"
     ]
    },
    {
     "data": {
      "text/plain": [
       "GridSearchCV(estimator=SGDClassifier(),\n",
       "             param_grid={'alpha': [0.0001, 0.1, 100.0],\n",
       "                         'loss': ['hinge', 'log', 'perceptron', 'squared_error',\n",
       "                                  'huber', 'epsilon_insensitive'],\n",
       "                         'max_iter': [100, 1000, 5000],\n",
       "                         'penalty': ['l1', 'l2', 'elasticnet'],\n",
       "                         'random_state': [1, None]},\n",
       "             verbose=3)"
      ]
     },
     "execution_count": 18,
     "metadata": {},
     "output_type": "execute_result"
    }
   ],
   "source": [
    "grid.fit(X_train, y_train)"
   ]
  },
  {
   "cell_type": "code",
   "execution_count": 19,
   "id": "659e81ef",
   "metadata": {},
   "outputs": [
    {
     "name": "stdout",
     "output_type": "stream",
     "text": [
      "the best combination is : SGDClassifier(loss='log', max_iter=5000, penalty='l1')\n"
     ]
    }
   ],
   "source": [
    "print(\"the best combination is :\" ,grid.best_estimator_ )"
   ]
  },
  {
   "cell_type": "code",
   "execution_count": 20,
   "id": "8acb017f",
   "metadata": {},
   "outputs": [],
   "source": [
    "grid_predictions = grid.predict(X_test)"
   ]
  },
  {
   "cell_type": "code",
   "execution_count": 30,
   "id": "4a1029ec",
   "metadata": {},
   "outputs": [
    {
     "data": {
      "image/png": "[encoded data removed]",
      "text/plain": [
       "<Figure size 432x288 with 2 Axes>"
      ]
     },
     "metadata": {
      "needs_background": "light"
     },
     "output_type": "display_data"
    }
   ],
   "source": [
    "SGD_model = SGDClassifier(loss='log', max_iter=5000, penalty='l1')\n",
    "SGD_model.fit(X_train, y_train)\n",
    "grid_predictions = SGD_model.predict(X_test)\n",
    "ConfusionMatrixDisplay(confusion_matrix=confusion_matrix(y_test, grid_predictions)).plot();"
   ]
  },
  {
   "cell_type": "code",
   "execution_count": 31,
   "id": "aef235ab",
   "metadata": {},
   "outputs": [
    {
     "name": "stdout",
     "output_type": "stream",
     "text": [
      "confusion matrix is: \n",
      " [[1965  388]\n",
      " [ 291  558]]\n"
     ]
    }
   ],
   "source": [
    "print(\"confusion matrix is: \\n\", confusion_matrix(y_test,grid_predictions))"
   ]
  },
  {
   "cell_type": "code",
   "execution_count": 32,
   "id": "3dcead0e",
   "metadata": {},
   "outputs": [
    {
     "name": "stdout",
     "output_type": "stream",
     "text": [
      "Accuracy score is:  0.787945034353529 \n",
      "Precision is :  0.5898520084566596 \n",
      "Recall score is:  0.657243816254417\n"
     ]
    }
   ],
   "source": [
    "print(\"Accuracy score is: \" ,accuracy_score(grid_predictions, y_test), '\\nPrecision is : ',precision_score(y_test,grid_predictions),'\\nRecall score is: ' ,recall_score(y_test,grid_predictions))"
   ]
  },
  {
   "cell_type": "markdown",
   "id": "ab8d09a7",
   "metadata": {},
   "source": [
    "Grid search parameter tuning did not improve the initial model."
   ]
  },
  {
   "cell_type": "code",
   "execution_count": 35,
   "id": "32c87fe6",
   "metadata": {},
   "outputs": [
    {
     "data": {
      "text/html": [
       "<div>\n",
       "<style scoped>\n",
       "    .dataframe tbody tr th:only-of-type {\n",
       "        vertical-align: middle;\n",
       "    }\n",
       "\n",
       "    .dataframe tbody tr th {\n",
       "        vertical-align: top;\n",
       "    }\n",
       "\n",
       "    .dataframe thead th {\n",
       "        text-align: right;\n",
       "    }\n",
       "</style>\n",
       "<table border=\"1\" class=\"dataframe\">\n",
       "  <thead>\n",
       "    <tr style=\"text-align: right;\">\n",
       "      <th></th>\n",
       "      <th>enrollee_id</th>\n",
       "      <th>city_development_index</th>\n",
       "      <th>relevent_experience</th>\n",
       "      <th>experience</th>\n",
       "      <th>company_size</th>\n",
       "      <th>last_new_job</th>\n",
       "      <th>training_hours</th>\n",
       "      <th>target</th>\n",
       "      <th>company_type_Early Stage Startup</th>\n",
       "      <th>company_type_Funded Startup</th>\n",
       "      <th>...</th>\n",
       "      <th>city_city_84</th>\n",
       "      <th>city_city_89</th>\n",
       "      <th>city_city_9</th>\n",
       "      <th>city_city_90</th>\n",
       "      <th>city_city_91</th>\n",
       "      <th>city_city_93</th>\n",
       "      <th>city_city_94</th>\n",
       "      <th>city_city_97</th>\n",
       "      <th>city_city_98</th>\n",
       "      <th>city_city_99</th>\n",
       "    </tr>\n",
       "  </thead>\n",
       "  <tbody>\n",
       "    <tr>\n",
       "      <th>0</th>\n",
       "      <td>0.268051</td>\n",
       "      <td>0.942116</td>\n",
       "      <td>1.0</td>\n",
       "      <td>1.000000</td>\n",
       "      <td>0.000</td>\n",
       "      <td>0.25</td>\n",
       "      <td>0.104478</td>\n",
       "      <td>1.0</td>\n",
       "      <td>0.0</td>\n",
       "      <td>0.0</td>\n",
       "      <td>...</td>\n",
       "      <td>0.0</td>\n",
       "      <td>0.0</td>\n",
       "      <td>0.0</td>\n",
       "      <td>0.0</td>\n",
       "      <td>0.0</td>\n",
       "      <td>0.0</td>\n",
       "      <td>0.0</td>\n",
       "      <td>0.0</td>\n",
       "      <td>0.0</td>\n",
       "      <td>0.0</td>\n",
       "    </tr>\n",
       "    <tr>\n",
       "      <th>1</th>\n",
       "      <td>0.890497</td>\n",
       "      <td>0.654691</td>\n",
       "      <td>0.0</td>\n",
       "      <td>0.736842</td>\n",
       "      <td>0.375</td>\n",
       "      <td>1.00</td>\n",
       "      <td>0.137313</td>\n",
       "      <td>0.0</td>\n",
       "      <td>0.0</td>\n",
       "      <td>0.0</td>\n",
       "      <td>...</td>\n",
       "      <td>0.0</td>\n",
       "      <td>0.0</td>\n",
       "      <td>0.0</td>\n",
       "      <td>0.0</td>\n",
       "      <td>0.0</td>\n",
       "      <td>0.0</td>\n",
       "      <td>0.0</td>\n",
       "      <td>0.0</td>\n",
       "      <td>0.0</td>\n",
       "      <td>0.0</td>\n",
       "    </tr>\n",
       "    <tr>\n",
       "      <th>2</th>\n",
       "      <td>0.346306</td>\n",
       "      <td>0.351297</td>\n",
       "      <td>0.0</td>\n",
       "      <td>0.210526</td>\n",
       "      <td>0.000</td>\n",
       "      <td>0.00</td>\n",
       "      <td>0.244776</td>\n",
       "      <td>0.0</td>\n",
       "      <td>0.0</td>\n",
       "      <td>0.0</td>\n",
       "      <td>...</td>\n",
       "      <td>0.0</td>\n",
       "      <td>0.0</td>\n",
       "      <td>0.0</td>\n",
       "      <td>0.0</td>\n",
       "      <td>0.0</td>\n",
       "      <td>0.0</td>\n",
       "      <td>0.0</td>\n",
       "      <td>0.0</td>\n",
       "      <td>0.0</td>\n",
       "      <td>0.0</td>\n",
       "    </tr>\n",
       "    <tr>\n",
       "      <th>3</th>\n",
       "      <td>0.995836</td>\n",
       "      <td>0.680639</td>\n",
       "      <td>0.0</td>\n",
       "      <td>0.000000</td>\n",
       "      <td>0.000</td>\n",
       "      <td>0.00</td>\n",
       "      <td>0.152239</td>\n",
       "      <td>1.0</td>\n",
       "      <td>0.0</td>\n",
       "      <td>0.0</td>\n",
       "      <td>...</td>\n",
       "      <td>0.0</td>\n",
       "      <td>0.0</td>\n",
       "      <td>0.0</td>\n",
       "      <td>0.0</td>\n",
       "      <td>0.0</td>\n",
       "      <td>0.0</td>\n",
       "      <td>0.0</td>\n",
       "      <td>0.0</td>\n",
       "      <td>0.0</td>\n",
       "      <td>0.0</td>\n",
       "    </tr>\n",
       "    <tr>\n",
       "      <th>4</th>\n",
       "      <td>0.019893</td>\n",
       "      <td>0.636727</td>\n",
       "      <td>1.0</td>\n",
       "      <td>1.000000</td>\n",
       "      <td>0.375</td>\n",
       "      <td>1.00</td>\n",
       "      <td>0.020896</td>\n",
       "      <td>0.0</td>\n",
       "      <td>0.0</td>\n",
       "      <td>1.0</td>\n",
       "      <td>...</td>\n",
       "      <td>0.0</td>\n",
       "      <td>0.0</td>\n",
       "      <td>0.0</td>\n",
       "      <td>0.0</td>\n",
       "      <td>0.0</td>\n",
       "      <td>0.0</td>\n",
       "      <td>0.0</td>\n",
       "      <td>0.0</td>\n",
       "      <td>0.0</td>\n",
       "      <td>0.0</td>\n",
       "    </tr>\n",
       "  </tbody>\n",
       "</table>\n",
       "<p>5 rows × 151 columns</p>\n",
       "</div>"
      ],
      "text/plain": [
       "   enrollee_id  city_development_index  relevent_experience  experience  \\\n",
       "0     0.268051                0.942116                  1.0    1.000000   \n",
       "1     0.890497                0.654691                  0.0    0.736842   \n",
       "2     0.346306                0.351297                  0.0    0.210526   \n",
       "3     0.995836                0.680639                  0.0    0.000000   \n",
       "4     0.019893                0.636727                  1.0    1.000000   \n",
       "\n",
       "   company_size  last_new_job  training_hours  target  \\\n",
       "0         0.000          0.25        0.104478     1.0   \n",
       "1         0.375          1.00        0.137313     0.0   \n",
       "2         0.000          0.00        0.244776     0.0   \n",
       "3         0.000          0.00        0.152239     1.0   \n",
       "4         0.375          1.00        0.020896     0.0   \n",
       "\n",
       "   company_type_Early Stage Startup  company_type_Funded Startup  ...  \\\n",
       "0                               0.0                          0.0  ...   \n",
       "1                               0.0                          0.0  ...   \n",
       "2                               0.0                          0.0  ...   \n",
       "3                               0.0                          0.0  ...   \n",
       "4                               0.0                          1.0  ...   \n",
       "\n",
       "   city_city_84  city_city_89  city_city_9  city_city_90  city_city_91  \\\n",
       "0           0.0           0.0          0.0           0.0           0.0   \n",
       "1           0.0           0.0          0.0           0.0           0.0   \n",
       "2           0.0           0.0          0.0           0.0           0.0   \n",
       "3           0.0           0.0          0.0           0.0           0.0   \n",
       "4           0.0           0.0          0.0           0.0           0.0   \n",
       "\n",
       "   city_city_93  city_city_94  city_city_97  city_city_98  city_city_99  \n",
       "0           0.0           0.0           0.0           0.0           0.0  \n",
       "1           0.0           0.0           0.0           0.0           0.0  \n",
       "2           0.0           0.0           0.0           0.0           0.0  \n",
       "3           0.0           0.0           0.0           0.0           0.0  \n",
       "4           0.0           0.0           0.0           0.0           0.0  \n",
       "\n",
       "[5 rows x 151 columns]"
      ]
     },
     "execution_count": 35,
     "metadata": {},
     "output_type": "execute_result"
    }
   ],
   "source": [
    "# Drop education_level columns\n",
    "training_df = processed_data.drop('education_level',axis=1)\n",
    "training_df.head()"
   ]
  },
  {
   "cell_type": "code",
   "execution_count": 36,
   "id": "b600a553",
   "metadata": {},
   "outputs": [],
   "source": [
    "X_train, X_test, y_train, y_test = train_test_split(training_df.drop('target',axis=1), \n",
    "                                                    training_df['target'], test_size=0.20, \n",
    "                                                    random_state=42)"
   ]
  },
  {
   "cell_type": "code",
   "execution_count": 37,
   "id": "2b78901f",
   "metadata": {},
   "outputs": [
    {
     "data": {
      "text/plain": [
       "SGDClassifier(loss='log', max_iter=5000, penalty='l1')"
      ]
     },
     "execution_count": 37,
     "metadata": {},
     "output_type": "execute_result"
    }
   ],
   "source": [
    "SGD_model = SGDClassifier(loss='log', max_iter=5000, penalty='l1') #Using tuned parameteres\n",
    "SGD_model.fit(X_train, y_train)"
   ]
  },
  {
   "cell_type": "code",
   "execution_count": 38,
   "id": "4fe5b44d",
   "metadata": {},
   "outputs": [
    {
     "name": "stdout",
     "output_type": "stream",
     "text": [
      "confusion matrix is: \n",
      " [[2217  136]\n",
      " [ 608  241]]\n"
     ]
    }
   ],
   "source": [
    "SGD_predictions = SGD_model.predict(X_test)\n",
    "print(\"confusion matrix is: \\n\", confusion_matrix(y_test,SGD_predictions))"
   ]
  },
  {
   "cell_type": "code",
   "execution_count": 39,
   "id": "be257056",
   "metadata": {},
   "outputs": [
    {
     "name": "stdout",
     "output_type": "stream",
     "text": [
      "Accuracy score is:  0.7676452217364147\n"
     ]
    }
   ],
   "source": [
    "print(\"Accuracy score is: \" ,accuracy_score(SGD_predictions, y_test))"
   ]
  },
  {
   "cell_type": "code",
   "execution_count": 40,
   "id": "68d5158e",
   "metadata": {},
   "outputs": [
    {
     "name": "stdout",
     "output_type": "stream",
     "text": [
      "Accuracy score is:  0.7676452217364147 \n",
      "Precision is :  0.6392572944297082 \n",
      "Recall score is:  0.2838633686690224\n"
     ]
    }
   ],
   "source": [
    "\n",
    "print(\"Accuracy score is: \" ,accuracy_score(SGD_predictions, y_test), '\\nPrecision is : ',precision_score(y_test,SGD_predictions),'\\nRecall score is: ' ,recall_score(y_test,SGD_predictions))"
   ]
  },
  {
   "cell_type": "markdown",
   "id": "61c0b79a",
   "metadata": {},
   "source": []
  }
 ],
 "metadata": {
  "kernelspec": {
   "display_name": "Python 3 (ipykernel)",
   "language": "python",
   "name": "python3"
  },
  "language_info": {
   "codemirror_mode": {
    "name": "ipython",
    "version": 3
   },
   "file_extension": ".py",
   "mimetype": "text/x-python",
   "name": "python",
   "nbconvert_exporter": "python",
   "pygments_lexer": "ipython3",
   "version": "3.9.7"
  }
 },
 "nbformat": 4,
 "nbformat_minor": 5
}
